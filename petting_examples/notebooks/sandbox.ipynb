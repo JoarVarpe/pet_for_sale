{
 "cells": [
  {
   "cell_type": "code",
   "execution_count": 2,
   "id": "9d03d0e2-1c36-4c50-9295-343fa1e1adf5",
   "metadata": {},
   "outputs": [
    {
     "name": "stderr",
     "output_type": "stream",
     "text": [
      "\n"
     ]
    }
   ],
   "source": [
    "import numpy as np\n",
    "from for_sale_env_r1.fs_first_round import env as fs_env\n",
    "import random\n",
    "import pickle\n",
    "from collections import Counter\n",
    "from itertools import permutations"
   ]
  },
  {
   "cell_type": "code",
   "execution_count": 5,
   "id": "52816aae-791e-488c-9b2e-e55d9400a8f1",
   "metadata": {},
   "outputs": [
    {
     "name": "stdout",
     "output_type": "stream",
     "text": [
      "ICMv0 move\n",
      "PPOv0 move\n",
      "PPOv1 move\n",
      "{'player_0': 'ICMv0', 'player_1': 'PPOv0', 'player_2': 'PPOv1'}\n",
      "{'player_0': 'ICMv0', 'player_1': 'PPOv1', 'player_2': 'PPOv0'}\n",
      "{'player_0': 'PPOv0', 'player_1': 'ICMv0', 'player_2': 'PPOv1'}\n",
      "{'player_0': 'PPOv0', 'player_1': 'PPOv1', 'player_2': 'ICMv0'}\n",
      "{'player_0': 'PPOv1', 'player_1': 'ICMv0', 'player_2': 'PPOv0'}\n",
      "{'player_0': 'PPOv1', 'player_1': 'PPOv0', 'player_2': 'ICMv0'}\n"
     ]
    }
   ],
   "source": [
    "\n",
    "player_models = {}\n",
    "player_models[\"ICMv0\"] = print(\"ICMv0 move\")\n",
    "player_models[\"PPOv0\"] = print(\"PPOv0 move\")\n",
    "player_models[\"PPOv1\"] = print(\"PPOv1 move\")\n",
    "\n",
    "\n",
    "model_names = [\"ICMv0\", \"PPOv0\", \"PPOv1\"]\n",
    "model_perms = permutations(model_names)\n",
    "\n",
    "env = fs_env(rounds=4)\n",
    "env.reset()\n",
    "agent_list = list(env.agents)\n",
    "for perm in model_perms:\n",
    "    action_dict = {agent_list[i]: perm[i] for i in range(len(agent_list))}\n",
    "    print(action_dict)"
   ]
  },
  {
   "cell_type": "code",
   "execution_count": 20,
   "id": "cbc398b1-16ea-41ff-85f6-ee4934ceabd3",
   "metadata": {},
   "outputs": [
    {
     "data": {
      "text/plain": [
       "42"
      ]
     },
     "execution_count": 20,
     "metadata": {},
     "output_type": "execute_result"
    }
   ],
   "source": [
    "rounds = 3\n",
    "stack = int((3 * rounds ) * 1.25)\n",
    "(1 + rounds + 1 + 1 + 1 + 1 + 1) * 3 + 3 + stack + 1\n",
    "(6+rounds)*3 + 4 + stack"
   ]
  },
  {
   "cell_type": "code",
   "execution_count": 9,
   "id": "3e2da83c-109b-4fdd-b950-33d44034f38e",
   "metadata": {},
   "outputs": [
    {
     "data": {
      "text/plain": [
       "142"
      ]
     },
     "execution_count": 9,
     "metadata": {},
     "output_type": "execute_result"
    }
   ],
   "source": [
    "(5 + 4 + 4 + 4 + 4 + 1 + 5 + 5 + 4 + 2) * 3 + 15 + 4 + 4 + 4 + 1\n"
   ]
  },
  {
   "cell_type": "code",
   "execution_count": 11,
   "id": "58c3d96d-2296-459f-99f6-ebc1dada2991",
   "metadata": {},
   "outputs": [
    {
     "data": {
      "text/plain": [
       "49"
      ]
     },
     "execution_count": 11,
     "metadata": {},
     "output_type": "execute_result"
    }
   ],
   "source": [
    " (1 + 1 + 1 + 1+ 1 + 1 + 1 + 1 + 1 + 1) * 3 + 15 + 1 + 1 + 1 + 1"
   ]
  },
  {
   "cell_type": "code",
   "execution_count": 96,
   "id": "a0986c32-ff7f-4ffc-9c69-d8d97165374c",
   "metadata": {},
   "outputs": [],
   "source": [
    "game_amount = 100000\n",
    "tsetlin_filename = \"/home/jaoi/master22/pet_for_sale/winning_games_db/4PPO_{}_tsetlined_games.pkl\".format(game_amount)\n",
    "# tsetlin_filename = \"/home/jaoi/master22/pet_for_sale/winning_games_db/{}_tsetlined_games.pkl\".format(game_amount)\n",
    "with open(tsetlin_filename, \"rb\") as fp:\n",
    "        games = pickle.load(fp)"
   ]
  },
  {
   "cell_type": "code",
   "execution_count": 110,
   "id": "c179526a-c7b0-454e-813d-f75450fbaa59",
   "metadata": {},
   "outputs": [
    {
     "name": "stdout",
     "output_type": "stream",
     "text": [
      "[(0, 254711), (4, 103646), (2, 69894), (6, 68049), (8, 47483), (3, 44887), (5, 38703), (7, 26207), (10, 20507), (9, 17464), (11, 9206), (12, 4025), (13, 1287), (1, 811), (14, 201), (15, 20), (16, 3)] 17\n"
     ]
    }
   ],
   "source": [
    "c = Counter()\n",
    "for game in games:\n",
    "    c[game[1]] += 1\n",
    "print(c.most_common(), len(c))"
   ]
  },
  {
   "cell_type": "code",
   "execution_count": 103,
   "id": "03e2f8ac-72e8-4028-b43c-fa16ddd5dad2",
   "metadata": {},
   "outputs": [],
   "source": []
  },
  {
   "cell_type": "code",
   "execution_count": 114,
   "id": "5061c396-b745-4fc5-8d68-f991c4e5ea61",
   "metadata": {},
   "outputs": [
    {
     "data": {
      "text/plain": [
       "[(13, 1258), (1, 788), (14, 199), (15, 20), (16, 3)]"
      ]
     },
     "execution_count": 114,
     "metadata": {},
     "output_type": "execute_result"
    }
   ],
   "source": [
    "c = Counter()\n",
    "for game in unique_pairs:\n",
    "    c[game[1]] += 1\n",
    "need_of_oversample = [tup for tup in c.most_common() if tup[1] < 2000]\n",
    "need_of_oversample\n",
    "# np.bincount(unique_pairs[:, 1])"
   ]
  },
  {
   "cell_type": "code",
   "execution_count": 197,
   "id": "8b25d81e-b96b-4024-a373-c0852b5afe35",
   "metadata": {},
   "outputs": [],
   "source": [
    "self_can_bet_index = 21\n",
    "where_can = []\n",
    "for i, game in enumerate(games):\n",
    "    if game[0][self_can_bet_index] == 1:\n",
    "        where_can.append(i)\n",
    "indexes = np.array(where_can)\n",
    "\n",
    "games_can_bid = games[where_can]\n"
   ]
  },
  {
   "cell_type": "code",
   "execution_count": 198,
   "id": "439fe585-ea2d-4346-98cb-b8d57c17d4ab",
   "metadata": {},
   "outputs": [
    {
     "data": {
      "text/plain": [
       "(662050, 2)"
      ]
     },
     "execution_count": 198,
     "metadata": {},
     "output_type": "execute_result"
    }
   ],
   "source": [
    "games_can_bid.shape"
   ]
  },
  {
   "cell_type": "code",
   "execution_count": 199,
   "id": "e5d32e2b-563b-415e-9a91-d7bbc9b665ef",
   "metadata": {},
   "outputs": [
    {
     "name": "stdout",
     "output_type": "stream",
     "text": [
      "[(0, 209657), (4, 103646), (2, 69894), (6, 68049), (8, 47483), (3, 44887), (5, 38703), (7, 26207), (10, 20507), (9, 17464), (11, 9206), (12, 4025), (13, 1287), (1, 811), (14, 201), (15, 20), (16, 3)] 17\n"
     ]
    }
   ],
   "source": [
    "f = Counter()\n",
    "for game in games_can_bid:\n",
    "    f[game[1]] += 1\n",
    "print(f.most_common(), len(f))"
   ]
  },
  {
   "cell_type": "code",
   "execution_count": 175,
   "id": "46b11358-5305-432a-8649-9a5abb229657",
   "metadata": {},
   "outputs": [
    {
     "name": "stdout",
     "output_type": "stream",
     "text": [
      "(524285, 2) (516553, 2)\n"
     ]
    }
   ],
   "source": [
    "def oversample(info_tup, desired_amount, source_games):\n",
    "    bob = []\n",
    "    for game in source_games:\n",
    "        if game[1] == info_tup[0]:\n",
    "            bob.append(game)\n",
    "    indexes = np.random.randint(0, info_tup[1], desired_amount - info_tup[1])\n",
    "    temp = []\n",
    "    for ind in indexes:\n",
    "        temp.append(bob[ind])\n",
    "    return np.array(temp)\n",
    "# oversample(need_of_oversample[3], 2000, unique_pairs).shape\n",
    "unique_oversample = np.copy(unique_pairs)\n",
    "temp = []\n",
    "for overnd in need_of_oversample:\n",
    "    temp.extend(oversample(overnd, 2000, unique_pairs))\n",
    "unique_oversample = np.concatenate((unique_oversample, np.array(temp)), axis=0)\n",
    "\n",
    "print(unique_oversample.shape, unique_pairs.shape)\n"
   ]
  },
  {
   "cell_type": "code",
   "execution_count": 177,
   "id": "3127f0ad-69ba-49af-99c6-592878f5bf87",
   "metadata": {},
   "outputs": [
    {
     "data": {
      "text/plain": [
       "[(0, 179058),\n",
       " (4, 79133),\n",
       " (6, 55871),\n",
       " (2, 43489),\n",
       " (3, 38945),\n",
       " (8, 34897),\n",
       " (5, 27761),\n",
       " (7, 19703),\n",
       " (10, 13970),\n",
       " (9, 12721),\n",
       " (11, 5188),\n",
       " (12, 3549),\n",
       " (1, 2000),\n",
       " (13, 2000),\n",
       " (14, 2000),\n",
       " (15, 2000),\n",
       " (16, 2000)]"
      ]
     },
     "execution_count": 177,
     "metadata": {},
     "output_type": "execute_result"
    }
   ],
   "source": [
    "{'player_0': 'ICMv0', 'player_1': 'PPOv0', 'player_2': 'PPOv1'}\n",
    "Counter({'PPOv1': 642, 'PPOv0': 420, 'ICMv0': 18})\n",
    "{'player_0': 'ICMv0', 'player_1': 'PPOv1', 'player_2': 'PPOv0'}\n",
    "Counter({'PPOv0': 820, 'PPOv1': 261, 'ICMv0': 13})\n",
    "\n",
    "{'player_0': 'PPOv0', 'player_1': 'ICMv0', 'player_2': 'PPOv1'}\n",
    "Counter({'PPOv0': 770, 'PPOv1': 279, 'ICMv0': 10})\n",
    "\n",
    "{'player_0': 'PPOv0', 'player_1': 'PPOv1', 'player_2': 'ICMv0'}\n",
    "Counter({'PPOv1': 612, 'PPOv0': 466, 'ICMv0': 9})\n",
    "\n",
    "{'player_0': 'PPOv1', 'player_1': 'ICMv0', 'player_2': 'PPOv0'}\n",
    "Counter({'PPOv1': 586, 'PPOv0': 468, 'ICMv0': 14})\n",
    "\n",
    "{'player_0': 'PPOv1', 'player_1': 'PPOv0', 'player_2': 'ICMv0'}\n",
    "Counter({'PPOv0': 746, 'PPOv1': 315, 'ICMv0': 12})"
   ]
  },
  {
   "cell_type": "code",
   "execution_count": 3,
   "id": "d9a705ec-bea6-41ab-b1d4-fc7d7135e58e",
   "metadata": {},
   "outputs": [
    {
     "data": {
      "text/plain": [
       "array([15.        ,  1.        ,  0.        , 15.        ,  4.        ,\n",
       "        1.        , 15.        ,  1.        ,  0.        , 15.        ,\n",
       "        4.        ,  2.        , 15.        ,  1.        ,  0.        ,\n",
       "       15.        ,  4.        ,  3.        , 15.        , 14.        ,\n",
       "       12.        , 11.        , 10.        ,  9.        ,  8.        ,\n",
       "        7.        ,  6.        ,  5.        ,  0.        ,  0.        ,\n",
       "        0.        ,  0.        ,  0.        , 13.        ,  4.        ,\n",
       "        2.        ,  4.78423336])"
      ]
     },
     "execution_count": 3,
     "metadata": {},
     "output_type": "execute_result"
    }
   ],
   "source": [
    "own_coins = 15\n",
    "own_hand = []\n",
    "can_bid = 1\n",
    "current_own_bid = 0\n",
    "coins_on_fold = 15\n",
    "min_board_card = 4\n",
    "own_next_round_order = 1\n",
    "\n",
    "next_coins = 15\n",
    "next_hand = []\n",
    "next_can_bid = 1\n",
    "current_next_bid = 0\n",
    "next_coins_on_fold = 15\n",
    "next_board_card = 4\n",
    "next_next_round_order = 2\n",
    "\n",
    "final_coins = 15\n",
    "final_hand = []\n",
    "final_can_bid = 1\n",
    "current_final_bid = 0\n",
    "final_coins_on_fold = 15\n",
    "final_board_card = 4\n",
    "final_next_round_order = 3\n",
    "\n",
    "stack = [15, 14, 12, 11, 10, 9, 8, 7, 6, 5, 0, 0, 0, 0, 0]\n",
    "board = [13, 4, 2]\n",
    "std = np.std(board)\n",
    "\n",
    "board_state = [\n",
    "    own_coins, own_hand, can_bid, current_own_bid, coins_on_fold, min_board_card, own_next_round_order,\n",
    "    next_coins, next_hand, next_can_bid, current_next_bid, next_coins_on_fold, next_board_card, next_next_round_order,\n",
    "    final_coins, final_hand, final_can_bid, current_final_bid, final_coins_on_fold, final_board_card, final_next_round_order,\n",
    "    stack, board, std\n",
    "]\n",
    "np.hstack(board_state)\n",
    "# def create_tsetlin_from_input_board(board_state)"
   ]
  },
  {
   "cell_type": "code",
   "execution_count": null,
   "id": "2b3c09db-9bef-4fe3-bee8-643eee9ff49f",
   "metadata": {},
   "outputs": [],
   "source": [
    "def convert_4_rounds_fs1_obs_to_bin_obs(obs):\n",
    "    # 4 rounds, so hands also need to have 4 cards ... \n",
    "    stack_len = 15\n",
    "    rounds = 4\n",
    "    # Should be 9\n",
    "    coin_numbers = [0, 6, 7, 10, 16, 17, 20, 26, 27]\n",
    "    \n",
    "    board_card_numbers = [1,2,3,4,8,11,12,13,14,18,21,22,23,24,28,45,46,47]\n",
    "    can_bet_numbers = [5,15,25]\n",
    "    order_numbers = [9,19,29]\n",
    "    std_number = 48\n",
    "    last_stack_nr = order_numbers[-1] + stack_len\n",
    "    bin_rep = []\n",
    "    onehot_of_stack = np.zeros(stack_len, dtype=\"float32\")\n",
    "    \n",
    "    # need to find out if leading by a lot 15-10, medium lead 10-5, or little lead 5-0, tied, behind by a little, medium or a lot\n",
    "    # this is found through comparing self coins and hand, with the opponents, and finding the opponent closest, or leading by the most\n",
    "    \n",
    "    p1_cards = [1,2,3,4]\n",
    "    p1_coins = 0\n",
    "    p2_cards = [11,12,13,14]\n",
    "    p2_coins = 10\n",
    "    p3_cards = [21,22,23,24]\n",
    "    p3_coins = 20\n",
    "    \n",
    "    p_values = {}\n",
    "    p_values[\"p1_val\"] = sum([obs[card] for card in p1_cards]) + obs[p1_coins]\n",
    "    p_values[\"p2_val\"] = sum([obs[card] for card in p2_cards]) + obs[p2_coins]\n",
    "    p_values[\"p3_val\"] = sum([obs[card] for card in p3_cards]) + obs[p3_coins]\n",
    "    lead_enc = np.zeros(7)\n",
    "    ascending_dict = sorted(p_values.items(), key=lambda x:x[1], reverse=True)\n",
    "    \n",
    "    if \"p1_val\" == ascending_dict[0][0]:\n",
    "        # p1 is leading\n",
    "        lead = p_values[\"p1_val\"] - p_values[ascending_dict[1][0]]\n",
    "    else:\n",
    "        lead = p_values[\"p1_val\"] - p_values[ascending_dict[0][0]]\n",
    "        \n",
    "    if lead > 10:\n",
    "        # large lead\n",
    "        lead_enc[0] = 1.0\n",
    "    elif lead > 5:\n",
    "        # medium lead\n",
    "        lead_enc[1] = 1.0\n",
    "    elif lead > 0:\n",
    "        # small lead\n",
    "        lead_enc[2] = 1.0\n",
    "    elif lead == 0:\n",
    "        #  even\n",
    "        lead_enc[3] = 1.0\n",
    "    elif lead < -10:\n",
    "        # large trail\n",
    "        lead_enc[6] = 1.0\n",
    "    elif lead < -5:\n",
    "        # medium trail\n",
    "        lead_enc[5] = 1.0\n",
    "    elif lead < 0:\n",
    "        # small trail\n",
    "        lead_enc[4] = 1.0\n",
    "        \n",
    "    \n",
    "    \n",
    "    \n",
    "    for i, num in enumerate(obs):\n",
    "        if i in coin_numbers:\n",
    "            bin_rep.extend(list(\"{0:05b}\".format(int(num))))\n",
    "        elif i in board_card_numbers:\n",
    "            bin_rep.extend(list(\"{0:04b}\".format(int(num))))\n",
    "        elif i in can_bet_numbers:\n",
    "            bin_rep.append(int(num))\n",
    "        elif i in order_numbers:\n",
    "            # bin_rep.extend(list(\"{0:02b}\".format(int(num))))\n",
    "            order = np.zeros(3)\n",
    "            order[1 - int(num)] = 1.0\n",
    "            bin_rep.extend(order)\n",
    "        elif i == std_number:\n",
    "            if num > (np.std([1,stack_len]) - np.std([1])) / 2:\n",
    "                bin_rep.append(1)\n",
    "            else:\n",
    "                bin_rep.append(0)\n",
    "            \n",
    "        else:\n",
    "            if i == last_stack_nr:\n",
    "                if int(num) != 0:\n",
    "                    onehot_of_stack[-int(num)] = 1\n",
    "                    bin_rep.extend(list(onehot_of_stack))\n",
    "                else:\n",
    "                    # onehot_of_stack[-int(num)] = 1\n",
    "                    bin_rep.extend(list(onehot_of_stack))\n",
    "            else:\n",
    "                if int(num) != 0:\n",
    "                    onehot_of_stack[-int(num)] = 1\n",
    "    bin_rep.extend(lead_enc)\n",
    "    # print(onehot_of_stack)\n",
    "    # print(obs[30:45], len(obs[30:45]))\n",
    "    bin_rep = np.hstack(bin_rep)\n",
    "    return bin_rep.astype(np.float32)"
   ]
  },
  {
   "cell_type": "code",
   "execution_count": null,
   "id": "c636195f-1107-40c0-b618-2252ec37ac63",
   "metadata": {},
   "outputs": [],
   "source": [
    "def find_highest_total_score(games):\n",
    "    highest = 49\n",
    "    \n",
    "    p1_cards = [1,2,3,4,]\n",
    "    p1_coins = 0\n",
    "    p2_cards = [11,12,13,14]\n",
    "    p2_coins = 10\n",
    "    p3_cards = [21,22,23,24]\n",
    "    p3_coins = 20\n",
    "    for game in games:\n",
    "        p1_score = sum([game[0][card] for card in p1_cards]) + game[0][p1_coins]\n",
    "        p2_score = sum([game[0][card] for card in p2_cards]) + game[0][p2_coins]\n",
    "        p3_score = sum([game[0][card] for card in p3_cards]) + game[0][p3_coins]\n",
    "    \n",
    "        if p1_score > highest:\n",
    "            highest = p1_score\n",
    "            print(highest)\n",
    "        if p2_score > highest:\n",
    "            highest = p2_score\n",
    "            print(highest)\n",
    "        if p3_score > highest:\n",
    "            highest = p3_score\n",
    "            print(highest)\n",
    " \n",
    "    \n",
    "find_highest_total_score(games)"
   ]
  },
  {
   "cell_type": "code",
   "execution_count": null,
   "id": "9364b92b-6071-4d5f-8000-e8e36f875cbb",
   "metadata": {},
   "outputs": [],
   "source": []
  }
 ],
 "metadata": {
  "kernelspec": {
   "display_name": "Python 3 (ipykernel)",
   "language": "python",
   "name": "python3"
  },
  "language_info": {
   "codemirror_mode": {
    "name": "ipython",
    "version": 3
   },
   "file_extension": ".py",
   "mimetype": "text/x-python",
   "name": "python",
   "nbconvert_exporter": "python",
   "pygments_lexer": "ipython3",
   "version": "3.8.12"
  }
 },
 "nbformat": 4,
 "nbformat_minor": 5
}
