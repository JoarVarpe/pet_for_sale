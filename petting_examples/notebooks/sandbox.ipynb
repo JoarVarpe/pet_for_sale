{
 "cells": [
  {
   "cell_type": "code",
   "execution_count": 1,
   "id": "9d03d0e2-1c36-4c50-9295-343fa1e1adf5",
   "metadata": {},
   "outputs": [
    {
     "name": "stderr",
     "output_type": "stream",
     "text": [
      "\n"
     ]
    }
   ],
   "source": [
    "import numpy as np\n",
    "from for_sale_env_r1.fs_first_round import env as fs_env"
   ]
  },
  {
   "cell_type": "code",
   "execution_count": 2,
   "id": "52816aae-791e-488c-9b2e-e55d9400a8f1",
   "metadata": {},
   "outputs": [
    {
     "data": {
      "text/plain": [
       "6"
      ]
     },
     "execution_count": 2,
     "metadata": {},
     "output_type": "execute_result"
    }
   ],
   "source": [
    "int(24*0.25)"
   ]
  },
  {
   "cell_type": "code",
   "execution_count": 10,
   "id": "cbc398b1-16ea-41ff-85f6-ee4934ceabd3",
   "metadata": {},
   "outputs": [
    {
     "name": "stdout",
     "output_type": "stream",
     "text": [
      "\n",
      "highest bid:  {'agent': 'player_2', 'value': 0}\n",
      "current bids by each player\n",
      "made by player:  1\n",
      "current agents in game:  deque(['player_0', 'player_1', 'player_2'])\n",
      "The agent to move:  player_0\n",
      "board:  [13, 10, 7]\n",
      "stack:  [15, 14, 13, 12, 11, 10, 9, 8, 7, 6, 5, 4, 3, 2, 1]\n",
      "coins: {'player_0': 18, 'player_1': 18, 'player_2': 18}\n",
      "cards: {'player_0': [], 'player_1': [], 'player_2': []}\n",
      "\n"
     ]
    }
   ],
   "source": [
    "env = fs_env(rounds=4)\n",
    "env.reset()\n",
    "env.render()"
   ]
  }
 ],
 "metadata": {
  "kernelspec": {
   "display_name": "Python 3 (ipykernel)",
   "language": "python",
   "name": "python3"
  },
  "language_info": {
   "codemirror_mode": {
    "name": "ipython",
    "version": 3
   },
   "file_extension": ".py",
   "mimetype": "text/x-python",
   "name": "python",
   "nbconvert_exporter": "python",
   "pygments_lexer": "ipython3",
   "version": "3.8.12"
  }
 },
 "nbformat": 4,
 "nbformat_minor": 5
}
