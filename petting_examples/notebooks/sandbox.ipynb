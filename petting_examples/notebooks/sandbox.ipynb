{
 "cells": [
  {
   "cell_type": "code",
   "execution_count": 1,
   "id": "9d03d0e2-1c36-4c50-9295-343fa1e1adf5",
   "metadata": {},
   "outputs": [
    {
     "name": "stderr",
     "output_type": "stream",
     "text": [
      "\n"
     ]
    }
   ],
   "source": [
    "import numpy as np\n",
    "from for_sale_env_r1.fs_first_round import env as fs_env\n",
    "import random\n",
    "import pickle\n",
    "from collections import Counter\n",
    "from itertools import permutations"
   ]
  },
  {
   "cell_type": "code",
   "execution_count": 5,
   "id": "52816aae-791e-488c-9b2e-e55d9400a8f1",
   "metadata": {},
   "outputs": [
    {
     "name": "stdout",
     "output_type": "stream",
     "text": [
      "ICMv0 move\n",
      "PPOv0 move\n",
      "PPOv1 move\n",
      "{'player_0': 'ICMv0', 'player_1': 'PPOv0', 'player_2': 'PPOv1'}\n",
      "{'player_0': 'ICMv0', 'player_1': 'PPOv1', 'player_2': 'PPOv0'}\n",
      "{'player_0': 'PPOv0', 'player_1': 'ICMv0', 'player_2': 'PPOv1'}\n",
      "{'player_0': 'PPOv0', 'player_1': 'PPOv1', 'player_2': 'ICMv0'}\n",
      "{'player_0': 'PPOv1', 'player_1': 'ICMv0', 'player_2': 'PPOv0'}\n",
      "{'player_0': 'PPOv1', 'player_1': 'PPOv0', 'player_2': 'ICMv0'}\n"
     ]
    }
   ],
   "source": [
    "\n",
    "player_models = {}\n",
    "player_models[\"ICMv0\"] = print(\"ICMv0 move\")\n",
    "player_models[\"PPOv0\"] = print(\"PPOv0 move\")\n",
    "player_models[\"PPOv1\"] = print(\"PPOv1 move\")\n",
    "\n",
    "\n",
    "model_names = [\"ICMv0\", \"PPOv0\", \"PPOv1\"]\n",
    "model_perms = permutations(model_names)\n",
    "\n",
    "env = fs_env(rounds=4)\n",
    "env.reset()\n",
    "agent_list = list(env.agents)\n",
    "for perm in model_perms:\n",
    "    action_dict = {agent_list[i]: perm[i] for i in range(len(agent_list))}\n",
    "    print(action_dict)"
   ]
  },
  {
   "cell_type": "code",
   "execution_count": 20,
   "id": "cbc398b1-16ea-41ff-85f6-ee4934ceabd3",
   "metadata": {},
   "outputs": [
    {
     "data": {
      "text/plain": [
       "42"
      ]
     },
     "execution_count": 20,
     "metadata": {},
     "output_type": "execute_result"
    }
   ],
   "source": [
    "rounds = 3\n",
    "stack = int((3 * rounds ) * 1.25)\n",
    "(1 + rounds + 1 + 1 + 1 + 1 + 1) * 3 + 3 + stack + 1\n",
    "(6+rounds)*3 + 4 + stack"
   ]
  },
  {
   "cell_type": "code",
   "execution_count": 9,
   "id": "3e2da83c-109b-4fdd-b950-33d44034f38e",
   "metadata": {},
   "outputs": [
    {
     "data": {
      "text/plain": [
       "142"
      ]
     },
     "execution_count": 9,
     "metadata": {},
     "output_type": "execute_result"
    }
   ],
   "source": [
    "(5 + 4 + 4 + 4 + 4 + 1 + 5 + 5 + 4 + 2) * 3 + 15 + 4 + 4 + 4 + 1\n"
   ]
  },
  {
   "cell_type": "code",
   "execution_count": 11,
   "id": "58c3d96d-2296-459f-99f6-ebc1dada2991",
   "metadata": {},
   "outputs": [
    {
     "data": {
      "text/plain": [
       "49"
      ]
     },
     "execution_count": 11,
     "metadata": {},
     "output_type": "execute_result"
    }
   ],
   "source": [
    " (1 + 1 + 1 + 1+ 1 + 1 + 1 + 1 + 1 + 1) * 3 + 15 + 1 + 1 + 1 + 1"
   ]
  },
  {
   "cell_type": "code",
   "execution_count": 96,
   "id": "a0986c32-ff7f-4ffc-9c69-d8d97165374c",
   "metadata": {},
   "outputs": [],
   "source": [
    "game_amount = 100000\n",
    "tsetlin_filename = \"/home/jaoi/master22/pet_for_sale/winning_games_db/4PPO_{}_tsetlined_games.pkl\".format(game_amount)\n",
    "# tsetlin_filename = \"/home/jaoi/master22/pet_for_sale/winning_games_db/{}_tsetlined_games.pkl\".format(game_amount)\n",
    "with open(tsetlin_filename, \"rb\") as fp:\n",
    "        games = pickle.load(fp)"
   ]
  },
  {
   "cell_type": "code",
   "execution_count": 110,
   "id": "c179526a-c7b0-454e-813d-f75450fbaa59",
   "metadata": {},
   "outputs": [
    {
     "name": "stdout",
     "output_type": "stream",
     "text": [
      "[(0, 254711), (4, 103646), (2, 69894), (6, 68049), (8, 47483), (3, 44887), (5, 38703), (7, 26207), (10, 20507), (9, 17464), (11, 9206), (12, 4025), (13, 1287), (1, 811), (14, 201), (15, 20), (16, 3)] 17\n"
     ]
    }
   ],
   "source": [
    "c = Counter()\n",
    "for game in games:\n",
    "    c[game[1]] += 1\n",
    "print(c.most_common(), len(c))"
   ]
  },
  {
   "cell_type": "code",
   "execution_count": 103,
   "id": "03e2f8ac-72e8-4028-b43c-fa16ddd5dad2",
   "metadata": {},
   "outputs": [],
   "source": []
  },
  {
   "cell_type": "code",
   "execution_count": 114,
   "id": "5061c396-b745-4fc5-8d68-f991c4e5ea61",
   "metadata": {},
   "outputs": [
    {
     "data": {
      "text/plain": [
       "[(13, 1258), (1, 788), (14, 199), (15, 20), (16, 3)]"
      ]
     },
     "execution_count": 114,
     "metadata": {},
     "output_type": "execute_result"
    }
   ],
   "source": [
    "c = Counter()\n",
    "for game in unique_pairs:\n",
    "    c[game[1]] += 1\n",
    "need_of_oversample = [tup for tup in c.most_common() if tup[1] < 2000]\n",
    "need_of_oversample\n",
    "# np.bincount(unique_pairs[:, 1])"
   ]
  },
  {
   "cell_type": "code",
   "execution_count": 197,
   "id": "8b25d81e-b96b-4024-a373-c0852b5afe35",
   "metadata": {},
   "outputs": [],
   "source": [
    "self_can_bet_index = 21\n",
    "where_can = []\n",
    "for i, game in enumerate(games):\n",
    "    if game[0][self_can_bet_index] == 1:\n",
    "        where_can.append(i)\n",
    "indexes = np.array(where_can)\n",
    "\n",
    "games_can_bid = games[where_can]\n"
   ]
  },
  {
   "cell_type": "code",
   "execution_count": 198,
   "id": "439fe585-ea2d-4346-98cb-b8d57c17d4ab",
   "metadata": {},
   "outputs": [
    {
     "data": {
      "text/plain": [
       "(662050, 2)"
      ]
     },
     "execution_count": 198,
     "metadata": {},
     "output_type": "execute_result"
    }
   ],
   "source": [
    "games_can_bid.shape"
   ]
  },
  {
   "cell_type": "code",
   "execution_count": 199,
   "id": "e5d32e2b-563b-415e-9a91-d7bbc9b665ef",
   "metadata": {},
   "outputs": [
    {
     "name": "stdout",
     "output_type": "stream",
     "text": [
      "[(0, 209657), (4, 103646), (2, 69894), (6, 68049), (8, 47483), (3, 44887), (5, 38703), (7, 26207), (10, 20507), (9, 17464), (11, 9206), (12, 4025), (13, 1287), (1, 811), (14, 201), (15, 20), (16, 3)] 17\n"
     ]
    }
   ],
   "source": [
    "f = Counter()\n",
    "for game in games_can_bid:\n",
    "    f[game[1]] += 1\n",
    "print(f.most_common(), len(f))"
   ]
  },
  {
   "cell_type": "code",
   "execution_count": 175,
   "id": "46b11358-5305-432a-8649-9a5abb229657",
   "metadata": {},
   "outputs": [
    {
     "name": "stdout",
     "output_type": "stream",
     "text": [
      "(524285, 2) (516553, 2)\n"
     ]
    }
   ],
   "source": [
    "def oversample(info_tup, desired_amount, source_games):\n",
    "    bob = []\n",
    "    for game in source_games:\n",
    "        if game[1] == info_tup[0]:\n",
    "            bob.append(game)\n",
    "    indexes = np.random.randint(0, info_tup[1], desired_amount - info_tup[1])\n",
    "    temp = []\n",
    "    for ind in indexes:\n",
    "        temp.append(bob[ind])\n",
    "    return np.array(temp)\n",
    "# oversample(need_of_oversample[3], 2000, unique_pairs).shape\n",
    "unique_oversample = np.copy(unique_pairs)\n",
    "temp = []\n",
    "for overnd in need_of_oversample:\n",
    "    temp.extend(oversample(overnd, 2000, unique_pairs))\n",
    "unique_oversample = np.concatenate((unique_oversample, np.array(temp)), axis=0)\n",
    "\n",
    "print(unique_oversample.shape, unique_pairs.shape)\n"
   ]
  },
  {
   "cell_type": "code",
   "execution_count": 177,
   "id": "3127f0ad-69ba-49af-99c6-592878f5bf87",
   "metadata": {},
   "outputs": [
    {
     "data": {
      "text/plain": [
       "[(0, 179058),\n",
       " (4, 79133),\n",
       " (6, 55871),\n",
       " (2, 43489),\n",
       " (3, 38945),\n",
       " (8, 34897),\n",
       " (5, 27761),\n",
       " (7, 19703),\n",
       " (10, 13970),\n",
       " (9, 12721),\n",
       " (11, 5188),\n",
       " (12, 3549),\n",
       " (1, 2000),\n",
       " (13, 2000),\n",
       " (14, 2000),\n",
       " (15, 2000),\n",
       " (16, 2000)]"
      ]
     },
     "execution_count": 177,
     "metadata": {},
     "output_type": "execute_result"
    }
   ],
   "source": [
    "t = Counter()\n",
    "for game in unique_oversample:\n",
    "    t[game[1]] += 1\n",
    "t.most_common()"
   ]
  }
 ],
 "metadata": {
  "kernelspec": {
   "display_name": "Python 3 (ipykernel)",
   "language": "python",
   "name": "python3"
  },
  "language_info": {
   "codemirror_mode": {
    "name": "ipython",
    "version": 3
   },
   "file_extension": ".py",
   "mimetype": "text/x-python",
   "name": "python",
   "nbconvert_exporter": "python",
   "pygments_lexer": "ipython3",
   "version": "3.8.12"
  }
 },
 "nbformat": 4,
 "nbformat_minor": 5
}
