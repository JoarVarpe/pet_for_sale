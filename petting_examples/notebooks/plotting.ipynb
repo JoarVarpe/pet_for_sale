{
 "cells": [
  {
   "cell_type": "code",
   "execution_count": 1,
   "id": "6ddb7022-f250-408a-9888-233a714f0962",
   "metadata": {},
   "outputs": [],
   "source": [
    "import seaborn as sns\n",
    "import numpy as np \n",
    "import pickle\n",
    "from collections import Counter\n",
    "import matplotlib.pyplot as plt\n"
   ]
  },
  {
   "cell_type": "code",
   "execution_count": 16,
   "id": "01f487ad-a165-4ad4-97b6-3397c25d21f4",
   "metadata": {},
   "outputs": [],
   "source": [
    "game_amount = 100000\n",
    "# filename, self_can_bet_index = \"/home/jaoi/master22/pet_for_sale/winning_games_db/4ICM_{}_games.pkl\".format(game_amount), 5\n",
    "# tsetlin_filename, ranges, self_can_bet_index = \"/home/jaoi/master22/pet_for_sale/winning_games_db/{}_tsetlined_games.pkl\".format(game_amount), 19, 17\n",
    "tsetlin_filename, ranges, self_can_bet_index = \"/home/jaoi/master22/pet_for_sale/winning_games_db/4PPO_{}_tsetlined_games.pkl\".format(game_amount), 17, 24\n",
    "with open(tsetlin_filename, \"rb\") as fp:\n",
    "        games = pickle.load(fp)"
   ]
  },
  {
   "cell_type": "code",
   "execution_count": 17,
   "id": "87d030e1-e40c-4141-87fb-e08a3bb2d36a",
   "metadata": {},
   "outputs": [
    {
     "data": {
      "text/plain": [
       "Counter({7: 26207,\n",
       "         0: 254711,\n",
       "         5: 38703,\n",
       "         8: 47483,\n",
       "         4: 103646,\n",
       "         6: 68049,\n",
       "         2: 69894,\n",
       "         3: 44887,\n",
       "         11: 9206,\n",
       "         10: 20507,\n",
       "         9: 17464,\n",
       "         12: 4025,\n",
       "         13: 1287,\n",
       "         14: 201,\n",
       "         1: 811,\n",
       "         15: 20,\n",
       "         16: 3})"
      ]
     },
     "execution_count": 17,
     "metadata": {},
     "output_type": "execute_result"
    }
   ],
   "source": [
    "ys = Counter()\n",
    "for game in games:\n",
    "    ys[game[1]] += 1\n",
    "ys"
   ]
  },
  {
   "cell_type": "code",
   "execution_count": 19,
   "id": "af952832-7cad-4ead-9479-c14f0895efd6",
   "metadata": {},
   "outputs": [
    {
     "data": {
      "text/plain": [
       "16"
      ]
     },
     "execution_count": 19,
     "metadata": {},
     "output_type": "execute_result"
    }
   ],
   "source": [
    "bets = list(range(ranges))\n",
    "votes = np.array([ys[bet] for bet in bets])\n",
    "bets_nz = bets[1:]\n",
    "votes_nz = votes[1:]\n",
    "len(bets_nz)\n",
    "len(votes_nz)"
   ]
  },
  {
   "cell_type": "code",
   "execution_count": 20,
   "id": "a31423bb-7855-44e2-8aab-fd20ce08b7c4",
   "metadata": {},
   "outputs": [],
   "source": [
    "# self_can_bet_index = 21\n",
    "\n",
    "\n",
    "where_can = []\n",
    "for i, game in enumerate(games):\n",
    "    if game[0][self_can_bet_index] == 1:\n",
    "        where_can.append(i)\n",
    "indexes = np.array(where_can)\n",
    "games_can_bid = games[indexes]"
   ]
  },
  {
   "cell_type": "code",
   "execution_count": 22,
   "id": "3bee276d-860f-4db6-884e-44bdddaecc28",
   "metadata": {},
   "outputs": [
    {
     "data": {
      "text/plain": [
       "[(0, 100241),\n",
       " (8, 19349),\n",
       " (10, 10360),\n",
       " (9, 8909),\n",
       " (7, 7145),\n",
       " (11, 6074),\n",
       " (6, 2818),\n",
       " (12, 810),\n",
       " (13, 38),\n",
       " (14, 9),\n",
       " (15, 7),\n",
       " (16, 1)]"
      ]
     },
     "execution_count": 22,
     "metadata": {},
     "output_type": "execute_result"
    }
   ],
   "source": [
    "yc = Counter()\n",
    "for game in games_can_bid:\n",
    "    yc[game[1]] += 1\n",
    "\n",
    "bets_c = list(range(ranges))\n",
    "votes_c = np.array([yc[bet] for bet in bets])    \n",
    "yc.most_common()"
   ]
  },
  {
   "cell_type": "code",
   "execution_count": 23,
   "id": "89dfa690-0b53-47c9-8f32-2fa2f1234052",
   "metadata": {},
   "outputs": [],
   "source": [
    "def remove_duplicate_pairs(games):\n",
    "    new_games = []\n",
    "    for i,game in enumerate(games):\n",
    "        int_arr = game[0].astype(int)\n",
    "        complete_arr = np.append(int_arr, game[1])\n",
    "        new_games.append(complete_arr)\n",
    "\n",
    "    new_games = np.array(new_games)\n",
    "    \n",
    "    x = np.random.rand(new_games.shape[1])\n",
    "    y = new_games.dot(x)\n",
    "    unique, index = np.unique(y, return_index=True)\n",
    "    unique_xy = new_games[index]\n",
    "    \n",
    "    unique_pairs = []\n",
    "    for game in unique_xy:\n",
    "        last, rest = game[-1], game[:-1]\n",
    "        unique_pairs.append(np.array((rest.astype(np.float32), last), dtype=object))\n",
    "    return np.array(unique_pairs)\n",
    "unique_pairs = remove_duplicate_pairs(games_can_bid)\n"
   ]
  },
  {
   "cell_type": "code",
   "execution_count": 24,
   "id": "aaac4577-03ed-46ae-8493-deed3477c445",
   "metadata": {},
   "outputs": [
    {
     "data": {
      "text/plain": [
       "[(0, 73560),\n",
       " (8, 15095),\n",
       " (10, 7639),\n",
       " (9, 7445),\n",
       " (7, 6778),\n",
       " (6, 2803),\n",
       " (11, 2443),\n",
       " (12, 758),\n",
       " (13, 37),\n",
       " (14, 9),\n",
       " (15, 7),\n",
       " (16, 1)]"
      ]
     },
     "execution_count": 24,
     "metadata": {},
     "output_type": "execute_result"
    }
   ],
   "source": [
    "ysu = Counter()\n",
    "for game in unique_pairs:\n",
    "    ysu[game[1]] += 1\n",
    "ysu.most_common()"
   ]
  },
  {
   "cell_type": "code",
   "execution_count": 25,
   "id": "bef45c45-fe2c-42a0-b67a-f23d7abcb64e",
   "metadata": {},
   "outputs": [],
   "source": [
    "bets_r = list(range(ranges))\n",
    "votes_r = np.array([ysu[bet] for bet in bets])"
   ]
  },
  {
   "cell_type": "code",
   "execution_count": 26,
   "id": "e05419c4-a21a-4191-9e79-89343f0337cf",
   "metadata": {},
   "outputs": [],
   "source": [
    "need_of_oversample = [tup for tup in ysu.most_common() if tup[1] < 2000]\n",
    "\n",
    "def oversample(info_tup, desired_amount, source_games):\n",
    "    bob = []\n",
    "    for game in source_games:\n",
    "        if game[1] == info_tup[0]:\n",
    "            bob.append(game)\n",
    "    indexes = np.random.randint(0, info_tup[1], desired_amount - info_tup[1])\n",
    "    temp = []\n",
    "    for ind in indexes:\n",
    "        temp.append(bob[ind])\n",
    "    return np.array(temp)\n",
    "\n",
    "unique_oversample = np.copy(unique_pairs)\n",
    "temp = []\n",
    "for overnd in need_of_oversample:\n",
    "    temp.extend(oversample(overnd, 2000, unique_pairs))\n",
    "unique_oversample = np.concatenate((unique_oversample, np.array(temp)), axis=0)"
   ]
  },
  {
   "cell_type": "code",
   "execution_count": 27,
   "id": "bd665a6b-894a-46d2-aa53-7b25b92e15de",
   "metadata": {},
   "outputs": [
    {
     "data": {
      "text/plain": [
       "Counter({0: 73560,\n",
       "         6: 2803,\n",
       "         7: 6778,\n",
       "         8: 15095,\n",
       "         9: 7445,\n",
       "         10: 7639,\n",
       "         11: 2443,\n",
       "         12: 2000,\n",
       "         13: 2000,\n",
       "         14: 2000,\n",
       "         15: 2000,\n",
       "         16: 2000})"
      ]
     },
     "execution_count": 27,
     "metadata": {},
     "output_type": "execute_result"
    }
   ],
   "source": [
    "uo = Counter()\n",
    "for game in unique_oversample:\n",
    "    uo[game[1]] += 1\n",
    "uo"
   ]
  },
  {
   "cell_type": "code",
   "execution_count": 28,
   "id": "e699d464-d560-4397-b956-c026fd9a5951",
   "metadata": {},
   "outputs": [],
   "source": [
    "bets_o = list(range(ranges))\n",
    "votes_o = np.array([uo[bet] for bet in bets])"
   ]
  },
  {
   "cell_type": "code",
   "execution_count": 29,
   "id": "9a6211ce-f9b5-4ce4-b3d9-4f52e09dc110",
   "metadata": {},
   "outputs": [
    {
     "data": {
      "image/png": "[encoded data removed]",
      "text/plain": [
       "<Figure size 432x288 with 1 Axes>"
      ]
     },
     "metadata": {
      "needs_background": "light"
     },
     "output_type": "display_data"
    },
    {
     "data": {
      "image/png": "[encoded data removed]",
      "text/plain": [
       "<Figure size 432x288 with 1 Axes>"
      ]
     },
     "metadata": {
      "needs_background": "light"
     },
     "output_type": "display_data"
    }
   ],
   "source": [
    "def visualize_y_distribution(classes, frequency, name=False):\n",
    "    \n",
    "    bets_n_votes = list(zip(classes, frequency))\n",
    "    bets_n_votes.sort(reverse=True, key=lambda x:x[1])\n",
    "    pal = sns.color_palette(\"Blues_d\", len(bets_n_votes) + 1)\n",
    "    bet_rank = [tup[0] for tup in bets_n_votes]\n",
    "    ax = sns.barplot(x=classes, y=frequency, palette=np.array(pal[::-1])[bet_rank])\n",
    "    ax.set(ylim=(0, 150000))\n",
    "    # ax.set(yscale=\"log\")\n",
    "    ax.set_xlabel(\"Bet type\")\n",
    "    # ax.set_ylabel(\"Bet amount\")\n",
    "    \n",
    "    if name:\n",
    "        plt.savefig(name)\n",
    "        plt.show()\n",
    "        \n",
    "    else:\n",
    "        plt.show()\n",
    "\n",
    "\n",
    "visualize_y_distribution(bets_o, votes_o, \"plots/ICM4r_oversample\")\n",
    "visualize_y_distribution(bets_c, votes_c, \"plots/ICM4r_oversample\")\n",
    "\n"
   ]
  },
  {
   "cell_type": "code",
   "execution_count": null,
   "id": "9c307bcc-78fd-42a6-9399-0a3c2b8b91c8",
   "metadata": {},
   "outputs": [],
   "source": [
    "sns.set_theme(style=\"whitegrid\")\n",
    "bets_n_votes = list(zip(bets, votes))\n",
    "bets_n_votes.sort(reverse=True, key=lambda x:x[1])\n",
    "pal = sns.color_palette(\"Blues_d\", len(bets_n_votes))\n",
    "\n",
    "bet_rank = [tup[0] for tup in bets_n_votes]\n",
    "ax = sns.barplot(x=bets, y=votes, palette=np.array(pal[::-1])[bet_rank])\n",
    "\n",
    "\n",
    "\n",
    "# np.array(pal[::-1])[rank].shape\n"
   ]
  },
  {
   "cell_type": "code",
   "execution_count": null,
   "id": "4f470557-6256-49e4-a744-06f08a1b1253",
   "metadata": {},
   "outputs": [],
   "source": [
    "\n",
    "bets_n_votes_nz = list(zip(bets_nz, votes_nz))\n",
    "bets_n_votes_nz.sort(reverse=True, key=lambda x:x[1])\n",
    "pal_nz = sns.color_palette(\"Blues_d\", len(bets_n_votes_nz))\n",
    "\n",
    "bet_rank_nz = [tup[0] for tup in bets_n_votes_nz]\n",
    "ax = sns.barplot(x=bets_nz, y=votes_nz, palette=np.array(pal[::-1])[bet_rank_nz])\n",
    "\n"
   ]
  },
  {
   "cell_type": "code",
   "execution_count": null,
   "id": "483e1903-c93b-41f5-99be-2b3975de5155",
   "metadata": {},
   "outputs": [],
   "source": []
  },
  {
   "cell_type": "code",
   "execution_count": null,
   "id": "ddcd7874-9276-4538-ab2d-b1056ae11f20",
   "metadata": {},
   "outputs": [],
   "source": []
  }
 ],
 "metadata": {
  "kernelspec": {
   "display_name": "Python 3 (ipykernel)",
   "language": "python",
   "name": "python3"
  },
  "language_info": {
   "codemirror_mode": {
    "name": "ipython",
    "version": 3
   },
   "file_extension": ".py",
   "mimetype": "text/x-python",
   "name": "python",
   "nbconvert_exporter": "python",
   "pygments_lexer": "ipython3",
   "version": "3.8.12"
  }
 },
 "nbformat": 4,
 "nbformat_minor": 5
}
