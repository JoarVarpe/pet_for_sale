{
 "cells": [
  {
   "cell_type": "code",
   "execution_count": 1,
   "id": "c66f8897-93fa-41e1-bb6c-87139fd1e1eb",
   "metadata": {},
   "outputs": [],
   "source": [
    "from tmu.tsetlin_machine import TMCoalescedClassifier\n",
    "import numpy as np \n",
    "import pickle\n",
    "import torch\n",
    "import tqdm\n",
    "from sklearn.model_selection import train_test_split\n",
    "from collections import Counter, defaultdict\n",
    "from apriori_python import apriori\n",
    "import seaborn as sns\n",
    "import matplotlib.pyplot as plt\n",
    "!export OMP_NUM_THREADS=10\n",
    "n_clauses_per_class = 8000\n",
    "treshold = int(n_clauses_per_class * 0.8)\n",
    "t1 = 500\n",
    "t2 = 1000\n",
    "t3 = 6400\n",
    "t4 = 30000\n",
    "\n",
    "s_param_e1 = 3\n",
    "s_param_e2 = 11.4\n",
    "s_param_e3 = 19.8"
   ]
  },
  {
   "cell_type": "code",
   "execution_count": 2,
   "id": "43acc14a-950e-4df0-ab98-6f52e683f745",
   "metadata": {},
   "outputs": [],
   "source": [
    "game_amount = 100000\n",
    "# tsetlin_filename, self_can_bet_index= \"/home/jaoi/master22/pet_for_sale/winning_games_db/{}_tsetlined_games.pkl\".format(game_amount), 17\n",
    "tsetlin_filename, self_can_bet_index = \"/home/jaoi/master22/pet_for_sale/winning_games_db/4PPO_{}_tsetlined_games.pkl\".format(game_amount), 21\n",
    "\n",
    "with open(tsetlin_filename, \"rb\") as fp:\n",
    "        games = pickle.load(fp)"
   ]
  },
  {
   "cell_type": "code",
   "execution_count": 4,
   "id": "d3e4db4a-01a7-4fbf-aa06-a9b55d59d93c",
   "metadata": {},
   "outputs": [],
   "source": [
    "where_can = []\n",
    "for i, game in enumerate(games):\n",
    "    if game[0][self_can_bet_index] == 1:\n",
    "        where_can.append(i)\n",
    "indexes = np.array(where_can)\n",
    "\n",
    "games_can_bid = games[indexes]\n",
    "\n",
    "def remove_duplicate_pairs(games):\n",
    "    new_games = []\n",
    "    for i,game in enumerate(games):\n",
    "        int_arr = game[0].astype(int)\n",
    "        complete_arr = np.append(int_arr, game[1])\n",
    "        new_games.append(complete_arr)\n",
    "\n",
    "    new_games = np.array(new_games)\n",
    "    \n",
    "    x = np.random.rand(new_games.shape[1])\n",
    "    y = new_games.dot(x)\n",
    "    unique, index = np.unique(y, return_index=True)\n",
    "    unique_xy = new_games[index]\n",
    "    \n",
    "    unique_pairs = []\n",
    "    for game in unique_xy:\n",
    "        last, rest = game[-1], game[:-1]\n",
    "        unique_pairs.append(np.array((rest.astype(np.float32), last), dtype=object))\n",
    "    return np.array(unique_pairs)\n",
    "unique_pairs = remove_duplicate_pairs(games_can_bid)\n",
    "\n",
    "ysu = Counter()\n",
    "for game in unique_pairs:\n",
    "    ysu[game[1]] += 1\n",
    "    \n",
    "need_of_oversample = [tup for tup in ysu.most_common() if tup[1] < 2000]\n",
    "\n",
    "def oversample(info_tup, desired_amount, source_games):\n",
    "    bob = []\n",
    "    for game in source_games:\n",
    "        if game[1] == info_tup[0]:\n",
    "            bob.append(game)\n",
    "    indexes = np.random.randint(0, info_tup[1], desired_amount - info_tup[1])\n",
    "    temp = []\n",
    "    for ind in indexes:\n",
    "        temp.append(bob[ind])\n",
    "    return np.array(temp)\n",
    "\n",
    "unique_oversample = np.copy(unique_pairs)\n",
    "temp = []\n",
    "for overnd in need_of_oversample:\n",
    "    temp.extend(oversample(overnd, 2000, unique_pairs))\n",
    "unique_oversample = np.concatenate((unique_oversample, np.array(temp)), axis=0)\n",
    "\n",
    "uo = Counter()\n",
    "for game in unique_oversample:\n",
    "    uo[game[1]] += 1"
   ]
  },
  {
   "cell_type": "code",
   "execution_count": 5,
   "id": "786e7cd8-28cb-440e-bd49-68d6c8097999",
   "metadata": {},
   "outputs": [],
   "source": [
    "x =np.array([game[0] for game in unique_oversample[:, :1]])\n",
    "y =np.array([game[0] for game in unique_oversample[:, 1:]])\n"
   ]
  },
  {
   "cell_type": "code",
   "execution_count": 6,
   "id": "2a3b0b6c-20d5-442f-a6fc-01f685a2a5af",
   "metadata": {},
   "outputs": [],
   "source": [
    "x_train, x_test, y_train, y_test = train_test_split(x, y, stratify=y, test_size=0.2)"
   ]
  },
  {
   "cell_type": "code",
   "execution_count": 7,
   "id": "1de8f22e-e60b-4e95-ab2a-78e910a2ec27",
   "metadata": {},
   "outputs": [],
   "source": [
    "cuda_e1_tm = TMCoalescedClassifier(n_clauses_per_class, t4, s_param_e1,  platform='CUDA', boost_true_positive_feedback=0)\n",
    "cuda_e2_tm = TMCoalescedClassifier(n_clauses_per_class, t4, s_param_e2,  platform='CUDA', boost_true_positive_feedback=0)\n",
    "cuda_e3_tm = TMCoalescedClassifier(n_clauses_per_class, t4, s_param_e3,  platform='CUDA', boost_true_positive_feedback=0)"
   ]
  },
  {
   "cell_type": "code",
   "execution_count": 15,
   "id": "c4f35d69-430f-42a5-b8df-dff7ecff1807",
   "metadata": {},
   "outputs": [],
   "source": [
    "cuda_e1_tmt3 = TMCoalescedClassifier(n_clauses_per_class, t3, s_param_e1,  platform='CUDA', boost_true_positive_feedback=0)\n",
    "cuda_e2_tmt3 = TMCoalescedClassifier(n_clauses_per_class, t3, s_param_e2,  platform='CUDA', boost_true_positive_feedback=0)\n",
    "cuda_e3_tmt3 = TMCoalescedClassifier(n_clauses_per_class, t3, s_param_e3,  platform='CUDA', boost_true_positive_feedback=0)"
   ]
  },
  {
   "cell_type": "code",
   "execution_count": 21,
   "id": "727f4759-f28a-45c4-ba66-c0847545126d",
   "metadata": {},
   "outputs": [],
   "source": [
    "cuda_e1_tmt2 = TMCoalescedClassifier(n_clauses_per_class, t2, s_param_e1,  platform='CUDA', boost_true_positive_feedback=0)\n",
    "cuda_e2_tmt2 = TMCoalescedClassifier(n_clauses_per_class, t2, s_param_e2,  platform='CUDA', boost_true_positive_feedback=0)\n",
    "cuda_e3_tmt2 = TMCoalescedClassifier(n_clauses_per_class, t2, s_param_e3,  platform='CUDA', boost_true_positive_feedback=0)"
   ]
  },
  {
   "cell_type": "code",
   "execution_count": 24,
   "id": "bec0140d-461f-46aa-9eaf-19d3b8fe6355",
   "metadata": {},
   "outputs": [],
   "source": [
    "cuda_e1_tmt1 = TMCoalescedClassifier(n_clauses_per_class, t1, s_param_e1,  platform='CUDA', boost_true_positive_feedback=0)\n",
    "cuda_e2_tmt1 = TMCoalescedClassifier(n_clauses_per_class, t1, s_param_e2,  platform='CUDA', boost_true_positive_feedback=0)\n",
    "cuda_e3_tmt1 = TMCoalescedClassifier(n_clauses_per_class, t1, s_param_e3,  platform='CUDA', boost_true_positive_feedback=0)"
   ]
  },
  {
   "cell_type": "code",
   "execution_count": 25,
   "id": "ead93d52-0fbe-4272-8b6b-32da0ac1529a",
   "metadata": {},
   "outputs": [
    {
     "name": "stdout",
     "output_type": "stream",
     "text": [
      "Epoch 0 Accuracy tm1: 44.8349929617851\n",
      "Epoch 0 Accuracy tm2: 71.70116260883165\n",
      "Epoch 0 Accuracy tm3: 74.62280381627653\n"
     ]
    }
   ],
   "source": [
    "epochs = 1\n",
    "for epoch in range(epochs):\n",
    "    cuda_e1_tmt1.fit(x_train, y_train)\n",
    "    cuda_e2_tmt1.fit(x_train, y_train)\n",
    "    cuda_e3_tmt1.fit(x_train, y_train)\n",
    "    \n",
    "    \n",
    "\n",
    "    print(\"Epoch {} Accuracy tm1:\".format(epoch), 100*(cuda_e1_tmt1.predict(x_test) == y_test).mean())\n",
    "    print(\"Epoch {} Accuracy tm2:\".format(epoch), 100*(cuda_e2_tmt1.predict(x_test) == y_test).mean())    \n",
    "    print(\"Epoch {} Accuracy tm3:\".format(epoch), 100*(cuda_e3_tmt1.predict(x_test) == y_test).mean())    "
   ]
  },
  {
   "cell_type": "code",
   "execution_count": 9,
   "id": "91de6463-00d7-4ded-b3ee-a038fc2114e3",
   "metadata": {},
   "outputs": [],
   "source": [
    "c_out1 = cuda_e1_tm.transform(x_test[0].reshape(1, -1))\n",
    "clauses_out1 = np.where(c_out1 == 1)[1].astype(int)\n",
    "c_out2 = cuda_e2_tm.transform(x_test[0].reshape(1, -1))\n",
    "clauses_out2 = np.where(c_out2 == 1)[1].astype(int)\n",
    "c_out3 = cuda_e3_tm.transform(x_test[0].reshape(1, -1))\n",
    "clauses_out3 = np.where(c_out3 == 1)[1].astype(int)"
   ]
  },
  {
   "cell_type": "code",
   "execution_count": 10,
   "id": "e4bc52c1-02d6-4833-937c-efc49572c1c5",
   "metadata": {},
   "outputs": [],
   "source": [
    "def prepare_tm_for_plot(x, y, tm, sigma=0):\n",
    "    c_out = tm.transform(x.reshape(1, -1))\n",
    "    clauses_out = np.where(c_out == 1)[1].astype(int)\n",
    "    mw = tm.weight_banks[y].get_weights()\n",
    "    weight_to_plot = mw[clauses_out]\n",
    "    clauses_out_r = weight_to_plot[abs(weight_to_plot) > sigma]\n",
    "    return clauses_out_r"
   ]
  },
  {
   "cell_type": "code",
   "execution_count": 26,
   "id": "86fa1e53-12e0-47dd-879c-6048a45e2ee5",
   "metadata": {},
   "outputs": [
    {
     "data": {
      "image/png": "[encoded data removed]",
      "text/plain": [
       "<Figure size 432x288 with 1 Axes>"
      ]
     },
     "metadata": {
      "needs_background": "light"
     },
     "output_type": "display_data"
    },
    {
     "data": {
      "image/png": "[encoded data removed]",
      "text/plain": [
       "<Figure size 432x288 with 1 Axes>"
      ]
     },
     "metadata": {
      "needs_background": "light"
     },
     "output_type": "display_data"
    },
    {
     "data": {
      "image/png": "[encoded data removed]",
      "text/plain": [
       "<Figure size 432x288 with 1 Axes>"
      ]
     },
     "metadata": {
      "needs_background": "light"
     },
     "output_type": "display_data"
    },
    {
     "data": {
      "image/png": "[encoded data removed]",
      "text/plain": [
       "<Figure size 432x288 with 1 Axes>"
      ]
     },
     "metadata": {
      "needs_background": "light"
     },
     "output_type": "display_data"
    },
    {
     "data": {
      "image/png": "[encoded data removed]",
      "text/plain": [
       "<Figure size 432x288 with 1 Axes>"
      ]
     },
     "metadata": {
      "needs_background": "light"
     },
     "output_type": "display_data"
    },
    {
     "data": {
      "image/png": "[encoded data removed]",
      "text/plain": [
       "<Figure size 432x288 with 1 Axes>"
      ]
     },
     "metadata": {
      "needs_background": "light"
     },
     "output_type": "display_data"
    }
   ],
   "source": [
    "plot_data1 = prepare_tm_for_plot(x_test[0], y_test[0], cuda_e1_tmt1)\n",
    "ax = sns.histplot(plot_data1)\n",
    "file = \"graphing_data/hist_T{}_S{}_{}sig.pkl\".format(t1, s_param_e1, 0)\n",
    "with open(file, \"wb\") as fp:\n",
    "    pickle.dump(plot_data1, fp)\n",
    "plt.show()\n",
    "\n",
    "plot_data1 = prepare_tm_for_plot(x_test[0], y_test[0], cuda_e1_tmt1, 40)\n",
    "ax = sns.histplot(plot_data1)\n",
    "file = \"graphing_data/hist_T{}_S{}_{}sig.pkl\".format(t1, s_param_e1, 40)\n",
    "with open(file, \"wb\") as fp:\n",
    "    pickle.dump(plot_data1, fp)\n",
    "plt.show()\n",
    "\n",
    "plot_data1 = prepare_tm_for_plot(x_test[0], y_test[0], cuda_e2_tmt1)\n",
    "ax = sns.histplot(plot_data1)\n",
    "file = \"graphing_data/hist_T{}_S{}_{}sig.pkl\".format(t1, s_param_e2, 0)\n",
    "with open(file, \"wb\") as fp:\n",
    "    pickle.dump(plot_data1, fp)\n",
    "plt.show()\n",
    "\n",
    "plot_data1 = prepare_tm_for_plot(x_test[0], y_test[0], cuda_e2_tmt1, 40)\n",
    "ax = sns.histplot(plot_data1)\n",
    "file = \"graphing_data/hist_T{}_S{}_{}sig.pkl\".format(t1, s_param_e2, 40)\n",
    "with open(file, \"wb\") as fp:\n",
    "    pickle.dump(plot_data1, fp)\n",
    "plt.show()\n",
    "\n",
    "plot_data1 = prepare_tm_for_plot(x_test[0], y_test[0], cuda_e3_tmt1)\n",
    "ax = sns.histplot(plot_data1)\n",
    "file = \"graphing_data/hist_T{}_S{}_{}sig.pkl\".format(t1, s_param_e3, 0)\n",
    "with open(file, \"wb\") as fp:\n",
    "    pickle.dump(plot_data1, fp)\n",
    "plt.show()\n",
    "    \n",
    "plot_data1 = prepare_tm_for_plot(x_test[0], y_test[0], cuda_e3_tmt1, 40)\n",
    "ax = sns.histplot(plot_data1)\n",
    "file = \"graphing_data/hist_T{}_S{}_{}sig.pkl\".format(t1, s_param_e3, 40)\n",
    "with open(file, \"wb\") as fp:\n",
    "    pickle.dump(plot_data1, fp)\n",
    "plt.show()"
   ]
  }
 ],
 "metadata": {
  "kernelspec": {
   "display_name": "Python 3 (ipykernel)",
   "language": "python",
   "name": "python3"
  },
  "language_info": {
   "codemirror_mode": {
    "name": "ipython",
    "version": 3
   },
   "file_extension": ".py",
   "mimetype": "text/x-python",
   "name": "python",
   "nbconvert_exporter": "python",
   "pygments_lexer": "ipython3",
   "version": "3.8.12"
  }
 },
 "nbformat": 4,
 "nbformat_minor": 5
}
