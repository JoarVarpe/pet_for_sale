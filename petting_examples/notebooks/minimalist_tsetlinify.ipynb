{
 "cells": [
  {
   "cell_type": "code",
   "execution_count": 1,
   "id": "faed9250-2e36-47b4-b4c3-bb5585f28b64",
   "metadata": {},
   "outputs": [],
   "source": [
    "import pickle\n",
    "import numpy as np\n",
    "from collections import Counter"
   ]
  },
  {
   "cell_type": "code",
   "execution_count": 2,
   "id": "15afa45d-479a-4cb4-b11b-0283fbdb3842",
   "metadata": {},
   "outputs": [],
   "source": [
    "number_of_games = 100000\n",
    "filename = \"/home/jaoi/master22/pet_for_sale/winning_games_db/4PPO_{}_games.pkl\".format(number_of_games)\n",
    "# with open(\"/home/jaoi/master22/pet_for_sale/winning_games_db/{}_games.pkl\".format(number_of_games), \"rb\") as fp:\n",
    "with open(filename, \"rb\") as fp:\n",
    "        games = pickle.load(fp)"
   ]
  },
  {
   "cell_type": "code",
   "execution_count": 23,
   "id": "2302195a-cb96-494e-8693-65610fcf53ed",
   "metadata": {},
   "outputs": [],
   "source": [
    "def cum_enc(num, max_num):\n",
    "    enc = np.zeros(max_num)\n",
    "    for i in range(int(num)):\n",
    "        enc[i] = 1.0\n",
    "    return enc"
   ]
  },
  {
   "cell_type": "code",
   "execution_count": 112,
   "id": "05babbe0-f833-467b-a7ed-2142a913704e",
   "metadata": {},
   "outputs": [
    {
     "data": {
      "text/plain": [
       "15"
      ]
     },
     "execution_count": 112,
     "metadata": {},
     "output_type": "execute_result"
    }
   ],
   "source": [
    "values = list(range(1, 19))"
   ]
  },
  {
   "cell_type": "code",
   "execution_count": 97,
   "id": "21c7a095-8656-4bf9-be30-ebd3d416257e",
   "metadata": {},
   "outputs": [],
   "source": [
    "def convert_4_rounds_fs1_obs_to_cum_bin_obs(obs):\n",
    "    # 4 rounds, so hands also need to have 4 cards ... \n",
    "    stack_len = 15\n",
    "    rounds = 4\n",
    "    # Should be 9\n",
    "    coin_numbers = [0, 6, 7, 10, 16, 17, 20, 26, 27]\n",
    "    \n",
    "    # board_card_numbers = [1,2,3,4,8,11,12,13,14,18,21,22,23,24,28,45,46,47]\n",
    "    board_numbers = [45,46,47]\n",
    "    can_bet_numbers = [5,15,25]\n",
    "    order_numbers = [9,19,29]\n",
    "    \n",
    "    std_number = 48\n",
    "    stack_numbers = list(range(30, 45))\n",
    "    bin_rep = []\n",
    "    onehot_of_stack = np.zeros(stack_len, dtype=\"float32\")\n",
    "    \n",
    "    p1_cards = [1,2,3,4]\n",
    "    p1_coins = 0\n",
    "    p2_cards = [11,12,13,14]\n",
    "    p2_coins = 10\n",
    "    p3_cards = [21,22,23,24]\n",
    "    p3_coins = 20\n",
    "    \n",
    "    p_values = {}\n",
    "    p_values[0] = sum([obs[card] for card in p1_cards]) + obs[p1_coins]\n",
    "    p_values[10] = sum([obs[card] for card in p2_cards]) + obs[p2_coins]\n",
    "    p_values[20] = sum([obs[card] for card in p3_cards]) + obs[p3_coins]\n",
    "    \n",
    "    \n",
    "    player_bid_numbers = [6, 16, 26]\n",
    "    p_values[player_bid_numbers[0]] = sum([obs[card] for card in p1_cards]) + obs[p1_coins] - np.ceil(obs[player_bid_numbers[0]]/2) + obs[47]\n",
    "    p_values[player_bid_numbers[1]] = sum([obs[card] for card in p2_cards]) + obs[p2_coins] - np.ceil(obs[player_bid_numbers[1]]/2) + obs[46]\n",
    "    p_values[player_bid_numbers[2]] = sum([obs[card] for card in p3_cards]) + obs[p3_coins] - obs[player_bid_numbers[2]] + obs[45]\n",
    "    \n",
    "    player_coin_numbers = [0, 10, 20]\n",
    "    \n",
    "    \n",
    "    for i, num in enumerate(obs):\n",
    "        if i in player_coin_numbers:\n",
    "            bin_rep.extend(cum_enc(num, 18))\n",
    "            # extending the cum encoding of current score\n",
    "            bin_rep.extend(cum_enc(p_values[i], 62))\n",
    "        elif i in can_bet_numbers:\n",
    "            bin_rep.append(num)\n",
    "        elif i in player_bid_numbers:\n",
    "            bin_rep.extend(cum_enc(num, 18))\n",
    "            bin_rep.extend(cum_enc(p_values[i], 62))\n",
    "        elif i in order_numbers:\n",
    "            order = np.zeros(3)\n",
    "            order[int(num)-1] = 1.0\n",
    "            bin_rep.extend(order)\n",
    "        elif i in board_numbers:\n",
    "            bin_rep.extend(cum_enc(num, 15))\n",
    "        elif i in stack_numbers:\n",
    "            if i == stack_numbers[-1]:\n",
    "                if int(num) != 0:\n",
    "                    onehot_of_stack[int(num) - 1] = 1\n",
    "                    bin_rep.extend(list(onehot_of_stack))\n",
    "                else:\n",
    "                    # onehot_of_stack[-int(num)] = 1\n",
    "                    bin_rep.extend(list(onehot_of_stack))\n",
    "            else:\n",
    "                if int(num) != 0:\n",
    "                    onehot_of_stack[int(num)- 1] = 1\n",
    "        elif i == std_number:\n",
    "            if num > (np.std([1,stack_len]) - np.std([1, 2])) / 2:\n",
    "                bin_rep.append(1)\n",
    "            else:\n",
    "                bin_rep.append(0)\n",
    "        # print(p_values[player_bid_numbers[0]], p_values[player_bid_numbers[1]], p_values[player_bid_numbers[2]])\n",
    "        \n",
    "        \n",
    "       \n",
    "        \n",
    "  \n",
    "    \n",
    "    # print(obs)\n",
    "    # print(p_values[0], p_values[10], p_values[20])\n",
    "    # print(obs[6]/2, obs[16]/2, obs[26])\n",
    "    # print(obs[47], obs[46], obs[45])\n",
    "    # print(p1_score_on_fold, p2_score_on_fold, p3_score_on_fold)\n",
    "\n",
    "    # print(onehot_of_stack)\n",
    "    # print(obs[30:45], len(obs[30:45]))\n",
    "    bin_rep = np.hstack(bin_rep)\n",
    "    return bin_rep.astype(np.float32)"
   ]
  },
  {
   "cell_type": "code",
   "execution_count": 101,
   "id": "070cd6c4-de64-4366-8638-13d0bbe7d3e9",
   "metadata": {},
   "outputs": [
    {
     "data": {
      "text/plain": [
       "553"
      ]
     },
     "execution_count": 101,
     "metadata": {},
     "output_type": "execute_result"
    }
   ],
   "source": [
    "(18 + 62 + 18 + 62 + 3 + 1) * 3 + 3 * 15 + 15 + 1 "
   ]
  },
  {
   "cell_type": "code",
   "execution_count": 104,
   "id": "c478c416-f9f9-49f5-8eb7-5776cf404a2f",
   "metadata": {},
   "outputs": [
    {
     "data": {
      "text/plain": [
       "163"
      ]
     },
     "execution_count": 104,
     "metadata": {},
     "output_type": "execute_result"
    }
   ],
   "source": [
    "18+62+18+62+3+1-1"
   ]
  },
  {
   "cell_type": "code",
   "execution_count": 91,
   "id": "b360779a-52d8-4688-9dd0-c881a602482b",
   "metadata": {},
   "outputs": [
    {
     "name": "stdout",
     "output_type": "stream",
     "text": [
      "50.0\n"
     ]
    }
   ],
   "source": [
    "def find_highest_total_score(games):\n",
    "    highest = 49\n",
    "    \n",
    "    p1_cards = [1,2,3,4,]\n",
    "    p1_coins = 0\n",
    "    p2_cards = [11,12,13,14]\n",
    "    p2_coins = 10\n",
    "    p3_cards = [21,22,23,24]\n",
    "    p3_coins = 20\n",
    "    for game in games:\n",
    "        p1_score = sum([game[0][card] for card in p1_cards]) + game[0][p1_coins]\n",
    "        p2_score = sum([game[0][card] for card in p2_cards]) + game[0][p2_coins]\n",
    "        p3_score = sum([game[0][card] for card in p3_cards]) + game[0][p3_coins]\n",
    "    \n",
    "        if p1_score > highest:\n",
    "            highest = p1_score\n",
    "            print(highest)\n",
    "        if p2_score > highest:\n",
    "            highest = p2_score\n",
    "            print(highest)\n",
    "        if p3_score > highest:\n",
    "            highest = p3_score\n",
    "            print(highest)\n",
    " \n",
    "    \n",
    "find_highest_total_score(games)"
   ]
  },
  {
   "cell_type": "code",
   "execution_count": 98,
   "id": "5d305962-c206-485c-8b97-645da62aaaca",
   "metadata": {},
   "outputs": [
    {
     "data": {
      "text/plain": [
       "(553,)"
      ]
     },
     "execution_count": 98,
     "metadata": {},
     "output_type": "execute_result"
    }
   ],
   "source": [
    "convert_4_rounds_fs1_obs_to_cum_bin_obs(games[0][0]).shape\n"
   ]
  },
  {
   "cell_type": "code",
   "execution_count": 99,
   "id": "268a900d-43b9-4707-b9fe-869ca7122902",
   "metadata": {},
   "outputs": [
    {
     "name": "stdout",
     "output_type": "stream",
     "text": [
      "Counter({(553,): 707104})\n"
     ]
    }
   ],
   "source": [
    "c = Counter()\n",
    "tsetlinified_games = []\n",
    "for i, game in enumerate(games):\n",
    "    tset_game = convert_4_rounds_fs1_obs_to_cum_bin_obs(game[0])\n",
    "    c[tset_game.shape] += 1\n",
    "    \n",
    "    tsetlinified_games.append((tset_game, game[1]))\n",
    "\n",
    "\n",
    "print(c)\n",
    "tsetlinified_games = np.array(tsetlinified_games, dtype=object)\n"
   ]
  },
  {
   "cell_type": "code",
   "execution_count": 100,
   "id": "b94b178e-b4af-4266-8f78-f119bdafb1c9",
   "metadata": {},
   "outputs": [],
   "source": [
    "tsetlin_filename = \"/home/jaoi/master22/pet_for_sale/winning_games_db/4PPO_{}_cum_tsetlined_games.pkl\".format(number_of_games)\n",
    "with open(tsetlin_filename, \"wb\") as fp:\n",
    "        pickle.dump(tsetlinified_games, fp)"
   ]
  }
 ],
 "metadata": {
  "kernelspec": {
   "display_name": "Python 3 (ipykernel)",
   "language": "python",
   "name": "python3"
  },
  "language_info": {
   "codemirror_mode": {
    "name": "ipython",
    "version": 3
   },
   "file_extension": ".py",
   "mimetype": "text/x-python",
   "name": "python",
   "nbconvert_exporter": "python",
   "pygments_lexer": "ipython3",
   "version": "3.8.12"
  }
 },
 "nbformat": 4,
 "nbformat_minor": 5
}
