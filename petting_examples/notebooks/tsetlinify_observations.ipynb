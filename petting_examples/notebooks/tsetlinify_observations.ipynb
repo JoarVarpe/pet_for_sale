{
 "cells": [
  {
   "cell_type": "code",
   "execution_count": 1,
   "id": "5bdae66d-67a9-4db4-afc6-10a57fb4ae91",
   "metadata": {},
   "outputs": [],
   "source": [
    "import pickle\n",
    "import numpy as np\n",
    "from collections import Counter"
   ]
  },
  {
   "cell_type": "code",
   "execution_count": 2,
   "id": "4d22f872-7650-4a6a-8467-72b8984647d8",
   "metadata": {},
   "outputs": [],
   "source": [
    "number_of_games = 100000\n",
    "filename = \"/home/jaoi/master22/pet_for_sale/winning_games_db/3PPO_{}_games.pkl\".format(number_of_games)\n",
    "# with open(\"/home/jaoi/master22/pet_for_sale/winning_games_db/{}_games.pkl\".format(number_of_games), \"rb\") as fp:\n",
    "with open(filename, \"rb\") as fp:\n",
    "        games = pickle.load(fp)\n"
   ]
  },
  {
   "cell_type": "code",
   "execution_count": 3,
   "id": "09bf534c-6098-40a2-a0c2-c2d740c05f48",
   "metadata": {},
   "outputs": [
    {
     "data": {
      "text/plain": [
       "(49,)"
      ]
     },
     "execution_count": 3,
     "metadata": {},
     "output_type": "execute_result"
    }
   ],
   "source": [
    "games[0].shape"
   ]
  },
  {
   "cell_type": "code",
   "execution_count": 3,
   "id": "ae482a23-a2cf-4381-89a4-952d3d3fc657",
   "metadata": {},
   "outputs": [],
   "source": [
    "def convert_3_rounds_fs1_obs_to_bin_obs(obs):\n",
    "    stack_len = 11\n",
    "    rounds = 3\n",
    "    \n",
    "    coin_numbers = [0, 5, 6, 9, 14, 15, 18, 23, 24]\n",
    "    board_card_numbers = [1,2,3,7,10,11,12,16,19,20,21,25,38,39,40]\n",
    "    can_bet_numbers = [4,13,22]\n",
    "    order_numbers = [8,17,26]\n",
    "    std_number = 41\n",
    "    last_stack_nr = 37\n",
    "    bin_rep = []\n",
    "    onehot_of_stack = np.zeros(stack_len, dtype=\"float32\")\n",
    "    for i, num in enumerate(obs):\n",
    "        if i in coin_numbers:\n",
    "            bin_rep.extend(list(\"{0:05b}\".format(int(num)))) \n",
    "        elif i in board_card_numbers:\n",
    "            bin_rep.extend(list(\"{0:04b}\".format(int(num))))\n",
    "        elif i in can_bet_numbers:\n",
    "            bin_rep.append(int(num))\n",
    "        elif i in order_numbers:\n",
    "            bin_rep.extend(list(\"{0:02b}\".format(int(num))))\n",
    "        elif i == std_number:\n",
    "            if num > (np.std([1,11]) - np.std([1])) / 2:\n",
    "                bin_rep.append(1)\n",
    "            else:\n",
    "                bin_rep.append(0)\n",
    "            \n",
    "        else:\n",
    "            if i == last_stack_nr:\n",
    "                if int(num) != 0:\n",
    "                    onehot_of_stack[-int(num)] = 1\n",
    "                    bin_rep.extend(list(onehot_of_stack))\n",
    "                else:\n",
    "                    bin_rep.extend(list(onehot_of_stack))\n",
    "                    \n",
    "            else:\n",
    "                if int(num) != 0:\n",
    "                    onehot_of_stack[-int(num)] = 1\n",
    "    bin_rep = np.hstack(bin_rep)\n",
    "    return bin_rep.astype(np.float32)"
   ]
  },
  {
   "cell_type": "code",
   "execution_count": 5,
   "id": "bad6a0d9-3179-4940-82db-a63b19411c19",
   "metadata": {},
   "outputs": [],
   "source": [
    "def convert_4_rounds_fs1_obs_to_bin_obs(obs):\n",
    "    # 4 rounds, so hands also need to have 4 cards ... \n",
    "    stack_len = 15\n",
    "    rounds = 4\n",
    "    # Should be 9\n",
    "    coin_numbers = [0, 6, 7, 10, 16, 17, 20, 26, 27]\n",
    "    \n",
    "    board_card_numbers = [1,2,3,4,8,11,12,13,14,18,21,22,23,24,28,45,46,47]\n",
    "    can_bet_numbers = [5,15,25]\n",
    "    order_numbers = [9,19,29]\n",
    "    std_number = 48\n",
    "    last_stack_nr = order_numbers[-1] + stack_len\n",
    "    bin_rep = []\n",
    "    onehot_of_stack = np.zeros(stack_len, dtype=\"float32\")\n",
    "    for i, num in enumerate(obs):\n",
    "        if i in coin_numbers:\n",
    "            bin_rep.extend(list(\"{0:05b}\".format(int(num))))\n",
    "        elif i in board_card_numbers:\n",
    "            bin_rep.extend(list(\"{0:04b}\".format(int(num))))\n",
    "        elif i in can_bet_numbers:\n",
    "            bin_rep.append(int(num))\n",
    "        elif i in order_numbers:\n",
    "            bin_rep.extend(list(\"{0:02b}\".format(int(num))))\n",
    "        elif i == std_number:\n",
    "            if num > (np.std([1,stack_len]) - np.std([1])) / 2:\n",
    "                bin_rep.append(1)\n",
    "            else:\n",
    "                bin_rep.append(0)\n",
    "            \n",
    "        else:\n",
    "            if i == last_stack_nr:\n",
    "                if int(num) != 0:\n",
    "                    onehot_of_stack[-int(num)] = 1\n",
    "                    bin_rep.extend(list(onehot_of_stack))\n",
    "                else:\n",
    "                    # onehot_of_stack[-int(num)] = 1\n",
    "                    bin_rep.extend(list(onehot_of_stack))\n",
    "            else:\n",
    "                if int(num) != 0:\n",
    "                    onehot_of_stack[-int(num)] = 1\n",
    "    # print(onehot_of_stack)\n",
    "    # print(obs[30:45], len(obs[30:45]))\n",
    "    bin_rep = np.hstack(bin_rep)\n",
    "    return bin_rep.astype(np.float32)"
   ]
  },
  {
   "cell_type": "code",
   "execution_count": 6,
   "id": "9a5ab9c3-2991-469e-bc1e-69a76db27e8d",
   "metadata": {},
   "outputs": [
    {
     "name": "stdout",
     "output_type": "stream",
     "text": [
      "126\n",
      "126\n",
      "1 [0. 0. 0. 0. 0. 0. 0. 0. 0. 0. 1.]\n",
      "2 [0. 0. 0. 0. 0. 0. 0. 0. 0. 1. 1.]\n",
      "3 [0. 0. 0. 0. 0. 0. 0. 0. 1. 1. 1.]\n",
      "4 [0. 0. 0. 0. 0. 0. 0. 1. 1. 1. 1.]\n",
      "5 [0. 0. 0. 0. 0. 0. 1. 1. 1. 1. 1.]\n",
      "6 [0. 0. 0. 0. 0. 1. 1. 1. 1. 1. 1.]\n",
      "7 [0. 0. 0. 0. 1. 1. 1. 1. 1. 1. 1.]\n",
      "8 [0. 0. 0. 1. 1. 1. 1. 1. 1. 1. 1.]\n",
      "9 [0. 0. 1. 1. 1. 1. 1. 1. 1. 1. 1.]\n",
      "10 [0. 1. 1. 1. 1. 1. 1. 1. 1. 1. 1.]\n",
      "11 [1. 1. 1. 1. 1. 1. 1. 1. 1. 1. 1.]\n"
     ]
    }
   ],
   "source": [
    "coin_numbers = [0, 5, 6, 9, 14, 15, 18, 23, 24]\n",
    "board_card_numbers = [1,2,3,7,10,11,12,16,19,20,21,25,38,39,40]\n",
    "can_bet_numbers = [4,13,22]\n",
    "order_numbers = [8,17,26]\n",
    "std_number = 41\n",
    "s = set()\n",
    "s.update(coin_numbers)\n",
    "s.update(board_card_numbers)\n",
    "s.update(can_bet_numbers)\n",
    "s.update(order_numbers)\n",
    "s.add(std_number)\n",
    "s\n",
    "\n",
    "print(len(coin_numbers) * 5 + len(board_card_numbers) * 4 + len(can_bet_numbers) * 1 + len(order_numbers) * 2 + 1 + 11)\n",
    "print(len(coin_numbers) * 5 + len(board_card_numbers) * 4 + len(can_bet_numbers) * 1 + len(order_numbers) * 2 + 1 + 11)\n",
    "# for i in range(42):\n",
    "#     if i not in s:\n",
    "#         print(i)\n",
    "\n",
    "onehot = np.zeros(11, dtype=\"float32\")\n",
    "for i in [1, 2, 3, 4, 5, 6, 7, 8, 9, 10, 11]:\n",
    "    \n",
    "    onehot[-int(i)] = 1\n",
    "    print(i, onehot)\n"
   ]
  },
  {
   "cell_type": "code",
   "execution_count": 7,
   "id": "79d4c5dc-35b7-43a6-98d8-8fdcebee3772",
   "metadata": {},
   "outputs": [
    {
     "name": "stdout",
     "output_type": "stream",
     "text": [
      "(142,)\n",
      "(142,)\n"
     ]
    }
   ],
   "source": [
    "print(convert_4_rounds_fs1_obs_to_bin_obs(games[0][0]).shape)\n",
    "print(convert_4_rounds_fs1_obs_to_bin_obs(games[4][0]).shape)     "
   ]
  },
  {
   "cell_type": "code",
   "execution_count": 4,
   "id": "452fdbfc-b4b4-402f-93b0-805033fe6dd2",
   "metadata": {},
   "outputs": [
    {
     "name": "stdout",
     "output_type": "stream",
     "text": [
      "Counter({(126,): 552271})\n"
     ]
    }
   ],
   "source": [
    "c = Counter()\n",
    "tsetlinified_games = []\n",
    "for i, game in enumerate(games):\n",
    "    tset_game = convert_3_rounds_fs1_obs_to_bin_obs(game[0])\n",
    "    c[tset_game.shape] += 1\n",
    "    \n",
    "    # print(tset_game.shape)\n",
    "    # print(np.where(tset_game>1))\n",
    "    # print(tset_game)\n",
    "    \n",
    "    \n",
    "    tsetlinified_games.append((tset_game, game[1]))\n",
    "\n",
    "# print(tsetlinified_games)\n",
    "print(c)\n",
    "tsetlinified_games = np.array(tsetlinified_games, dtype=object)\n",
    "# tsetlinified_games = np.hstack(tsetlinified_games, dtype=object)\n",
    "# print(tsetlinified_games[0][0])\n",
    "# print(type(tsetlinified_games))\n",
    "\n"
   ]
  },
  {
   "cell_type": "code",
   "execution_count": 6,
   "id": "b6eabcff-61fa-4ec5-947e-575881675c61",
   "metadata": {},
   "outputs": [],
   "source": [
    "tsetlin_filename = \"/home/jaoi/master22/pet_for_sale/winning_games_db/3PPO_{}_tsetlined_games.pkl\".format(number_of_games)\n",
    "with open(tsetlin_filename, \"wb\") as fp:\n",
    "        pickle.dump(tsetlinified_games, fp)"
   ]
  },
  {
   "cell_type": "code",
   "execution_count": 10,
   "id": "043b97a6-47a0-4498-8531-0647775921b3",
   "metadata": {},
   "outputs": [
    {
     "data": {
      "text/plain": [
       "(142,)"
      ]
     },
     "execution_count": 10,
     "metadata": {},
     "output_type": "execute_result"
    }
   ],
   "source": [
    "tsetlinified_games[0][0].shape"
   ]
  },
  {
   "cell_type": "code",
   "execution_count": null,
   "id": "3bd8e578-18f3-4e46-80bf-40fdc7593d19",
   "metadata": {},
   "outputs": [],
   "source": []
  }
 ],
 "metadata": {
  "kernelspec": {
   "display_name": "Python 3 (ipykernel)",
   "language": "python",
   "name": "python3"
  },
  "language_info": {
   "codemirror_mode": {
    "name": "ipython",
    "version": 3
   },
   "file_extension": ".py",
   "mimetype": "text/x-python",
   "name": "python",
   "nbconvert_exporter": "python",
   "pygments_lexer": "ipython3",
   "version": "3.8.12"
  }
 },
 "nbformat": 4,
 "nbformat_minor": 5
}
