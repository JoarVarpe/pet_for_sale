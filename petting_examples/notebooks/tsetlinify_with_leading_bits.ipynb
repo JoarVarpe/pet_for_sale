{
 "cells": [
  {
   "cell_type": "code",
   "execution_count": 1,
   "id": "df1fbf91-861c-4902-86d6-c3d31b1746fc",
   "metadata": {},
   "outputs": [],
   "source": [
    "import pickle\n",
    "import numpy as np\n",
    "from collections import Counter"
   ]
  },
  {
   "cell_type": "code",
   "execution_count": 15,
   "id": "9a2ce1c9-bbb1-4e73-90c3-7c6d866bd7da",
   "metadata": {},
   "outputs": [],
   "source": [
    "number_of_games = 100000\n",
    "filename = \"/home/jaoi/master22/pet_for_sale/winning_games_db/4PPO_{}_games.pkl\".format(number_of_games)\n",
    "# with open(\"/home/jaoi/master22/pet_for_sale/winning_games_db/{}_games.pkl\".format(number_of_games), \"rb\") as fp:\n",
    "with open(filename, \"rb\") as fp:\n",
    "        games = pickle.load(fp)\n"
   ]
  },
  {
   "cell_type": "code",
   "execution_count": 17,
   "id": "56528657-a985-404b-b138-a174a108c185",
   "metadata": {},
   "outputs": [
    {
     "name": "stdout",
     "output_type": "stream",
     "text": [
      "[array([18.      ,  0.      ,  0.      ,  0.      ,  0.      ,  1.      ,\n",
      "         0.      , 18.      ,  3.      ,  3.      , 18.      ,  0.      ,\n",
      "         0.      ,  0.      ,  0.      ,  1.      ,  2.      , 17.      ,\n",
      "         8.      ,  2.      , 18.      ,  0.      ,  0.      ,  0.      ,\n",
      "         0.      ,  1.      ,  4.      , 14.      , 12.      ,  1.      ,\n",
      "        15.      , 14.      , 13.      , 12.      , 11.      , 10.      ,\n",
      "         9.      ,  8.      ,  7.      ,  6.      ,  5.      ,  4.      ,\n",
      "         3.      ,  2.      ,  1.      , 12.      ,  8.      ,  3.      ,\n",
      "         3.681787], dtype=float32)\n",
      " 7]\n"
     ]
    }
   ],
   "source": [
    "print(games[0])"
   ]
  },
  {
   "cell_type": "code",
   "execution_count": 70,
   "id": "a782b26a-722e-42d1-b6b9-6248eb70c478",
   "metadata": {},
   "outputs": [],
   "source": [
    "def convert_4_rounds_fs1_obs_to_bin_obs(obs):\n",
    "    # 4 rounds, so hands also need to have 4 cards ... \n",
    "    stack_len = 15\n",
    "    rounds = 4\n",
    "    # Should be 9\n",
    "    coin_numbers = [0, 6, 7, 10, 16, 17, 20, 26, 27]\n",
    "    \n",
    "    board_card_numbers = [1,2,3,4,8,11,12,13,14,18,21,22,23,24,28,45,46,47]\n",
    "    can_bet_numbers = [5,15,25]\n",
    "    order_numbers = [9,19,29]\n",
    "    std_number = 48\n",
    "    last_stack_nr = order_numbers[-1] + stack_len\n",
    "    bin_rep = []\n",
    "    onehot_of_stack = np.zeros(stack_len, dtype=\"float32\")\n",
    "    \n",
    "    # need to find out if leading by a lot 15-10, medium lead 10-5, or little lead 5-0, tied, behind by a little, medium or a lot\n",
    "    # this is found through comparing self coins and hand, with the opponents, and finding the opponent closest, or leading by the most\n",
    "    \n",
    "    p1_cards = [1,2,3,4,]\n",
    "    p1_coins = 0\n",
    "    p2_cards = [11,12,13,14]\n",
    "    p2_coins = 10\n",
    "    p3_cards = [21,22,23,24]\n",
    "    p3_coins = 20\n",
    "    \n",
    "    p_values = {}\n",
    "    p_values[\"p1_val\"] = sum([obs[card] for card in p1_cards]) + obs[p1_coins]\n",
    "    p_values[\"p2_val\"] = sum([obs[card] for card in p2_cards]) + obs[p2_coins]\n",
    "    p_values[\"p3_val\"] = sum([obs[card] for card in p3_cards]) + obs[p3_coins]\n",
    "    lead_enc = np.zeros(7)\n",
    "    ascending_dict = sorted(p_values.items(), key=lambda x:x[1], reverse=True)\n",
    "    \n",
    "    if \"p1_val\" == ascending_dict[0][0]:\n",
    "        # p1 is leading\n",
    "        lead = p_values[\"p1_val\"] - p_values[ascending_dict[1][0]]\n",
    "    else:\n",
    "        lead = p_values[\"p1_val\"] - p_values[ascending_dict[0][0]]\n",
    "        \n",
    "    if lead > 10:\n",
    "        # large lead\n",
    "        lead_enc[0] = 1.0\n",
    "    elif lead > 5:\n",
    "        # medium lead\n",
    "        lead_enc[1] = 1.0\n",
    "    elif lead > 0:\n",
    "        # small lead\n",
    "        lead_enc[2] = 1.0\n",
    "    elif lead == 0:\n",
    "        #  even\n",
    "        lead_enc[3] = 1.0\n",
    "    elif lead < -10:\n",
    "        # large trail\n",
    "        lead_enc[6] = 1.0\n",
    "    elif lead < -5:\n",
    "        # medium trail\n",
    "        lead_enc[5] = 1.0\n",
    "    elif lead < 0:\n",
    "        # small trail\n",
    "        lead_enc[4] = 1.0\n",
    "        \n",
    "    \n",
    "    \n",
    "    \n",
    "    for i, num in enumerate(obs):\n",
    "        if i in coin_numbers:\n",
    "            bin_rep.extend(list(\"{0:05b}\".format(int(num))))\n",
    "        elif i in board_card_numbers:\n",
    "            bin_rep.extend(list(\"{0:04b}\".format(int(num))))\n",
    "        elif i in can_bet_numbers:\n",
    "            bin_rep.append(int(num))\n",
    "        elif i in order_numbers:\n",
    "            # bin_rep.extend(list(\"{0:02b}\".format(int(num))))\n",
    "            order = np.zeros(3)\n",
    "            order[1 - int(num)] = 1.0\n",
    "            bin_rep.extend(order)\n",
    "        elif i == std_number:\n",
    "            if num > (np.std([1,stack_len]) - np.std([1])) / 2:\n",
    "                bin_rep.append(1)\n",
    "            else:\n",
    "                bin_rep.append(0)\n",
    "            \n",
    "        else:\n",
    "            if i == last_stack_nr:\n",
    "                if int(num) != 0:\n",
    "                    onehot_of_stack[-int(num)] = 1\n",
    "                    bin_rep.extend(list(onehot_of_stack))\n",
    "                else:\n",
    "                    # onehot_of_stack[-int(num)] = 1\n",
    "                    bin_rep.extend(list(onehot_of_stack))\n",
    "            else:\n",
    "                if int(num) != 0:\n",
    "                    onehot_of_stack[-int(num)] = 1\n",
    "    bin_rep.extend(lead_enc)\n",
    "    # print(onehot_of_stack)\n",
    "    # print(obs[30:45], len(obs[30:45]))\n",
    "    bin_rep = np.hstack(bin_rep)\n",
    "    return bin_rep.astype(np.float32)"
   ]
  },
  {
   "cell_type": "code",
   "execution_count": 66,
   "id": "4b1f2d55-5297-4754-b582-90a905516b53",
   "metadata": {},
   "outputs": [
    {
     "data": {
      "text/plain": [
       "(152,)"
      ]
     },
     "execution_count": 66,
     "metadata": {},
     "output_type": "execute_result"
    }
   ],
   "source": [
    "convert_4_rounds_fs1_obs_to_bin_obs(games[1359][0]).shape"
   ]
  },
  {
   "cell_type": "code",
   "execution_count": 71,
   "id": "85974027-b0b0-4840-b8b4-dd071fb0e224",
   "metadata": {},
   "outputs": [
    {
     "name": "stdout",
     "output_type": "stream",
     "text": [
      "Counter({(152,): 707104})\n"
     ]
    }
   ],
   "source": [
    "c = Counter()\n",
    "tsetlinified_games = []\n",
    "for i, game in enumerate(games):\n",
    "    tset_game = convert_4_rounds_fs1_obs_to_bin_obs(game[0])\n",
    "    c[tset_game.shape] += 1\n",
    "    \n",
    "    tsetlinified_games.append((tset_game, game[1]))\n",
    "\n",
    "\n",
    "print(c)\n",
    "tsetlinified_games = np.array(tsetlinified_games, dtype=object)\n",
    "\n"
   ]
  },
  {
   "cell_type": "code",
   "execution_count": 72,
   "id": "7b1130e3-33fe-48b2-8983-97e4940afb05",
   "metadata": {},
   "outputs": [],
   "source": [
    "tsetlin_filename = \"/home/jaoi/master22/pet_for_sale/winning_games_db/4PPO_{}_tsetlined_leadbit_games.pkl\".format(number_of_games)\n",
    "with open(tsetlin_filename, \"wb\") as fp:\n",
    "        pickle.dump(tsetlinified_games, fp)"
   ]
  }
 ],
 "metadata": {
  "kernelspec": {
   "display_name": "Python 3 (ipykernel)",
   "language": "python",
   "name": "python3"
  },
  "language_info": {
   "codemirror_mode": {
    "name": "ipython",
    "version": 3
   },
   "file_extension": ".py",
   "mimetype": "text/x-python",
   "name": "python",
   "nbconvert_exporter": "python",
   "pygments_lexer": "ipython3",
   "version": "3.8.12"
  }
 },
 "nbformat": 4,
 "nbformat_minor": 5
}
