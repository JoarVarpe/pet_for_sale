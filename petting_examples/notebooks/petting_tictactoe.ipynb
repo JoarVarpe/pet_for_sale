{
 "cells": [
  {
   "cell_type": "code",
   "execution_count": 3,
   "id": "4ca66174-e0ba-4f2a-ab3b-6a35d04b7b79",
   "metadata": {},
   "outputs": [],
   "source": [
    "from pettingzoo.classic import tictactoe_v3\n",
    "from pettingzoo.classic import uno_v4\n",
    "import random\n",
    "import numpy as np\n",
    "from collections import defaultdict\n",
    "import dill"
   ]
  },
  {
   "cell_type": "code",
   "execution_count": 5,
   "id": "2ba602ba-77fc-4f12-a80a-ee47a14876d3",
   "metadata": {},
   "outputs": [],
   "source": [
    "import hashlib\n",
    "\n",
    "def encode_state(observation):\n",
    "    # encode observation as bytes           \n",
    "    obs_bytes = str(observation).encode('utf-8')\n",
    "    # create md5 hash\n",
    "    m = hashlib.md5(obs_bytes)\n",
    "    # return hash as hex digest\n",
    "    state = m.hexdigest()\n",
    "    return(state)"
   ]
  },
  {
   "cell_type": "code",
   "execution_count": 13,
   "id": "959a1e52-601c-4d02-892c-e5cbb0342497",
   "metadata": {},
   "outputs": [],
   "source": [
    "def epsilon_greedy_policy(nA, Q, agent, action_mask, state, epsilon):\n",
    "\n",
    "    action_values = Q[agent][state]\n",
    "    \n",
    "    greedy_action = np.argmax(action_values)\n",
    "    \n",
    "    probabilities = np.ones(nA) * epsilon / nA\n",
    "    \n",
    "    probabilities[greedy_action] += (1 - epsilon)\n",
    "    probabilities *= action_mask\n",
    "    z = probabilities.sum()\n",
    "    probabilities = probabilities / z\n",
    "    possible_choices = np.array(range(nA))\n",
    "#     print(probabilities)\n",
    "    action = np.random.choice(possible_choices, p=probabilities)\n",
    "    \n",
    "    return action"
   ]
  },
  {
   "cell_type": "code",
   "execution_count": 7,
   "id": "71d284b5-584b-4b4b-9cfa-4f8c19634ab0",
   "metadata": {},
   "outputs": [],
   "source": [
    "def update_Q_value(Q, agent, previous_state, previous_action, \\\n",
    "                   reward, alpha, gamma, current_state=None):\n",
    "    \n",
    "    qval = Q[agent][previous_state][previous_action]\n",
    "    if current_state:\n",
    "        Q[agent][previous_state][previous_action] = qval\\\n",
    "        + alpha*(reward + gamma*np.max(Q[agent][current_state]) - qval)\n",
    "        \n",
    "    return Q"
   ]
  },
  {
   "cell_type": "code",
   "execution_count": 8,
   "id": "6d777c74-8d67-440e-99e3-2f375f0e606a",
   "metadata": {},
   "outputs": [],
   "source": [
    "import tqdm\n",
    "def marl_q_learning(multi_env, num_episodes, alpha, gamma=1.0, \\\n",
    "                    eps_start=1.0, eps_decay=.99999, \\\n",
    "                        eps_min=0.025, pre_trained_Q=None):\n",
    "    # sanity check size of Q.\n",
    "    multi_env.reset()\n",
    "    if pre_trained_Q:\n",
    "        Q = pre_trained_Q\n",
    "    else:\n",
    "        Q = {}\n",
    "    for agent in multi_env.agents:    \n",
    "        nA = multi_env.action_space(agent).n\n",
    "        Q[agent] = defaultdict(lambda: np.zeros(nA))\n",
    "    \n",
    "    epsilon = eps_start\n",
    "\n",
    "    i_episode = 1    \n",
    "\n",
    "    prev_state = {'player_1': -1,\n",
    "                  'player_2': -1}\n",
    "    prev_action = {'player_1': -1,\n",
    "                  'player_2': -1}\n",
    "    \n",
    "    p1_size = np.array([])\n",
    "    p2_size = np.array([])\n",
    "\n",
    "    # keeps iterating over active agents until num episode break\n",
    "    for i_episode in tqdm.tqdm(range(num_episodes)):\n",
    "        for agent in multi_env.agent_iter():        \n",
    "            \n",
    "            # get observation (state) for current agent:\n",
    "            observation, reward, done, info = multi_env.last()\n",
    "            \n",
    "            # perform q-learning with update_Q_value()\n",
    "            # your code here\n",
    "            state = encode_state(env.render(mode=\"ansi\"))\n",
    "            Q = update_Q_value(Q, agent, prev_state[agent], prev_action[agent], reward, \\\n",
    "                           alpha, gamma, current_state=state)\n",
    "            p1_size = np.append(p1_size, len(Q[\"player_1\"]))\n",
    "            p2_size = np.append(p2_size, len(Q[\"player_2\"]))\n",
    "                                \n",
    "            # store current state\n",
    "            prev_state[agent] = state\n",
    "            \n",
    "            if not done: \n",
    "                # choose action using epsilon_greedy_policy()\n",
    "                # your code here\n",
    "                action = epsilon_greedy_policy(nA, Q, agent, observation[\"action_mask\"], state, epsilon)\n",
    "                multi_env.step(action)\n",
    "                \n",
    "                # store chosen action\n",
    "                prev_action[agent] = action \n",
    "            else: \n",
    "                # agent is done\n",
    "                multi_env.step(None)\n",
    "        \n",
    "        \n",
    "        # reset env and memory\n",
    "        multi_env.reset()\n",
    "        prev_state = {'player_1': -1,\n",
    "                      'player_2': -1}\n",
    "        prev_action = {'player_1': -1,\n",
    "                       'player_2': -1}\n",
    "        # bump episode\n",
    "        i_episode += 1\n",
    "        # decrease epsilon\n",
    "        epsilon = max(epsilon*eps_decay, eps_min)\n",
    "#     print(Q)\n",
    "    return Q, p1_size, p2_size"
   ]
  },
  {
   "cell_type": "code",
   "execution_count": 34,
   "id": "23f75960-47dc-4ff9-beb2-6f65ca80891e",
   "metadata": {},
   "outputs": [],
   "source": [
    "env = tictactoe_v3.env()\n",
    "\n",
    "np.random.seed(123)\n",
    "\n",
    "fullrun = 0\n",
    "steps = 100_000\n",
    "\n",
    "\n",
    "path = \"/home/jaoi/master22/petting_for_sale/petting_examples/cached/Q{}.pkl\".format(steps)\n",
    "\n",
    "\n",
    "if fullrun:\n",
    "\n",
    "    Q, p1, p2 = marl_q_learning(env, steps, alpha = 0.6, gamma = 0.95, eps_start=0.2)\n",
    "    # print(Q)\n",
    "#     print(N)\n",
    "    with open(path, 'wb') as f:\n",
    "        dill.dump(Q, f)    \n",
    "\n",
    "else:\n",
    "    with open(path, 'rb') as f:\n",
    "        Q = dill.load(f)   \n",
    "# print(Q)"
   ]
  },
  {
   "cell_type": "code",
   "execution_count": 15,
   "id": "97e7490d-5076-46fb-987c-8654fd86715d",
   "metadata": {},
   "outputs": [],
   "source": [
    "def rand_policy(observation, agent):\n",
    "    action = random.choice(np.flatnonzero(observation['action_mask']))\n",
    "    return action"
   ]
  },
  {
   "cell_type": "code",
   "execution_count": 39,
   "id": "1627544a-3925-41ca-a62e-d91da6a8de3f",
   "metadata": {},
   "outputs": [
    {
     "data": {
      "text/plain": [
       "defaultdict(int,\n",
       "            {'player_1wins': 9991,\n",
       "             'player_2losses': 9991,\n",
       "             'player_2wins': 4,\n",
       "             'player_1losses': 4,\n",
       "             'draws': 5})"
      ]
     },
     "execution_count": 39,
     "metadata": {},
     "output_type": "execute_result"
    }
   ],
   "source": [
    "def play_states(env, games=10000):\n",
    "    c = defaultdict(int)\n",
    "    for game in range(games):\n",
    "        env.reset()\n",
    "        agents = list(env.agents)\n",
    "\n",
    "        for agent in env.agent_iter():\n",
    "            state = encode_state(env.render(mode=\"ansi\"))\n",
    "            observation, reward, done, info = env.last()\n",
    "            \n",
    "            if agent == \"player_1\":\n",
    "                nA = env.action_space(agent).n\n",
    "                # action = rand_policy(observation, agent) if not done else None\n",
    "                # epsilon er hvor mye randomness som skal med, 1.0 er alltid random, 0.001 er 0.1 % random\n",
    "                action = epsilon_greedy_policy(nA, Q, agent, observation[\"action_mask\"], state, epsilon=0.001) if not done else None\n",
    "            elif agent == \"player_2\":\n",
    "                # action = rand_policy(observation, agent) if not done else None\n",
    "                nA = env.action_space(agent).n\n",
    "                action = epsilon_greedy_policy(nA, Q, agent, observation[\"action_mask\"], state, epsilon=0.001) if not done else None\n",
    "                \n",
    "                \n",
    "            env.step(action)\n",
    "            \n",
    "            if reward != 0 and len(env.agents) > 0:\n",
    "                c[env.agents[0] + \"wins\"] += 1\n",
    "                agents.remove(env.agents[0])\n",
    "                c[agents[0]+\"losses\"] += 1\n",
    "                break\n",
    "            elif len(env.agents) == 0:\n",
    "                c[\"draws\"] += 1\n",
    "    return c\n",
    "\n",
    "c = play_states(env)\n",
    "c"
   ]
  },
  {
   "cell_type": "code",
   "execution_count": 21,
   "id": "6dc1d267-1a92-42e6-b35a-7118747cafe5",
   "metadata": {},
   "outputs": [
    {
     "name": "stdout",
     "output_type": "stream",
     "text": [
      "p1\n"
     ]
    },
    {
     "data": {
      "image/png": "[encoded data removed]",
      "text/plain": [
       "<Figure size 432x288 with 1 Axes>"
      ]
     },
     "metadata": {
      "needs_background": "light"
     },
     "output_type": "display_data"
    },
    {
     "name": "stdout",
     "output_type": "stream",
     "text": [
      "p2\n"
     ]
    },
    {
     "data": {
      "image/png": "[encoded data removed]",
      "text/plain": [
       "<Figure size 432x288 with 1 Axes>"
      ]
     },
     "metadata": {
      "needs_background": "light"
     },
     "output_type": "display_data"
    }
   ],
   "source": [
    "import matplotlib.pyplot as plt\n",
    "\n",
    "x = np.array(np.arange(len(p1)))\n",
    "\n",
    "print(\"p1\")\n",
    "plt.plot(x, p1)\n",
    "plt.show()\n",
    "\n",
    "print(\"p2\")\n",
    "plt.plot(x, p2)\n",
    "plt.show()\n"
   ]
  },
  {
   "cell_type": "code",
   "execution_count": 40,
   "id": "8caa1288-00af-46c8-84b0-3099790a79a7",
   "metadata": {},
   "outputs": [
    {
     "name": "stdout",
     "output_type": "stream",
     "text": [
      "9\n",
      "     |     |     \n",
      "  -  |  -  |  -  \n",
      "_____|_____|_____\n",
      "     |     |     \n",
      "  -  |  -  |  -  \n",
      "_____|_____|_____\n",
      "     |     |     \n",
      "  -  |  -  |  -  \n",
      "     |     |     \n",
      "None\n"
     ]
    },
    {
     "data": {
      "text/plain": [
       "array([0.72835808, 0.72395795, 0.81864091, 0.80701924, 0.79638125,\n",
       "       0.76456856, 0.87014091, 0.83063783, 0.58903635])"
      ]
     },
     "execution_count": 40,
     "metadata": {},
     "output_type": "execute_result"
    }
   ],
   "source": [
    "env.reset()\n",
    "state = encode_state(env.render(mode=\"ansi\"))\n",
    "print(env.action_space(\"player_1\").n)\n",
    "print(env.render())\n",
    "Q[\"player_1\"][state]"
   ]
  },
  {
   "cell_type": "code",
   "execution_count": 19,
   "id": "d9eef699-3089-46da-8db2-8f663a7dada3",
   "metadata": {},
   "outputs": [
    {
     "name": "stdout",
     "output_type": "stream",
     "text": [
      "-1 [0.         0.         0.         0.         0.         0.\n",
      " 0.         0.         0.82478967]\n",
      "e1d184b7c70f608e0f7ed1c41067d461 [0.72835808 0.72395795 0.81864091 0.80701924 0.79638125 0.76456856\n",
      " 0.87014091 0.83063783 0.58903635]\n",
      "defaultdict(<class 'int'>, {9: 3382})\n",
      "defaultdict(<class 'int'>, {9: 3056})\n"
     ]
    }
   ],
   "source": [
    "c1 = defaultdict(int)\n",
    "c2 = defaultdict(int)\n",
    "\n",
    "b = 0\n",
    "for k, v in Q[\"player_1\"].items():\n",
    "    print(k, v)\n",
    "    b += 1\n",
    "    if b == 2:\n",
    "        break\n",
    "\n",
    "for k, v in Q[\"player_1\"].items():\n",
    "    c1[len(v)] += 1\n",
    "    \n",
    "for k, v in Q[\"player_2\"].items():\n",
    "    c2[len(v)] += 1\n",
    "    \n",
    "\n",
    "print(c1)\n",
    "print(c2)"
   ]
  },
  {
   "cell_type": "code",
   "execution_count": 17,
   "id": "cdefa45c-20bb-4afd-a92f-9cbb4e7e79e0",
   "metadata": {},
   "outputs": [
    {
     "data": {
      "text/plain": [
       "{'player_1': 0, 'player_2': 1, 'player_3': 2}"
      ]
     },
     "execution_count": 17,
     "metadata": {},
     "output_type": "execute_result"
    }
   ],
   "source": [
    "possible_agents = [\"player_1\", \"player_2\", \"player_3\"]\n",
    "agent_name_mapping = dict(zip(possible_agents, list(range(len(possible_agents)))))\n",
    "agent_name_mapping\n"
   ]
  },
  {
   "cell_type": "code",
   "execution_count": 21,
   "id": "33fd15b4-22d2-49ee-b145-76477327f8d8",
   "metadata": {},
   "outputs": [
    {
     "name": "stdout",
     "output_type": "stream",
     "text": [
      "[0 0 0 0 0 0 0 0 0 0 0 0 0 1 0 0 0 0 0 0 0 0 0 0 0 0 0 0 1 0 0 0 0 0 0 0 0\n",
      " 0 0 1 0 0 0 1 0 0 0 0 0 0 0 0 1 0 0 1 0 0 1 0 0]\n",
      "\n",
      "\n",
      "=============== player_0's Hand ===============\n",
      "Wild, \u001b[33mSkip\u001b[0m, \u001b[34m4\u001b[0m, \u001b[34m9\u001b[0m, \u001b[34mDraw-2\u001b[0m, \u001b[33m7\u001b[0m, \u001b[32mReverse\u001b[0m\n",
      "\n",
      "=============== player_1's Hand ===============\n",
      "\u001b[34m6\u001b[0m, \u001b[32mSkip\u001b[0m, \u001b[34m2\u001b[0m, \u001b[32m6\u001b[0m, \u001b[33m2\u001b[0m, \u001b[31m9\u001b[0m, \u001b[31m1\u001b[0m\n",
      "\n",
      "================= Target Card =================\n",
      "\u001b[33m9\u001b[0m\n",
      "\n",
      "None\n",
      "[WARNING]: Illegal move made, game terminating with current player losing. \n",
      "obs['action_mask'] contains a mask of all legal moves that can be chosen.\n",
      "None\n",
      "[0 0 0 0 0 0 0 0 0 0 0 0 0 1 0 0 0 0 0 0 0 0 0 0 0 0 0 0 1 0 0 0 0 0 0 0 0\n",
      " 0 0 1 0 0 0 1 0 0 0 0 0 0 0 0 1 0 0 1 0 0 1 0 0]\n",
      "\n",
      "\n",
      "=============== player_0's Hand ===============\n",
      "Wild, \u001b[33mSkip\u001b[0m, \u001b[34m4\u001b[0m, \u001b[34m9\u001b[0m, \u001b[34mDraw-2\u001b[0m, \u001b[33m7\u001b[0m, \u001b[32mReverse\u001b[0m\n",
      "\n",
      "=============== player_1's Hand ===============\n",
      "\u001b[34m6\u001b[0m, \u001b[32mSkip\u001b[0m, \u001b[34m2\u001b[0m, \u001b[32m6\u001b[0m, \u001b[33m2\u001b[0m, \u001b[31m9\u001b[0m, \u001b[31m1\u001b[0m\n",
      "\n",
      "================= Target Card =================\n",
      "\u001b[33m9\u001b[0m\n",
      "\n",
      "None\n"
     ]
    },
    {
     "ename": "ValueError",
     "evalue": "when an agent is done, the only valid action is None",
     "output_type": "error",
     "traceback": [
      "\u001b[0;31m---------------------------------------------------------------------------\u001b[0m",
      "\u001b[0;31mValueError\u001b[0m                                Traceback (most recent call last)",
      "\u001b[0;32m/tmp/ipykernel_491322/3466490473.py\u001b[0m in \u001b[0;36m<module>\u001b[0;34m\u001b[0m\n\u001b[1;32m      5\u001b[0m     \u001b[0mprint\u001b[0m\u001b[0;34m(\u001b[0m\u001b[0mobs\u001b[0m\u001b[0;34m[\u001b[0m\u001b[0;34m\"action_mask\"\u001b[0m\u001b[0;34m]\u001b[0m\u001b[0;34m)\u001b[0m\u001b[0;34m\u001b[0m\u001b[0;34m\u001b[0m\u001b[0m\n\u001b[1;32m      6\u001b[0m     \u001b[0mprint\u001b[0m\u001b[0;34m(\u001b[0m\u001b[0menv\u001b[0m\u001b[0;34m.\u001b[0m\u001b[0mrender\u001b[0m\u001b[0;34m(\u001b[0m\u001b[0;34m)\u001b[0m\u001b[0;34m)\u001b[0m\u001b[0;34m\u001b[0m\u001b[0;34m\u001b[0m\u001b[0m\n\u001b[0;32m----> 7\u001b[0;31m     \u001b[0mprint\u001b[0m\u001b[0;34m(\u001b[0m\u001b[0menv\u001b[0m\u001b[0;34m.\u001b[0m\u001b[0mstep\u001b[0m\u001b[0;34m(\u001b[0m\u001b[0;36m2\u001b[0m\u001b[0;34m)\u001b[0m\u001b[0;34m)\u001b[0m\u001b[0;34m\u001b[0m\u001b[0;34m\u001b[0m\u001b[0m\n\u001b[0m",
      "\u001b[0;32m~/anaconda3/envs/rufus/lib/python3.8/site-packages/pettingzoo/utils/wrappers/order_enforcing.py\u001b[0m in \u001b[0;36mstep\u001b[0;34m(self, action)\u001b[0m\n\u001b[1;32m     60\u001b[0m         \u001b[0;32melse\u001b[0m\u001b[0;34m:\u001b[0m\u001b[0;34m\u001b[0m\u001b[0;34m\u001b[0m\u001b[0m\n\u001b[1;32m     61\u001b[0m             \u001b[0mself\u001b[0m\u001b[0;34m.\u001b[0m\u001b[0m_has_updated\u001b[0m \u001b[0;34m=\u001b[0m \u001b[0;32mTrue\u001b[0m\u001b[0;34m\u001b[0m\u001b[0;34m\u001b[0m\u001b[0m\n\u001b[0;32m---> 62\u001b[0;31m             \u001b[0msuper\u001b[0m\u001b[0;34m(\u001b[0m\u001b[0;34m)\u001b[0m\u001b[0;34m.\u001b[0m\u001b[0mstep\u001b[0m\u001b[0;34m(\u001b[0m\u001b[0maction\u001b[0m\u001b[0;34m)\u001b[0m\u001b[0;34m\u001b[0m\u001b[0;34m\u001b[0m\u001b[0m\n\u001b[0m\u001b[1;32m     63\u001b[0m \u001b[0;34m\u001b[0m\u001b[0m\n\u001b[1;32m     64\u001b[0m     \u001b[0;32mdef\u001b[0m \u001b[0mobserve\u001b[0m\u001b[0;34m(\u001b[0m\u001b[0mself\u001b[0m\u001b[0;34m,\u001b[0m \u001b[0magent\u001b[0m\u001b[0;34m)\u001b[0m\u001b[0;34m:\u001b[0m\u001b[0;34m\u001b[0m\u001b[0;34m\u001b[0m\u001b[0m\n",
      "\u001b[0;32m~/anaconda3/envs/rufus/lib/python3.8/site-packages/pettingzoo/utils/wrappers/base.py\u001b[0m in \u001b[0;36mstep\u001b[0;34m(self, action)\u001b[0m\n\u001b[1;32m     92\u001b[0m \u001b[0;34m\u001b[0m\u001b[0m\n\u001b[1;32m     93\u001b[0m     \u001b[0;32mdef\u001b[0m \u001b[0mstep\u001b[0m\u001b[0;34m(\u001b[0m\u001b[0mself\u001b[0m\u001b[0;34m,\u001b[0m \u001b[0maction\u001b[0m\u001b[0;34m)\u001b[0m\u001b[0;34m:\u001b[0m\u001b[0;34m\u001b[0m\u001b[0;34m\u001b[0m\u001b[0m\n\u001b[0;32m---> 94\u001b[0;31m         \u001b[0mself\u001b[0m\u001b[0;34m.\u001b[0m\u001b[0menv\u001b[0m\u001b[0;34m.\u001b[0m\u001b[0mstep\u001b[0m\u001b[0;34m(\u001b[0m\u001b[0maction\u001b[0m\u001b[0;34m)\u001b[0m\u001b[0;34m\u001b[0m\u001b[0;34m\u001b[0m\u001b[0m\n\u001b[0m\u001b[1;32m     95\u001b[0m \u001b[0;34m\u001b[0m\u001b[0m\n\u001b[1;32m     96\u001b[0m         \u001b[0mself\u001b[0m\u001b[0;34m.\u001b[0m\u001b[0magent_selection\u001b[0m \u001b[0;34m=\u001b[0m \u001b[0mself\u001b[0m\u001b[0;34m.\u001b[0m\u001b[0menv\u001b[0m\u001b[0;34m.\u001b[0m\u001b[0magent_selection\u001b[0m\u001b[0;34m\u001b[0m\u001b[0;34m\u001b[0m\u001b[0m\n",
      "\u001b[0;32m~/anaconda3/envs/rufus/lib/python3.8/site-packages/pettingzoo/utils/wrappers/assert_out_of_bounds.py\u001b[0m in \u001b[0;36mstep\u001b[0;34m(self, action)\u001b[0m\n\u001b[1;32m     15\u001b[0m     \u001b[0;32mdef\u001b[0m \u001b[0mstep\u001b[0m\u001b[0;34m(\u001b[0m\u001b[0mself\u001b[0m\u001b[0;34m,\u001b[0m \u001b[0maction\u001b[0m\u001b[0;34m)\u001b[0m\u001b[0;34m:\u001b[0m\u001b[0;34m\u001b[0m\u001b[0;34m\u001b[0m\u001b[0m\n\u001b[1;32m     16\u001b[0m         \u001b[0;32massert\u001b[0m \u001b[0;34m(\u001b[0m\u001b[0maction\u001b[0m \u001b[0;32mis\u001b[0m \u001b[0;32mNone\u001b[0m \u001b[0;32mand\u001b[0m \u001b[0mself\u001b[0m\u001b[0;34m.\u001b[0m\u001b[0mdones\u001b[0m\u001b[0;34m[\u001b[0m\u001b[0mself\u001b[0m\u001b[0;34m.\u001b[0m\u001b[0magent_selection\u001b[0m\u001b[0;34m]\u001b[0m\u001b[0;34m)\u001b[0m \u001b[0;32mor\u001b[0m \u001b[0mself\u001b[0m\u001b[0;34m.\u001b[0m\u001b[0maction_space\u001b[0m\u001b[0;34m(\u001b[0m\u001b[0mself\u001b[0m\u001b[0;34m.\u001b[0m\u001b[0magent_selection\u001b[0m\u001b[0;34m)\u001b[0m\u001b[0;34m.\u001b[0m\u001b[0mcontains\u001b[0m\u001b[0;34m(\u001b[0m\u001b[0maction\u001b[0m\u001b[0;34m)\u001b[0m\u001b[0;34m,\u001b[0m \u001b[0;34m\"action is not in action space\"\u001b[0m\u001b[0;34m\u001b[0m\u001b[0;34m\u001b[0m\u001b[0m\n\u001b[0;32m---> 17\u001b[0;31m         \u001b[0msuper\u001b[0m\u001b[0;34m(\u001b[0m\u001b[0;34m)\u001b[0m\u001b[0;34m.\u001b[0m\u001b[0mstep\u001b[0m\u001b[0;34m(\u001b[0m\u001b[0maction\u001b[0m\u001b[0;34m)\u001b[0m\u001b[0;34m\u001b[0m\u001b[0;34m\u001b[0m\u001b[0m\n\u001b[0m\u001b[1;32m     18\u001b[0m \u001b[0;34m\u001b[0m\u001b[0m\n\u001b[1;32m     19\u001b[0m     \u001b[0;32mdef\u001b[0m \u001b[0m__str__\u001b[0m\u001b[0;34m(\u001b[0m\u001b[0mself\u001b[0m\u001b[0;34m)\u001b[0m\u001b[0;34m:\u001b[0m\u001b[0;34m\u001b[0m\u001b[0;34m\u001b[0m\u001b[0m\n",
      "\u001b[0;32m~/anaconda3/envs/rufus/lib/python3.8/site-packages/pettingzoo/utils/wrappers/base.py\u001b[0m in \u001b[0;36mstep\u001b[0;34m(self, action)\u001b[0m\n\u001b[1;32m     92\u001b[0m \u001b[0;34m\u001b[0m\u001b[0m\n\u001b[1;32m     93\u001b[0m     \u001b[0;32mdef\u001b[0m \u001b[0mstep\u001b[0m\u001b[0;34m(\u001b[0m\u001b[0mself\u001b[0m\u001b[0;34m,\u001b[0m \u001b[0maction\u001b[0m\u001b[0;34m)\u001b[0m\u001b[0;34m:\u001b[0m\u001b[0;34m\u001b[0m\u001b[0;34m\u001b[0m\u001b[0m\n\u001b[0;32m---> 94\u001b[0;31m         \u001b[0mself\u001b[0m\u001b[0;34m.\u001b[0m\u001b[0menv\u001b[0m\u001b[0;34m.\u001b[0m\u001b[0mstep\u001b[0m\u001b[0;34m(\u001b[0m\u001b[0maction\u001b[0m\u001b[0;34m)\u001b[0m\u001b[0;34m\u001b[0m\u001b[0;34m\u001b[0m\u001b[0m\n\u001b[0m\u001b[1;32m     95\u001b[0m \u001b[0;34m\u001b[0m\u001b[0m\n\u001b[1;32m     96\u001b[0m         \u001b[0mself\u001b[0m\u001b[0;34m.\u001b[0m\u001b[0magent_selection\u001b[0m \u001b[0;34m=\u001b[0m \u001b[0mself\u001b[0m\u001b[0;34m.\u001b[0m\u001b[0menv\u001b[0m\u001b[0;34m.\u001b[0m\u001b[0magent_selection\u001b[0m\u001b[0;34m\u001b[0m\u001b[0;34m\u001b[0m\u001b[0m\n",
      "\u001b[0;32m~/anaconda3/envs/rufus/lib/python3.8/site-packages/pettingzoo/utils/wrappers/terminate_illegal.py\u001b[0m in \u001b[0;36mstep\u001b[0;34m(self, action)\u001b[0m\n\u001b[1;32m     35\u001b[0m         \u001b[0mself\u001b[0m\u001b[0;34m.\u001b[0m\u001b[0m_prev_obs\u001b[0m \u001b[0;34m=\u001b[0m \u001b[0;32mNone\u001b[0m\u001b[0;34m\u001b[0m\u001b[0;34m\u001b[0m\u001b[0m\n\u001b[1;32m     36\u001b[0m         \u001b[0;32mif\u001b[0m \u001b[0mself\u001b[0m\u001b[0;34m.\u001b[0m\u001b[0m_terminated\u001b[0m \u001b[0;32mand\u001b[0m \u001b[0mself\u001b[0m\u001b[0;34m.\u001b[0m\u001b[0mdones\u001b[0m\u001b[0;34m[\u001b[0m\u001b[0mself\u001b[0m\u001b[0;34m.\u001b[0m\u001b[0magent_selection\u001b[0m\u001b[0;34m]\u001b[0m\u001b[0;34m:\u001b[0m\u001b[0;34m\u001b[0m\u001b[0;34m\u001b[0m\u001b[0m\n\u001b[0;32m---> 37\u001b[0;31m             \u001b[0mself\u001b[0m\u001b[0;34m.\u001b[0m\u001b[0m_was_done_step\u001b[0m\u001b[0;34m(\u001b[0m\u001b[0maction\u001b[0m\u001b[0;34m)\u001b[0m\u001b[0;34m\u001b[0m\u001b[0;34m\u001b[0m\u001b[0m\n\u001b[0m\u001b[1;32m     38\u001b[0m         \u001b[0;32melif\u001b[0m \u001b[0;32mnot\u001b[0m \u001b[0mself\u001b[0m\u001b[0;34m.\u001b[0m\u001b[0mdones\u001b[0m\u001b[0;34m[\u001b[0m\u001b[0mself\u001b[0m\u001b[0;34m.\u001b[0m\u001b[0magent_selection\u001b[0m\u001b[0;34m]\u001b[0m \u001b[0;32mand\u001b[0m \u001b[0;32mnot\u001b[0m \u001b[0m_prev_action_mask\u001b[0m\u001b[0;34m[\u001b[0m\u001b[0maction\u001b[0m\u001b[0;34m]\u001b[0m\u001b[0;34m:\u001b[0m\u001b[0;34m\u001b[0m\u001b[0;34m\u001b[0m\u001b[0m\n\u001b[1;32m     39\u001b[0m             \u001b[0mEnvLogger\u001b[0m\u001b[0;34m.\u001b[0m\u001b[0mwarn_on_illegal_move\u001b[0m\u001b[0;34m(\u001b[0m\u001b[0;34m)\u001b[0m\u001b[0;34m\u001b[0m\u001b[0;34m\u001b[0m\u001b[0m\n",
      "\u001b[0;32m~/anaconda3/envs/rufus/lib/python3.8/site-packages/pettingzoo/utils/env.py\u001b[0m in \u001b[0;36m_was_done_step\u001b[0;34m(self, action)\u001b[0m\n\u001b[1;32m    156\u001b[0m         '''\n\u001b[1;32m    157\u001b[0m         \u001b[0;32mif\u001b[0m \u001b[0maction\u001b[0m \u001b[0;32mis\u001b[0m \u001b[0;32mnot\u001b[0m \u001b[0;32mNone\u001b[0m\u001b[0;34m:\u001b[0m\u001b[0;34m\u001b[0m\u001b[0;34m\u001b[0m\u001b[0m\n\u001b[0;32m--> 158\u001b[0;31m             \u001b[0;32mraise\u001b[0m \u001b[0mValueError\u001b[0m\u001b[0;34m(\u001b[0m\u001b[0;34m\"when an agent is done, the only valid action is None\"\u001b[0m\u001b[0;34m)\u001b[0m\u001b[0;34m\u001b[0m\u001b[0;34m\u001b[0m\u001b[0m\n\u001b[0m\u001b[1;32m    159\u001b[0m \u001b[0;34m\u001b[0m\u001b[0m\n\u001b[1;32m    160\u001b[0m         \u001b[0;31m# removes done agent\u001b[0m\u001b[0;34m\u001b[0m\u001b[0;34m\u001b[0m\u001b[0;34m\u001b[0m\u001b[0m\n",
      "\u001b[0;31mValueError\u001b[0m: when an agent is done, the only valid action is None"
     ]
    }
   ],
   "source": [
    "env = uno_v4.env()\n",
    "env.reset()\n",
    "for agent in env.agents:\n",
    "    obs, reward, done, info = env.last()\n",
    "    print(obs[\"action_mask\"])\n",
    "    print(env.render())\n",
    "    print(env.step(2))"
   ]
  }
 ],
 "metadata": {
  "kernelspec": {
   "display_name": "Python 3 (ipykernel)",
   "language": "python",
   "name": "python3"
  },
  "language_info": {
   "codemirror_mode": {
    "name": "ipython",
    "version": 3
   },
   "file_extension": ".py",
   "mimetype": "text/x-python",
   "name": "python",
   "nbconvert_exporter": "python",
   "pygments_lexer": "ipython3",
   "version": "3.9.7"
  }
 },
 "nbformat": 4,
 "nbformat_minor": 5
}
