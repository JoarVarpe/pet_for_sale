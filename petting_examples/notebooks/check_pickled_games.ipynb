{
 "cells": [
  {
   "cell_type": "code",
   "execution_count": 15,
   "id": "0f7b448c-7b7b-4cdf-9f8f-6556cfe56944",
   "metadata": {},
   "outputs": [],
   "source": [
    "import pickle\n",
    "import random\n",
    "import pprint"
   ]
  },
  {
   "cell_type": "code",
   "execution_count": 28,
   "id": "09322dbd-158b-4d55-af5c-76353fd5c00f",
   "metadata": {},
   "outputs": [],
   "source": [
    "with open(\"/home/jaoi/master22/pet_for_sale/winning_games_db/10000_games.pkl\", \"rb\") as fp:\n",
    "        games = pickle.load(fp)\n",
    "        "
   ]
  },
  {
   "cell_type": "code",
   "execution_count": 14,
   "id": "d769895b-797e-48ae-963a-fbb783644917",
   "metadata": {},
   "outputs": [
    {
     "data": {
      "text/plain": [
       "'1234df'"
      ]
     },
     "execution_count": 14,
     "metadata": {},
     "output_type": "execute_result"
    }
   ],
   "source": [
    "random.choice([\"1234df\"])"
   ]
  },
  {
   "cell_type": "code",
   "execution_count": 29,
   "id": "c98aec9c-d975-4d8f-8705-e0dca9fb47cb",
   "metadata": {},
   "outputs": [
    {
     "name": "stdout",
     "output_type": "stream",
     "text": [
      "(57321, 2)\n"
     ]
    }
   ],
   "source": [
    "# pprint.pprint(games)\n",
    "print(games.shape)"
   ]
  }
 ],
 "metadata": {
  "kernelspec": {
   "display_name": "Python 3 (ipykernel)",
   "language": "python",
   "name": "python3"
  },
  "language_info": {
   "codemirror_mode": {
    "name": "ipython",
    "version": 3
   },
   "file_extension": ".py",
   "mimetype": "text/x-python",
   "name": "python",
   "nbconvert_exporter": "python",
   "pygments_lexer": "ipython3",
   "version": "3.8.12"
  }
 },
 "nbformat": 4,
 "nbformat_minor": 5
}
