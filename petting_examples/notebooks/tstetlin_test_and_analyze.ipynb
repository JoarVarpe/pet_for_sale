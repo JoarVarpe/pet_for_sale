{
 "cells": [
  {
   "cell_type": "code",
   "execution_count": 3,
   "id": "6b3941a6-0d55-4ae7-8dab-d25bdf298a60",
   "metadata": {},
   "outputs": [
    {
     "data": {
      "text/plain": [
       "'random penalty er 1/s'"
      ]
     },
     "execution_count": 3,
     "metadata": {},
     "output_type": "execute_result"
    }
   ],
   "source": [
    "from pyTsetlinMachineParallel.tm import MultiClassTsetlinMachine\n",
    "from tmu.tsetlin_machine import TMCoalescedClassifier\n",
    "from sklearn.ensemble import RandomForestClassifier\n",
    "import numpy as np \n",
    "import pickle\n",
    "import torch\n",
    "import tqdm\n",
    "from collections import Counter, defaultdict\n",
    "!export OMP_NUM_THREADS=10\n",
    "n_clauses_per_class = 200\n",
    "n_clauses_per_class = 20\n",
    "\n",
    "treshold = int(n_clauses_per_class * 0.8)\n",
    "s_param = 6.8\n",
    "s_param = 21.3\n",
    "s_param = 11.40000000000001\n",
    "\"s henger sammen hvor ofte du ser pattern\"\n",
    "\"lav s sier at man ser et pattern ofte, og kan glemme dette\"\n",
    "\"belonning er s/(s-1)\"\n",
    "\"random penalty er 1/s\""
   ]
  },
  {
   "cell_type": "code",
   "execution_count": 4,
   "id": "091e2e22-ca80-4488-99b3-0b7985d09e43",
   "metadata": {},
   "outputs": [],
   "source": [
    "# tm = MultiClassTsetlinMachine(n_clauses_per_class, treshold, s_param, weighted_clauses=True, boost_true_positive_feedback=0)\n",
    "tm = TMCoalescedClassifier(n_clauses_per_class, treshold, s_param, weighted_clauses=True, boost_true_positive_feedback=0)\n",
    "cuda_tm = TMCoalescedClassifier(n_clauses_per_class, treshold, s_param,  platform='CUDA', boost_true_positive_feedback=0)\n"
   ]
  },
  {
   "cell_type": "code",
   "execution_count": 10,
   "id": "9e4e23c6-7757-4cc7-8cf5-08def3e8a3ab",
   "metadata": {},
   "outputs": [],
   "source": [
    "rf = RandomForestClassifier()"
   ]
  },
  {
   "cell_type": "code",
   "execution_count": 5,
   "id": "854999c0-8085-4208-848d-40d0a7a4788e",
   "metadata": {},
   "outputs": [
    {
     "name": "stdout",
     "output_type": "stream",
     "text": [
      "[[array([1., 0., 0., 1., 0., 0., 0., 0., 0., 0., 0., 0., 0., 0., 0., 0., 0.,\n",
      "         1., 0., 0., 0., 0., 0., 1., 0., 0., 1., 0., 1., 0., 1., 0., 1., 0.,\n",
      "         1., 0., 0., 1., 0., 0., 0., 0., 0., 0., 0., 0., 0., 0., 0., 0., 0.,\n",
      "         1., 0., 1., 0., 0., 1., 0., 1., 1., 0., 1., 1., 0., 1., 1., 0., 1.,\n",
      "         1., 0., 0., 1., 0., 0., 0., 0., 1., 0., 0., 0., 0., 0., 0., 0., 0.,\n",
      "         0., 0., 0., 0., 0., 0., 1., 0., 0., 1., 0., 0., 0., 0., 0., 1., 1.,\n",
      "         1., 1., 1., 1., 1., 1., 1., 1., 1., 1., 0., 1., 0., 1., 1., 1., 0.,\n",
      "         1., 0., 0., 0., 0., 0., 0.], dtype=float32)\n",
      "  0]\n",
      " [array([1., 0., 0., 1., 0., 1., 0., 1., 0., 0., 0., 0., 0., 0., 0., 0., 0.,\n",
      "         1., 0., 0., 0., 0., 0., 1., 0., 0., 1., 0., 0., 0., 1., 0., 1., 1.,\n",
      "         0., 1., 0., 0., 1., 1., 0., 1., 1., 0., 0., 0., 0., 0., 0., 0., 0.,\n",
      "         0., 0., 0., 0., 0., 1., 0., 1., 0., 0., 0., 0., 1., 1., 1., 1., 0.,\n",
      "         1., 0., 0., 1., 0., 0., 0., 0., 1., 0., 0., 0., 0., 0., 0., 0., 0.,\n",
      "         1., 0., 1., 0., 0., 1., 0., 1., 0., 0., 1., 1., 0., 0., 1., 0., 1.,\n",
      "         1., 0., 1., 1., 1., 1., 1., 1., 1., 1., 0., 1., 0., 0., 1., 0., 1.,\n",
      "         1., 1., 0., 0., 1., 0., 1.], dtype=float32)\n",
      "  0]\n",
      " [array([1., 0., 0., 1., 0., 1., 0., 1., 0., 0., 0., 1., 0., 0., 0., 0., 0.,\n",
      "         1., 0., 0., 0., 0., 0., 1., 0., 0., 1., 0., 0., 0., 1., 1., 1., 1.,\n",
      "         0., 1., 0., 0., 0., 1., 0., 1., 1., 0., 1., 1., 1., 0., 0., 0., 0.,\n",
      "         1., 0., 0., 0., 0., 0., 0., 1., 0., 0., 0., 0., 1., 0., 0., 1., 0.,\n",
      "         0., 1., 0., 0., 1., 1., 0., 0., 1., 0., 0., 0., 1., 0., 0., 0., 0.,\n",
      "         1., 0., 0., 0., 0., 1., 0., 1., 0., 0., 0., 1., 0., 0., 0., 0., 1.,\n",
      "         1., 0., 0., 1., 0., 1., 1., 1., 1., 0., 0., 1., 0., 0., 0., 0., 1.,\n",
      "         0., 0., 0., 0., 1., 1., 0.], dtype=float32)\n",
      "  4]]\n",
      "[1. 0. 0. 1. 0. 0. 0. 0. 0. 0. 0. 0. 0. 0. 0. 0. 0. 1. 0. 0. 0. 0. 0. 1.\n",
      " 0. 0. 1. 0. 1. 0. 1. 0. 1. 0. 1. 0. 0. 1. 0. 0. 0. 0. 0. 0. 0. 0. 0. 0.\n",
      " 0. 0. 0. 1. 0. 1. 0. 0. 1. 0. 1. 1. 0. 1. 1. 0. 1. 1. 0. 1. 1. 0. 0. 1.\n",
      " 0. 0. 0. 0. 1. 0. 0. 0. 0. 0. 0. 0. 0. 0. 0. 0. 0. 0. 0. 1. 0. 0. 1. 0.\n",
      " 0. 0. 0. 0. 1. 1. 1. 1. 1. 1. 1. 1. 1. 1. 1. 1. 0. 1. 0. 1. 1. 1. 0. 1.\n",
      " 0. 0. 0. 0. 0. 0.]\n"
     ]
    },
    {
     "data": {
      "text/plain": [
       "(2,)"
      ]
     },
     "execution_count": 5,
     "metadata": {},
     "output_type": "execute_result"
    }
   ],
   "source": [
    "game_amount = 100000\n",
    "with open(\"/home/jaoi/master22/pet_for_sale/winning_games_db/{}_tsetlined_games.pkl\".format(game_amount), \"rb\") as fp:\n",
    "        games = pickle.load(fp)\n",
    "print(games[:3])\n",
    "print(games[0][0])\n",
    "games[0].shape"
   ]
  },
  {
   "cell_type": "code",
   "execution_count": 5,
   "id": "6ce9279f-f71f-4319-963b-e12af4804f68",
   "metadata": {},
   "outputs": [
    {
     "data": {
      "text/plain": [
       "(126,)"
      ]
     },
     "execution_count": 5,
     "metadata": {},
     "output_type": "execute_result"
    }
   ],
   "source": [
    "games[0][0].shape"
   ]
  },
  {
   "cell_type": "code",
   "execution_count": 6,
   "id": "6094293d-f200-4dba-9855-402bdb9d3293",
   "metadata": {},
   "outputs": [
    {
     "data": {
      "text/plain": [
       "514835"
      ]
     },
     "execution_count": 6,
     "metadata": {},
     "output_type": "execute_result"
    }
   ],
   "source": [
    "train_i = int(games.shape[0] * 0.9)\n",
    "train_i"
   ]
  },
  {
   "cell_type": "code",
   "execution_count": 12,
   "id": "332c0364-d399-4d90-9f60-7c28d9be4091",
   "metadata": {},
   "outputs": [
    {
     "name": "stdout",
     "output_type": "stream",
     "text": [
      "/bin/bash: nvcc: command not found\n"
     ]
    }
   ],
   "source": []
  },
  {
   "cell_type": "code",
   "execution_count": 143,
   "id": "18dbfa6d-5420-48d7-a06a-6f5ee9530496",
   "metadata": {},
   "outputs": [
    {
     "data": {
      "text/plain": [
       "Counter({0: 200687,\n",
       "         4: 28227,\n",
       "         10: 48887,\n",
       "         9: 73117,\n",
       "         12: 46446,\n",
       "         11: 21266,\n",
       "         13: 5810,\n",
       "         1: 61140,\n",
       "         3: 29043,\n",
       "         6: 40378,\n",
       "         5: 12874,\n",
       "         7: 1322,\n",
       "         2: 767,\n",
       "         8: 918,\n",
       "         15: 282,\n",
       "         14: 396,\n",
       "         16: 350,\n",
       "         17: 91,\n",
       "         18: 38})"
      ]
     },
     "execution_count": 143,
     "metadata": {},
     "output_type": "execute_result"
    }
   ],
   "source": [
    "ys = Counter()\n",
    "for game in games:\n",
    "    ys[game[1]] += 1\n",
    "ys"
   ]
  },
  {
   "cell_type": "code",
   "execution_count": 7,
   "id": "19ea4b37-1943-4533-a13d-9eef3aacbf03",
   "metadata": {},
   "outputs": [],
   "source": [
    "x_train =np.array([game[0] for game in games[:train_i, :1]])\n",
    "x_test =np.array([game[0] for game in games[train_i:, :1]])\n",
    "\n",
    "y_train =np.array([game[0] for game in games[:train_i, 1:]])\n",
    "y_test =np.array([game[0] for game in games[train_i:, 1:]])\n",
    "\n",
    "\n",
    "# x_test = games[train_i:, :1]\n",
    "\n",
    "# y_train = games[:train_i, 1:]\n",
    "# y_test = games[train_i:, 1:]\n",
    "\n",
    "# for game in games:\n",
    "#     print(game[0])\n",
    "#     break"
   ]
  },
  {
   "cell_type": "code",
   "execution_count": 10,
   "id": "7c117188-99a6-40eb-8b58-cf483fcb096c",
   "metadata": {},
   "outputs": [
    {
     "data": {
      "text/plain": [
       "(514835,)"
      ]
     },
     "execution_count": 10,
     "metadata": {},
     "output_type": "execute_result"
    }
   ],
   "source": [
    "y_train.shape"
   ]
  },
  {
   "cell_type": "code",
   "execution_count": 6,
   "id": "1bf1a3fe-84f6-480b-9a26-89de2de73ca2",
   "metadata": {},
   "outputs": [
    {
     "name": "stdout",
     "output_type": "stream",
     "text": [
      "/bin/bash: nvcc: command not found\n"
     ]
    }
   ],
   "source": []
  },
  {
   "cell_type": "code",
   "execution_count": 8,
   "id": "1aebe83c-e7eb-42a9-b91b-a0ebdca7615d",
   "metadata": {},
   "outputs": [
    {
     "name": "stdout",
     "output_type": "stream",
     "text": [
      "Accuracy tm: 81.36668764422068\n"
     ]
    }
   ],
   "source": [
    "epochs = 1\n",
    "# for epoch in range(epochs):\n",
    "#     tm.fit(x_train, y_train)\n",
    "\n",
    "# print(\"Accuracy tm:\", 100*(tm.predict(x_test) == y_test).mean())\n",
    "\n",
    "for epoch in range(epochs):\n",
    "    cuda_tm.fit(x_train, y_train)\n",
    "\n",
    "print(\"Accuracy tm:\", 100*(cuda_tm.predict(x_test) == y_test).mean())"
   ]
  },
  {
   "cell_type": "code",
   "execution_count": 11,
   "id": "3ebb3981-d218-4342-afd1-ec53e1210ea3",
   "metadata": {},
   "outputs": [
    {
     "name": "stdout",
     "output_type": "stream",
     "text": [
      "Accuracy rf: 97.01069855254877\n"
     ]
    }
   ],
   "source": [
    "rf.fit(x_train, y_train)\n",
    "print(\"Accuracy rf:\", 100*(rf.predict(x_test) == y_test).mean())"
   ]
  },
  {
   "cell_type": "code",
   "execution_count": 13,
   "id": "2612a381-a366-48c3-91f5-fbadcaef4c36",
   "metadata": {},
   "outputs": [],
   "source": [
    "def tsetlin_hyperparameter_search(n_clauses_per_class, x_t, y_t, x_v, y_v):\n",
    "    \"\"\"\n",
    "    Search for the best hyperparameters for the tsetlin machine\n",
    "    \"\"\"\n",
    "    # device = torch.device(\"cuda\" if torch.cuda.is_available() else \"cpu\")\n",
    "    best = 0.0\n",
    "    treshold = int(0.8 * n_clauses_per_class)\n",
    "    print(\"starting training\")\n",
    "    for s_param in tqdm.tqdm(np.arange(1.0, 30.0, 0.1)):\n",
    "        tm = MultiClassTsetlinMachine(n_clauses_per_class, treshold, s_param, weighted_clauses=True, boost_true_positive_feedback=0)\n",
    "        tm.fit(x_t, y_t, epochs=200)\n",
    "        acc = 100*(tm.predict(x_v) == y_v).mean()\n",
    "        if acc > best:\n",
    "            print(\"NEW BEST ACC {} WITH s_param {}\".format(acc, s_param))\n",
    "            best = acc\n",
    "# tsetlin_hyperparameter_search(50, x_train, y_train, x_test, y_test)"
   ]
  },
  {
   "cell_type": "code",
   "execution_count": 14,
   "id": "a243d744-7e82-44d0-b99e-4df7a86d1f49",
   "metadata": {},
   "outputs": [
    {
     "data": {
      "text/plain": [
       "19"
      ]
     },
     "execution_count": 14,
     "metadata": {},
     "output_type": "execute_result"
    }
   ],
   "source": [
    "tm.number_of_classes"
   ]
  },
  {
   "cell_type": "code",
   "execution_count": 15,
   "id": "36714e0e-9424-4007-948b-73689fcea1fb",
   "metadata": {},
   "outputs": [],
   "source": [
    "def get_name_of_feature_from_3_rounds(feature_nr):\n",
    "    # for own player with 4 bits representing the cards as max number is 11\n",
    "    reverse_4_bits = [3, 2, 1, 0]\n",
    "    reverse_5_bits = [4, 3, 2, 1, 0]\n",
    "    if feature_nr in [0,1,2,3,4]:\n",
    "        return \"own coins bit {}\".format(2**(reverse_5_bits[feature_nr]))\n",
    "    elif feature_nr in [5,6,7,8]:\n",
    "        return \"own cards 1. bit {}\".format(2**reverse_4_bits[feature_nr - 5])\n",
    "    elif feature_nr in [9,10,11,12]:\n",
    "        return \"own cards 2. bit {}\".format(2**reverse_4_bits[feature_nr - 9])\n",
    "    elif feature_nr in [13,14,15,16]:\n",
    "        return \"own cards 3. bit {}\".format(2**reverse_4_bits[feature_nr - 13])\n",
    "    elif feature_nr == 17:\n",
    "        return \"self can bid bit\"\n",
    "    elif feature_nr in [18,19,20,21,22]:\n",
    "        return \"current own bid {}\".format(2**reverse_5_bits[feature_nr - 18])\n",
    "    elif feature_nr in [23,24,25,26,27]:\n",
    "        return \"resulting own coins if fold {}\".format(2**reverse_5_bits[feature_nr - 23])\n",
    "    elif feature_nr in [28,29,30,31]:\n",
    "        return \"resulting card on fold {}\".format(2**reverse_4_bits[feature_nr - 28])\n",
    "    elif feature_nr in [32,33]:\n",
    "        return \"next turn order {}\".format(2**reverse_4_bits[feature_nr - 32])\n",
    "    # for next player in line\n",
    "    elif feature_nr in [34, 35, 36, 37, 38]:\n",
    "        return \"next player coins bit {}\".format(2**(reverse_5_bits[feature_nr - 34]))\n",
    "    elif feature_nr in [39, 40, 41, 42]:\n",
    "        return \"next player cards 1. bit {}\".format(2**reverse_4_bits[feature_nr - 39])\n",
    "    elif feature_nr in [43, 44, 45, 46]:\n",
    "        return \"next player cards 2. bit {}\".format(2**reverse_4_bits[feature_nr - 43])\n",
    "    elif feature_nr in [47, 48, 49, 50]:\n",
    "        return \"next player cards 3. bit {}\".format(2**reverse_4_bits[feature_nr - 47])\n",
    "    elif feature_nr == 51:\n",
    "        return \"next can bid bit\"\n",
    "    elif feature_nr in [52, 53, 54, 55, 56]:\n",
    "        return \"current next player bid {} bit\".format(2**reverse_5_bits[feature_nr - 52])\n",
    "    elif feature_nr in [57, 58, 59, 60, 61]:\n",
    "        return \"resulting next player coins if fold {}\".format(2**reverse_5_bits[feature_nr - 57])\n",
    "    elif feature_nr in [62, 63, 64, 65]:\n",
    "        return \"resulting card on fold {}\".format(2**reverse_4_bits[feature_nr - 62])\n",
    "    elif feature_nr in [66, 67]:\n",
    "        return \"next turn order {}\".format(2**reverse_4_bits[feature_nr - 66])\n",
    "    # for last player in line\n",
    "    elif feature_nr in [68, 69, 70, 71, 72]:\n",
    "        return \"last player coins bit {}\".format(2**(reverse_5_bits[feature_nr - 68]))\n",
    "    elif feature_nr in [73, 74, 75, 76]:\n",
    "        return \"last player cards 1. bit {}\".format(2**reverse_4_bits[feature_nr - 73])\n",
    "    elif feature_nr in [77, 78, 79, 80]:\n",
    "        return \"last player cards 2. bit {}\".format(2**reverse_4_bits[feature_nr - 77])\n",
    "    elif feature_nr in [81, 82, 83, 84]:\n",
    "        return \"last player cards 3. bit {}\".format(2**reverse_4_bits[feature_nr - 81])\n",
    "    elif feature_nr == 85:\n",
    "        return \"last player can bid\"\n",
    "    elif feature_nr in [86, 87, 88, 89, 90]:\n",
    "        return \"current next player bid {}\".format(2**reverse_5_bits[feature_nr - 86])\n",
    "    elif feature_nr in [91, 92, 93, 94, 95]:\n",
    "        return \"resulting next player coins if fold {}\".format(2**reverse_5_bits[feature_nr - 91])\n",
    "    elif feature_nr in [96, 97, 98, 99]:\n",
    "        return \"resulting card on fold {}\".format(2**reverse_4_bits[feature_nr - 96])\n",
    "    elif feature_nr in [100, 101]:\n",
    "        return \"next turn order {}\".format(2**reverse_4_bits[feature_nr - 100])\n",
    "    # remainder stats\n",
    "    elif feature_nr in [102, 103, 104, 105, 106, 107, 108, 109, 110, 111, 112]:\n",
    "        return \"{}. largest in stack\".format(feature_nr - 101)\n",
    "    elif feature_nr in [113, 114, 115, 116]:\n",
    "        return \"last player cards 3. bit {}\".format(2**reverse_4_bits[feature_nr - 113])\n",
    "    elif feature_nr in [117, 118, 119, 120]:\n",
    "        return \"last player cards 3. bit {}\".format(2**reverse_4_bits[feature_nr - 117])\n",
    "    elif feature_nr in [121, 122, 123, 124]:\n",
    "        return \"last player cards 3. bit {}\".format(2**reverse_4_bits[feature_nr - 121])\n",
    "    elif feature_nr == 125:\n",
    "        return \"board_std\"\n",
    "    return \"not implemented\"\n",
    "        "
   ]
  },
  {
   "cell_type": "code",
   "execution_count": 16,
   "id": "ec2d2e84-8038-4bc0-b409-1464cb8e822e",
   "metadata": {},
   "outputs": [
    {
     "data": {
      "text/plain": [
       "126"
      ]
     },
     "execution_count": 16,
     "metadata": {},
     "output_type": "execute_result"
    }
   ],
   "source": [
    "sum([5, 4, 4, 4, 1, 5, 5, 4, 2]) * 3 + 11 + 4 + 4 + 4 + 1"
   ]
  },
  {
   "cell_type": "code",
   "execution_count": 17,
   "id": "eef901dd-aa04-4b66-b163-0b4a89d73cf7",
   "metadata": {},
   "outputs": [
    {
     "data": {
      "text/plain": [
       "34"
      ]
     },
     "execution_count": 17,
     "metadata": {},
     "output_type": "execute_result"
    }
   ],
   "source": [
    "sum([5, 4, 4, 4, 1, 5, 5, 4, 2])"
   ]
  },
  {
   "cell_type": "code",
   "execution_count": 9,
   "id": "3cc890ec-7b6c-4012-ac6f-08d4ed1d5394",
   "metadata": {},
   "outputs": [
    {
     "data": {
      "text/plain": [
       "(20,)"
      ]
     },
     "execution_count": 9,
     "metadata": {},
     "output_type": "execute_result"
    }
   ],
   "source": [
    "cuda_tm.weight_banks[0].weights.shape"
   ]
  },
  {
   "cell_type": "code",
   "execution_count": 12,
   "id": "ecf1c479-817c-41ed-919a-f9925e0f82e4",
   "metadata": {},
   "outputs": [
    {
     "ename": "AttributeError",
     "evalue": "'TMCoalescedClassifier' object has no attribute 'number_of_features'",
     "output_type": "error",
     "traceback": [
      "\u001b[0;31m---------------------------------------------------------------------------\u001b[0m",
      "\u001b[0;31mAttributeError\u001b[0m                            Traceback (most recent call last)",
      "Input \u001b[0;32mIn [12]\u001b[0m, in \u001b[0;36m<cell line: 57>\u001b[0;34m()\u001b[0m\n\u001b[1;32m     54\u001b[0m                         l\u001b[38;5;241m.\u001b[39mappend(\u001b[38;5;124m\"\u001b[39m\u001b[38;5;124m¬\u001b[39m\u001b[38;5;124m\"\u001b[39m\u001b[38;5;241m+\u001b[39mget_name_of_feature_from_3_rounds(k\u001b[38;5;241m-\u001b[39mnumber_of_features))\n\u001b[1;32m     55\u001b[0m             \u001b[38;5;28mprint\u001b[39m(\u001b[38;5;124m\"\u001b[39m\u001b[38;5;124m ∧ \u001b[39m\u001b[38;5;124m\"\u001b[39m\u001b[38;5;241m.\u001b[39mjoin(l))\n\u001b[0;32m---> 57\u001b[0m \u001b[43mshow_clauses_from_tm\u001b[49m\u001b[43m(\u001b[49m\u001b[43mcuda_tm\u001b[49m\u001b[43m,\u001b[49m\u001b[43m \u001b[49m\u001b[43mone_class\u001b[49m\u001b[38;5;241;43m=\u001b[39;49m\u001b[38;5;241;43m12\u001b[39;49m\u001b[43m)\u001b[49m\n",
      "Input \u001b[0;32mIn [12]\u001b[0m, in \u001b[0;36mshow_clauses_from_tm\u001b[0;34m(tm, one_class)\u001b[0m\n\u001b[1;32m      1\u001b[0m \u001b[38;5;28;01mdef\u001b[39;00m \u001b[38;5;21mshow_clauses_from_tm\u001b[39m(tm, one_class\u001b[38;5;241m=\u001b[39m\u001b[38;5;28;01mFalse\u001b[39;00m):\n\u001b[0;32m----> 2\u001b[0m     number_of_features \u001b[38;5;241m=\u001b[39m \u001b[38;5;28mint\u001b[39m(\u001b[43mtm\u001b[49m\u001b[38;5;241;43m.\u001b[39;49m\u001b[43mnumber_of_features\u001b[49m\u001b[38;5;241m/\u001b[39m\u001b[38;5;241m2\u001b[39m)\n\u001b[1;32m      3\u001b[0m     number_of_classes \u001b[38;5;241m=\u001b[39m tm\u001b[38;5;241m.\u001b[39mnumber_of_classes\n\u001b[1;32m      4\u001b[0m     \u001b[38;5;28;01mif\u001b[39;00m \u001b[38;5;129;01mnot\u001b[39;00m one_class:\n",
      "\u001b[0;31mAttributeError\u001b[0m: 'TMCoalescedClassifier' object has no attribute 'number_of_features'"
     ]
    }
   ],
   "source": [
    "def show_clauses_from_tm(tm, one_class=False):\n",
    "    number_of_features = int(tm.number_of_features/2)\n",
    "    number_of_classes = tm.number_of_classes\n",
    "    if not one_class:\n",
    "        for clas in range(number_of_classes):\n",
    "\n",
    "            print(\"\\nClass {} Positive Clauses:\\n\".format(clas))\n",
    "            for j in range(0, n_clauses_per_class, 2):\n",
    "                print(\"Clause #%d: \" % (j), end=' ')\n",
    "                l = []\n",
    "                for k in range(number_of_features*2):\n",
    "                    if tm.ta_action(clas, j, k) == 1:\n",
    "                        if k < number_of_features:\n",
    "                            l.append(\" \"+get_name_of_feature_from_3_rounds(k))\n",
    "                        else:\n",
    "                            l.append(\"¬\"+get_name_of_feature_from_3_rounds(k-number_of_features))\n",
    "                print(\" ∧ \".join(l))\n",
    "\n",
    "            print(\"\\nClass {} Negative Clauses:\\n\".format(clas))\n",
    "            for j in range(1, n_clauses_per_class, 2):\n",
    "                print(\"Clause #%d: \" % (j), end=' ')\n",
    "                l = []\n",
    "                for k in range(number_of_features*2):\n",
    "                    if tm.ta_action(clas, j, k) == 1:\n",
    "                        if k < number_of_features:\n",
    "                            l.append(\" \"+get_name_of_feature_from_3_rounds(k))\n",
    "                        else:\n",
    "                            l.append(\"¬\"+get_name_of_feature_from_3_rounds(k-number_of_features))\n",
    "                print(\" ∧ \".join(l))\n",
    "    else:\n",
    "        \n",
    "\n",
    "        print(\"\\nClass {} Positive Clauses:\\n\".format(one_class))\n",
    "        for j in range(0, n_clauses_per_class, 2):\n",
    "            print(\"Clause #%d: \" % (j), end=' ')\n",
    "            l = []\n",
    "            for k in range(number_of_features*2):\n",
    "                if tm.ta_action(one_class, j, k) == 1:\n",
    "                    if k < number_of_features:\n",
    "                        l.append(\" \"+get_name_of_feature_from_3_rounds(k))\n",
    "                    else:\n",
    "                        l.append(\"¬\"+get_name_of_feature_from_3_rounds(k-number_of_features))\n",
    "            print(\" ∧ \".join(l))\n",
    "\n",
    "        print(\"\\nClass {} Negative Clauses:\\n\".format(one_class))\n",
    "        for j in range(1, n_clauses_per_class, 2):\n",
    "            print(\"Clause #%d: \" % (j), end=' ')\n",
    "            l = []\n",
    "            for k in range(number_of_features*2):\n",
    "                if tm.ta_action(one_class, j, k) == 1:\n",
    "                    if k < number_of_features:\n",
    "                        l.append(\" \"+get_name_of_feature_from_3_rounds(k))\n",
    "                    else:\n",
    "                        l.append(\"¬\"+get_name_of_feature_from_3_rounds(k-number_of_features))\n",
    "            print(\" ∧ \".join(l))\n",
    "\n",
    "show_clauses_from_tm(cuda_tm, one_class=12)"
   ]
  },
  {
   "cell_type": "code",
   "execution_count": 19,
   "id": "e4491733-27ae-490c-9fb1-478debbe3531",
   "metadata": {},
   "outputs": [],
   "source": [
    "def make_clauses_into_rule_stats(tm):\n",
    "    number_of_features = int(tm.number_of_features/2)\n",
    "    number_of_classes = tm.number_of_classes\n",
    "    \n",
    "    analyzed_classes = {}\n",
    "    for clas in range(number_of_classes):\n",
    "        pos = Counter()\n",
    "        neg = Counter()\n",
    "        \n",
    "        # print(\"\\nClass {} Positive Clauses:\\n\".format(clas))\n",
    "        for j in range(0, n_clauses_per_class, 2):\n",
    "            # print(\"Clause #%d: \" % (j), end=' ')\n",
    "            for k in range(number_of_features*2):\n",
    "                if tm.ta_action(clas, j, k) == 1:\n",
    "                    if k < number_of_features:\n",
    "                        pos[get_name_of_feature_from_3_rounds(k)] += 1\n",
    "                    else:\n",
    "                        pos[\"¬\"+get_name_of_feature_from_3_rounds(k-number_of_features)] += 1\n",
    "\n",
    "        # print(\"\\nClass {} Negative Clauses:\\n\".format(clas))\n",
    "        for j in range(1, n_clauses_per_class, 2):\n",
    "            # print(\"Clause #%d: \" % (j), end=' ')\n",
    "            l = []\n",
    "            for k in range(number_of_features*2):\n",
    "                if tm.ta_action(clas, j, k) == 1:\n",
    "                    if k < number_of_features:\n",
    "                        neg[get_name_of_feature_from_3_rounds(k)] += 1\n",
    "                    else:\n",
    "                        neg[\"¬\"+get_name_of_feature_from_3_rounds(k-number_of_features)] += 1\n",
    "        \n",
    "        analyzed_classes[clas] = {\"negative\": neg, \"positive\": pos}\n",
    "    return analyzed_classes\n",
    "\n",
    "analyzed = make_clauses_into_rule_stats(tm)\n"
   ]
  },
  {
   "cell_type": "code",
   "execution_count": 10,
   "id": "3ff876eb-36e3-4841-aa35-a254df052b3c",
   "metadata": {},
   "outputs": [],
   "source": [
    "# prev1 = 0\n",
    "# prev2 = 0\n",
    "# for k, v in analyzed.items():\n",
    "#     print(\"*\"*5 + f\"{k}\" + \"*\"*5)\n",
    "#     print(\"positive\")\n",
    "#     print(v[\"positive\"].most_common(10))\n",
    "#     print(\"negative\")\n",
    "#     print(v[\"negative\"].most_common(10))  \n",
    "    "
   ]
  },
  {
   "cell_type": "code",
   "execution_count": 67,
   "id": "04249c7b-46a3-4c6c-bdbd-00488312d301",
   "metadata": {},
   "outputs": [
    {
     "data": {
      "text/plain": [
       "array([0, 0, 0, 0, 0, 0, 0, 0, 1, 0, 0, 0, 0, 0, 0, 0, 0, 0, 0, 0, 0, 0,\n",
       "       0, 0, 0, 0, 0, 0, 0, 0, 0, 0, 0, 0, 0, 0, 0, 0, 0, 0, 0, 0, 0, 0,\n",
       "       0, 0, 0, 0, 0, 0, 1, 0, 0, 0, 0, 0, 0, 0, 0, 0, 0, 0, 0, 0, 0, 0,\n",
       "       1, 1, 0, 0, 0, 0, 0, 1, 0, 0, 0, 0, 0, 0, 1, 0, 0, 0, 0, 0, 0, 0,\n",
       "       0, 0, 0, 0, 0, 0, 1, 0, 0, 0, 0, 0, 0, 0, 0, 0, 0, 0, 0, 0, 0, 0,\n",
       "       0, 0, 0, 0, 0, 0, 0, 0, 0, 0, 0, 0, 0, 0, 0, 0, 0, 0, 1, 0, 0, 0,\n",
       "       0, 0, 0, 0, 0, 0, 0, 0, 0, 0, 0, 0, 0, 0, 1, 0, 1, 1, 0, 0, 0, 0,\n",
       "       0, 0, 0, 0, 0, 0, 0, 0, 0, 0, 0, 1, 0, 0, 0, 0, 0, 0, 0, 1, 0, 0,\n",
       "       0, 0, 0, 0, 0, 0, 0, 0, 0, 0, 0, 0, 0, 0, 0, 0, 0, 0, 0, 0, 0, 0,\n",
       "       1, 0], dtype=uint32)"
      ]
     },
     "execution_count": 67,
     "metadata": {},
     "output_type": "execute_result"
    }
   ],
   "source": [
    "# gives out a list of vectores of length number of features where each vector is number_of_classes * n_clauses_per_class long\n",
    "# tm.transform(x_test[0]).shape\n",
    "\n",
    "# cuda_tm.transform(x_test[0]).shape\n",
    "cuda_tm.transform(x_test[0])[0]\n",
    "# cuda_tm.predict(x_test[0].reshape(1, -1))\n",
    "\n",
    "# len(cuda_tm.weight_banks)"
   ]
  },
  {
   "cell_type": "code",
   "execution_count": 94,
   "id": "19b6a31c-1b9e-4728-b9ba-e0eb2a25661e",
   "metadata": {},
   "outputs": [
    {
     "name": "stdout",
     "output_type": "stream",
     "text": [
      "SHIT ITS WRONG ON 1\n",
      "OG SAYS 10, BENT SAYS 0\n",
      "Counter({0: 56144, 3: 31599, 1: 17555, 14: 0, 8: -7018, 7: -7022, 6: -17545, 12: -24563, 17: -35110, 2: -38599, 10: -52635, 5: -52665, 4: -56144, 9: -59687, 15: -59687, 11: -63198, 16: -66671, 18: -66671, 13: -84264})\n",
      "SHIT ITS WRONG ON 2\n",
      "OG SAYS 12, BENT SAYS 0\n",
      "Counter({0: 56784, 3: 31653, 1: 17585, 14: 0, 7: -7034, 8: -7098, 6: -17745, 12: -24843, 17: -35170, 2: -39039, 5: -52755, 10: -53235, 4: -56784, 9: -59789, 15: -59789, 11: -63306, 16: -67431, 18: -67431, 13: -84408})\n"
     ]
    },
    {
     "ename": "KeyboardInterrupt",
     "evalue": "",
     "output_type": "error",
     "traceback": [
      "\u001b[0;31m---------------------------------------------------------------------------\u001b[0m",
      "\u001b[0;31mKeyboardInterrupt\u001b[0m                         Traceback (most recent call last)",
      "Input \u001b[0;32mIn [94]\u001b[0m, in \u001b[0;36m<cell line: 23>\u001b[0;34m()\u001b[0m\n\u001b[1;32m     23\u001b[0m \u001b[38;5;28;01mfor\u001b[39;00m i, x_arr \u001b[38;5;129;01min\u001b[39;00m \u001b[38;5;28menumerate\u001b[39m(x_test):\n\u001b[1;32m     24\u001b[0m     og_predict \u001b[38;5;241m=\u001b[39m cuda_tm\u001b[38;5;241m.\u001b[39mpredict(x_arr\u001b[38;5;241m.\u001b[39mreshape(\u001b[38;5;241m1\u001b[39m, \u001b[38;5;241m-\u001b[39m\u001b[38;5;241m1\u001b[39m))[\u001b[38;5;241m0\u001b[39m]\n\u001b[0;32m---> 25\u001b[0m     bent_pred \u001b[38;5;241m=\u001b[39m \u001b[43mnew_bent_predict\u001b[49m\u001b[43m(\u001b[49m\u001b[43mcuda_tm\u001b[49m\u001b[43m,\u001b[49m\u001b[43m \u001b[49m\u001b[43mx_arr\u001b[49m\u001b[43m)\u001b[49m\n\u001b[1;32m     26\u001b[0m     \u001b[38;5;28;01mif\u001b[39;00m og_predict \u001b[38;5;241m!=\u001b[39m bent_pred:\n\u001b[1;32m     27\u001b[0m         \u001b[38;5;28mprint\u001b[39m(\u001b[38;5;124m\"\u001b[39m\u001b[38;5;124mSHIT ITS WRONG ON \u001b[39m\u001b[38;5;132;01m{}\u001b[39;00m\u001b[38;5;124m\"\u001b[39m\u001b[38;5;241m.\u001b[39mformat(i))\n",
      "Input \u001b[0;32mIn [94]\u001b[0m, in \u001b[0;36mnew_bent_predict\u001b[0;34m(cuda_tm, x, ret_dic)\u001b[0m\n\u001b[1;32m     10\u001b[0m \u001b[38;5;28;01mfor\u001b[39;00m i, clauses \u001b[38;5;129;01min\u001b[39;00m \u001b[38;5;28menumerate\u001b[39m(cuda_tm\u001b[38;5;241m.\u001b[39mtransform(x)):\n\u001b[1;32m     11\u001b[0m     \u001b[38;5;66;03m# transform transformes all the features into a list of clauses with len == num_features\u001b[39;00m\n\u001b[1;32m     13\u001b[0m     \u001b[38;5;28;01mfor\u001b[39;00m clause \u001b[38;5;129;01min\u001b[39;00m clauses:\n\u001b[1;32m     14\u001b[0m         \u001b[38;5;66;03m# each clause is multiplied with the weight and added to the list of class_votes \u001b[39;00m\n\u001b[0;32m---> 15\u001b[0m         class_vote\u001b[38;5;241m.\u001b[39mappend(\u001b[43mcuda_tm\u001b[49m\u001b[38;5;241;43m.\u001b[39;49m\u001b[43mget_weight\u001b[49m\u001b[43m(\u001b[49m\u001b[43mclasse\u001b[49m\u001b[43m,\u001b[49m\u001b[43m \u001b[49m\u001b[43mclause\u001b[49m\u001b[43m)\u001b[49m\u001b[43m \u001b[49m\u001b[38;5;241;43m*\u001b[39;49m\u001b[43m \u001b[49m\u001b[43mclause\u001b[49m)\n\u001b[1;32m     16\u001b[0m     \u001b[38;5;66;03m# the votes for each class are then counted and returned\u001b[39;00m\n\u001b[1;32m     17\u001b[0m total_vote[classe] \u001b[38;5;241m+\u001b[39m\u001b[38;5;241m=\u001b[39m \u001b[38;5;28msum\u001b[39m(class_vote)\n",
      "\u001b[0;31mKeyboardInterrupt\u001b[0m: "
     ]
    }
   ],
   "source": [
    "from collections import Counter\n",
    "\n",
    "\n",
    "\n",
    "def new_bent_predict(cuda_tm, x, ret_dic=False):\n",
    "    total_vote = Counter()\n",
    "    for j, classe in enumerate(range(cuda_tm.number_of_classes)):\n",
    "        class_vote = []\n",
    "        \n",
    "        for i, clauses in enumerate(cuda_tm.transform(x)):\n",
    "            # transform transformes all the features into a list of clauses with len == num_features\n",
    "\n",
    "            for clause in clauses:\n",
    "                # each clause is multiplied with the weight and added to the list of class_votes \n",
    "                class_vote.append(cuda_tm.get_weight(classe, clause) * clause)\n",
    "            # the votes for each class are then counted and returned\n",
    "        total_vote[classe] += sum(class_vote)\n",
    "    if ret_dic:\n",
    "        return total_vote\n",
    "    else:\n",
    "        return total_vote.most_common()[0][0]\n",
    "\n",
    "for i, x_arr in enumerate(x_test):\n",
    "    og_predict = cuda_tm.predict(x_arr.reshape(1, -1))[0]\n",
    "    bent_pred = new_bent_predict(cuda_tm, x_arr)\n",
    "    if og_predict != bent_pred:\n",
    "        print(\"SHIT ITS WRONG ON {}\".format(i))\n",
    "        print(\"OG SAYS {}, BENT SAYS {}\".format(og_predict, bent_pred))\n",
    "        print(new_bent_predict(cuda_tm, x_arr, True))\n",
    "\n"
   ]
  },
  {
   "cell_type": "code",
   "execution_count": 27,
   "id": "6b52c9fc-5d85-487d-a61f-d147318fd167",
   "metadata": {},
   "outputs": [
    {
     "name": "stdout",
     "output_type": "stream",
     "text": [
      "[ 3  1 17 14  9]\n",
      "0 [16]\n",
      "[15 16 13 18 11]\n",
      "1 [-41]\n",
      "[15  2  0 16  7]\n",
      "2 [-29]\n",
      "[15 16 13 18  0]\n",
      "3 [-43]\n",
      "[ 7 15 16 18 19]\n",
      "4 [-29]\n",
      "[ 2  0 15 14  8]\n",
      "5 [-27]\n",
      "[ 2 16 14 12  8]\n",
      "6 [-25]\n",
      "[ 2 15  7 19 12]\n",
      "7 [-31]\n",
      "[14  4 12  2 19]\n",
      "8 [-31]\n",
      "[12 19  3  1  4]\n",
      "9 [-11]\n",
      "[19  6  4  2  7]\n",
      "10 [-13]\n",
      "[ 2  7  6 19  5]\n",
      "11 [-11]\n",
      "[ 0 10  5  2 19]\n",
      "12 [-21]\n",
      "[ 2 15  0 17  7]\n",
      "13 [-24]\n",
      "[14 12 17  7  0]\n",
      "14 [-29]\n",
      "[12 14 17 15  7]\n",
      "15 [-29]\n",
      "[ 0  7 17 12  4]\n",
      "16 [-27]\n",
      "[12 15  4  0  7]\n",
      "17 [-31]\n",
      "[16 10  4  7  0]\n",
      "18 [-32]\n"
     ]
    }
   ],
   "source": [
    "the_class = 0\n",
    "mw = cuda_tm.weight_banks[the_class].get_weights()\n",
    "mw.shape\n",
    "c_out = cuda_tm.transform(x_test[0].reshape(1, -1))\n",
    "c_out.shape\n",
    "np.dot(c_out, mw)\n",
    "\n",
    "for clas in range(19):\n",
    "    mw = cuda_tm.weight_banks[clas].get_weights()\n",
    "    print(np.argpartition(mw, -5)[-5:])\n",
    "    print(clas, np.dot(c_out, mw))\n",
    "        \n",
    "    "
   ]
  },
  {
   "cell_type": "code",
   "execution_count": 22,
   "id": "23b3e0f8-2a66-46ad-94a6-e3b67763fcb9",
   "metadata": {},
   "outputs": [
    {
     "data": {
      "text/plain": [
       "3800"
      ]
     },
     "execution_count": 22,
     "metadata": {},
     "output_type": "execute_result"
    }
   ],
   "source": [
    "tm.number_of_classes * n_clauses_per_class\n"
   ]
  },
  {
   "cell_type": "code",
   "execution_count": 74,
   "id": "63cc7dc6-0ca9-4e6c-8fa2-8718f35e21b4",
   "metadata": {},
   "outputs": [
    {
     "data": {
      "text/plain": [
       "array([ 12,  13,  31,   5,  30,   4,   6,   4,  13,   1,  63,   5,  23,\n",
       "         5,  19,   5,  12,  12,  12,  17,  11,  12,  26,  24,  20,  14,\n",
       "         8,  20,  10,  42,  16,  16,  15,   4,  16,  27,  61,  18,  29,\n",
       "         1,   4,   4,  18,  13,  24,  22,   5,  12,  16,  21,  13,  16,\n",
       "         6,   7,  18,  15,  11,  33,  15,   6,  26,  29,  27,   1,  51,\n",
       "        13,   5,  29,  35,  24,  20,  19,  14,  14,  29,  36,  11,   7,\n",
       "        38,   4,  51,  34,   5,  28,  15,  27,  19,   3,  30,  94,   6,\n",
       "        36,  18,  56,  33,   8,  23,  23,  17,   6,   8,   1,  16,  28,\n",
       "        39,   9,  27,  10,  14,  17,   7, 100,  15,   4,  22,  12,  15,\n",
       "         1,  16,  15,  51,  22,   5,   4,   6,  12,   3,  39,  23,   2,\n",
       "        10,  33,   9,   3,  10,  16,   7,   3,   5,   4,  10,   4,  16,\n",
       "        19,  12,  23,  27,   8,  17,  24,  21,   6,  26,   2,  27,  45,\n",
       "        36,  18,   3,  17,   6,   1,  19,   1,  20,  25,   7,   1,  34,\n",
       "        17,  25,   1,   6,  85,  18,   7,   5,  15,  16,  18,   6,   9,\n",
       "        16,  26,  15,  32,   8,   1, 111, 121,  27,  38,   1,  18,   6,\n",
       "        40,   3,  17,  38,  16], dtype=uint32)"
      ]
     },
     "execution_count": 74,
     "metadata": {},
     "output_type": "execute_result"
    }
   ],
   "source": [
    "# needs to be 2d array in transform/predict\n",
    "xn = x_test[0].reshape(1, -1)\n",
    "cn = tm.transform(xn)\n",
    "# tm.predict(x_test[0].reshape(1, -1))\n",
    "# xn.shape\n",
    "weight0 = tm.get_state()[0][0]\n",
    "cn[0, 0:200].sum()\n",
    "weight0 * cn[0,0:200]\n",
    "weight0"
   ]
  },
  {
   "cell_type": "code",
   "execution_count": 109,
   "id": "04ebfbd0-6f58-4f47-876f-b90a730ecc4d",
   "metadata": {},
   "outputs": [
    {
     "data": {
      "text/plain": [
       "array([ 12,  13,  31,   5,  30,   4,   6,   4,  13,   1,  63,   5,  23,\n",
       "         5,  19,   5,  12,  12,  12,  17,  11,  12,  26,  24,  20,  14,\n",
       "         8,  20,  10,  42,  16,  16,  15,   4,  16,  27,  61,  18,  29,\n",
       "         1,   4,   4,  18,  13,  24,  22,   5,  12,  16,  21,  13,  16,\n",
       "         6,   7,  18,  15,  11,  33,  15,   6,  26,  29,  27,   1,  51,\n",
       "        13,   5,  29,  35,  24,  20,  19,  14,  14,  29,  36,  11,   7,\n",
       "        38,   4,  51,  34,   5,  28,  15,  27,  19,   3,  30,  94,   6,\n",
       "        36,  18,  56,  33,   8,  23,  23,  17,   6,   8,   1,  16,  28,\n",
       "        39,   9,  27,  10,  14,  17,   7, 100,  15,   4,  22,  12,  15,\n",
       "         1,  16,  15,  51,  22,   5,   4,   6,  12,   3,  39,  23,   2,\n",
       "        10,  33,   9,   3,  10,  16,   7,   3,   5,   4,  10,   4,  16,\n",
       "        19,  12,  23,  27,   8,  17,  24,  21,   6,  26,   2,  27,  45,\n",
       "        36,  18,   3,  17,   6,   1,  19,   1,  20,  25,   7,   1,  34,\n",
       "        17,  25,   1,   6,  85,  18,   7,   5,  15,  16,  18,   6,   9,\n",
       "        16,  26,  15,  32,   8,   1, 111, 121,  27,  38,   1,  18,   6,\n",
       "        40,   3,  17,  38,  16], dtype=uint32)"
      ]
     },
     "execution_count": 109,
     "metadata": {},
     "output_type": "execute_result"
    }
   ],
   "source": [
    "tm.get_state()[0][0]\n",
    "# cn"
   ]
  },
  {
   "cell_type": "code",
   "execution_count": 126,
   "id": "0eeb4ed9-b3b8-4f0c-8c51-06a9a874fa7e",
   "metadata": {},
   "outputs": [
    {
     "name": "stdout",
     "output_type": "stream",
     "text": [
      "(3800,)\n",
      "(3800,)\n",
      "(200,)\n",
      "(200,)\n",
      "(200,)\n",
      "(200,)\n",
      "(200,)\n",
      "(200,)\n",
      "(200,)\n",
      "(200,)\n",
      "(200,)\n",
      "(200,)\n",
      "(200,)\n",
      "(200,)\n",
      "(200,)\n",
      "(200,)\n",
      "(200,)\n",
      "(200,)\n",
      "(200,)\n",
      "(200,)\n",
      "(200,)\n",
      "[-179.0, 836.0, -913.0, 18.0, -67.0, 381.0, -239.0, -695.0, -834.0, 199.0, -417.0, -392.0, -616.0, -669.0, -1190.0, -1156.0, -892.0, -1083.0, -695.0]\n",
      "(1, 126)\n"
     ]
    },
    {
     "data": {
      "text/plain": [
       "array([0], dtype=uint32)"
      ]
     },
     "execution_count": 126,
     "metadata": {},
     "output_type": "execute_result"
    }
   ],
   "source": [
    "def bent_predict(x, tm):\n",
    "    \"\"\"\n",
    "    tsetlin machine works by majority vote, each clause votes either positive for a class or a negative for a class\n",
    "    The class with the highest vote clause vote is chosen.\n",
    "    \"\"\"\n",
    "    \n",
    "    n_clauses_per_class = tm.number_of_clauses\n",
    "    classes = tm.number_of_classes\n",
    "    # print(classes)\n",
    "    # print(tm.get_state()[classes+1][0])\n",
    "    signs = np.ones(n_clauses_per_class * classes)\n",
    "    a = range(1, signs.shape[0], 2)\n",
    "    signs[a] = -1\n",
    "    print(signs.shape)\n",
    "    cn = tm.transform(x)\n",
    "    sig_cn = (cn * signs)[0]\n",
    "    print(sig_cn.shape)\n",
    "    # sig_cn.tolist()\n",
    "    \n",
    "    # weight*signs*cn\n",
    "    class_vote = []\n",
    "    for clas in range(classes):\n",
    "        weight = tm.get_state()[clas][0]\n",
    "        print(weight.shape)\n",
    "        starting_clause = clas * n_clauses_per_class\n",
    "        ending_clause = starting_clause + n_clauses_per_class\n",
    "        weighted_sig_cn = sig_cn[starting_clause: ending_clause]*weight\n",
    "        # weighted_sig_cn = sig_cn[starting_clause: ending_clause]\n",
    "        \n",
    "        \n",
    "        class_vote.append((weighted_sig_cn.sum()))\n",
    "        # print(clas * n_clauses_per_class, clas * n_clauses_per_class + n_clauses_per_class)\n",
    "    return class_vote\n",
    "\n",
    "print(bent_predict(xn, tm))\n",
    "\n",
    "print(xn.shape)\n",
    "tm.predict(xn)\n",
    "# cn.shape"
   ]
  }
 ],
 "metadata": {
  "kernelspec": {
   "display_name": "Python 3 (ipykernel)",
   "language": "python",
   "name": "python3"
  },
  "language_info": {
   "codemirror_mode": {
    "name": "ipython",
    "version": 3
   },
   "file_extension": ".py",
   "mimetype": "text/x-python",
   "name": "python",
   "nbconvert_exporter": "python",
   "pygments_lexer": "ipython3",
   "version": "3.8.12"
  }
 },
 "nbformat": 4,
 "nbformat_minor": 5
}
