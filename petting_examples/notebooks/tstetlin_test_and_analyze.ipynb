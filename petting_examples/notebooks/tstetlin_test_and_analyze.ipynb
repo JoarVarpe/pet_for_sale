{
 "cells": [
  {
   "cell_type": "code",
   "execution_count": 1,
   "id": "6b3941a6-0d55-4ae7-8dab-d25bdf298a60",
   "metadata": {},
   "outputs": [
    {
     "data": {
      "text/plain": [
       "'random penalty er 1/s'"
      ]
     },
     "execution_count": 1,
     "metadata": {},
     "output_type": "execute_result"
    }
   ],
   "source": [
    "from pyTsetlinMachineParallel.tm import MultiClassTsetlinMachine\n",
    "from tmu.tsetlin_machine import TMCoalescedClassifier\n",
    "from sklearn.ensemble import RandomForestClassifier\n",
    "import numpy as np \n",
    "import pickle\n",
    "import torch\n",
    "import tqdm\n",
    "from collections import Counter, defaultdict\n",
    "!export OMP_NUM_THREADS=10\n",
    "n_clauses_per_class = 200\n",
    "treshold = int(n_clauses_per_class * 0.8)\n",
    "s_param = 6.8\n",
    "s_param = 21.3\n",
    "s_param = 11.40000000000001\n",
    "\"s henger sammen hvor ofte du ser pattern\"\n",
    "\"lav s sier at man ser et pattern ofte, og kan glemme dette\"\n",
    "\"belonning er s/(s-1)\"\n",
    "\"random penalty er 1/s\""
   ]
  },
  {
   "cell_type": "code",
   "execution_count": 2,
   "id": "091e2e22-ca80-4488-99b3-0b7985d09e43",
   "metadata": {},
   "outputs": [],
   "source": [
    "# tm = MultiClassTsetlinMachine(n_clauses_per_class, treshold, s_param, weighted_clauses=True, boost_true_positive_feedback=0)\n",
    "tm = TMCoalescedClassifier(n_clauses_per_class, treshold, s_param, weighted_clauses=True, boost_true_positive_feedback=0)\n",
    "cuda_tm = TMCoalescedClassifier(n_clauses_per_class, treshold, s_param,  platform='CUDA', boost_true_positive_feedback=0)\n"
   ]
  },
  {
   "cell_type": "code",
   "execution_count": 3,
   "id": "9e4e23c6-7757-4cc7-8cf5-08def3e8a3ab",
   "metadata": {},
   "outputs": [],
   "source": [
    "rf = RandomForestClassifier()"
   ]
  },
  {
   "cell_type": "code",
   "execution_count": 3,
   "id": "854999c0-8085-4208-848d-40d0a7a4788e",
   "metadata": {},
   "outputs": [
    {
     "name": "stdout",
     "output_type": "stream",
     "text": [
      "[[array([1., 0., 0., 1., 0., 0., 0., 0., 0., 0., 0., 0., 0., 0., 0., 0., 0.,\n",
      "         1., 0., 0., 0., 0., 0., 1., 0., 0., 1., 0., 1., 0., 1., 0., 1., 0.,\n",
      "         1., 0., 0., 1., 0., 0., 0., 0., 0., 0., 0., 0., 0., 0., 0., 0., 0.,\n",
      "         1., 0., 1., 0., 0., 1., 0., 1., 1., 0., 1., 1., 0., 1., 1., 0., 1.,\n",
      "         1., 0., 0., 1., 0., 0., 0., 0., 1., 0., 0., 0., 0., 0., 0., 0., 0.,\n",
      "         0., 0., 0., 0., 0., 0., 1., 0., 0., 1., 0., 0., 0., 0., 0., 1., 1.,\n",
      "         1., 1., 1., 1., 1., 1., 1., 1., 1., 1., 0., 1., 0., 1., 1., 1., 0.,\n",
      "         1., 0., 0., 0., 0., 0., 0.], dtype=float32)\n",
      "  0]\n",
      " [array([1., 0., 0., 1., 0., 1., 0., 1., 0., 0., 0., 0., 0., 0., 0., 0., 0.,\n",
      "         1., 0., 0., 0., 0., 0., 1., 0., 0., 1., 0., 0., 0., 1., 0., 1., 1.,\n",
      "         0., 1., 0., 0., 1., 1., 0., 1., 1., 0., 0., 0., 0., 0., 0., 0., 0.,\n",
      "         0., 0., 0., 0., 0., 1., 0., 1., 0., 0., 0., 0., 1., 1., 1., 1., 0.,\n",
      "         1., 0., 0., 1., 0., 0., 0., 0., 1., 0., 0., 0., 0., 0., 0., 0., 0.,\n",
      "         1., 0., 1., 0., 0., 1., 0., 1., 0., 0., 1., 1., 0., 0., 1., 0., 1.,\n",
      "         1., 0., 1., 1., 1., 1., 1., 1., 1., 1., 0., 1., 0., 0., 1., 0., 1.,\n",
      "         1., 1., 0., 0., 1., 0., 1.], dtype=float32)\n",
      "  0]\n",
      " [array([1., 0., 0., 1., 0., 1., 0., 1., 0., 0., 0., 1., 0., 0., 0., 0., 0.,\n",
      "         1., 0., 0., 0., 0., 0., 1., 0., 0., 1., 0., 0., 0., 1., 1., 1., 1.,\n",
      "         0., 1., 0., 0., 0., 1., 0., 1., 1., 0., 1., 1., 1., 0., 0., 0., 0.,\n",
      "         1., 0., 0., 0., 0., 0., 0., 1., 0., 0., 0., 0., 1., 0., 0., 1., 0.,\n",
      "         0., 1., 0., 0., 1., 1., 0., 0., 1., 0., 0., 0., 1., 0., 0., 0., 0.,\n",
      "         1., 0., 0., 0., 0., 1., 0., 1., 0., 0., 0., 1., 0., 0., 0., 0., 1.,\n",
      "         1., 0., 0., 1., 0., 1., 1., 1., 1., 0., 0., 1., 0., 0., 0., 0., 1.,\n",
      "         0., 0., 0., 0., 1., 1., 0.], dtype=float32)\n",
      "  4]]\n",
      "[1. 0. 0. 1. 0. 0. 0. 0. 0. 0. 0. 0. 0. 0. 0. 0. 0. 1. 0. 0. 0. 0. 0. 1.\n",
      " 0. 0. 1. 0. 1. 0. 1. 0. 1. 0. 1. 0. 0. 1. 0. 0. 0. 0. 0. 0. 0. 0. 0. 0.\n",
      " 0. 0. 0. 1. 0. 1. 0. 0. 1. 0. 1. 1. 0. 1. 1. 0. 1. 1. 0. 1. 1. 0. 0. 1.\n",
      " 0. 0. 0. 0. 1. 0. 0. 0. 0. 0. 0. 0. 0. 0. 0. 0. 0. 0. 0. 1. 0. 0. 1. 0.\n",
      " 0. 0. 0. 0. 1. 1. 1. 1. 1. 1. 1. 1. 1. 1. 1. 1. 0. 1. 0. 1. 1. 1. 0. 1.\n",
      " 0. 0. 0. 0. 0. 0.]\n"
     ]
    },
    {
     "data": {
      "text/plain": [
       "(2,)"
      ]
     },
     "execution_count": 3,
     "metadata": {},
     "output_type": "execute_result"
    }
   ],
   "source": [
    "game_amount = 100000\n",
    "with open(\"/home/jaoi/master22/pet_for_sale/winning_games_db/{}_tsetlined_games.pkl\".format(game_amount), \"rb\") as fp:\n",
    "        games = pickle.load(fp)\n",
    "print(games[:3])\n",
    "print(games[0][0])\n",
    "games[0].shape"
   ]
  },
  {
   "cell_type": "code",
   "execution_count": 5,
   "id": "6ce9279f-f71f-4319-963b-e12af4804f68",
   "metadata": {},
   "outputs": [
    {
     "data": {
      "text/plain": [
       "(126,)"
      ]
     },
     "execution_count": 5,
     "metadata": {},
     "output_type": "execute_result"
    }
   ],
   "source": [
    "games[0][0].shape"
   ]
  },
  {
   "cell_type": "code",
   "execution_count": 4,
   "id": "6094293d-f200-4dba-9855-402bdb9d3293",
   "metadata": {},
   "outputs": [
    {
     "data": {
      "text/plain": [
       "514835"
      ]
     },
     "execution_count": 4,
     "metadata": {},
     "output_type": "execute_result"
    }
   ],
   "source": [
    "train_i = int(games.shape[0] * 0.9)\n",
    "train_i"
   ]
  },
  {
   "cell_type": "code",
   "execution_count": 12,
   "id": "332c0364-d399-4d90-9f60-7c28d9be4091",
   "metadata": {},
   "outputs": [
    {
     "name": "stdout",
     "output_type": "stream",
     "text": [
      "/bin/bash: nvcc: command not found\n"
     ]
    }
   ],
   "source": []
  },
  {
   "cell_type": "code",
   "execution_count": 143,
   "id": "18dbfa6d-5420-48d7-a06a-6f5ee9530496",
   "metadata": {},
   "outputs": [
    {
     "data": {
      "text/plain": [
       "Counter({0: 200687,\n",
       "         4: 28227,\n",
       "         10: 48887,\n",
       "         9: 73117,\n",
       "         12: 46446,\n",
       "         11: 21266,\n",
       "         13: 5810,\n",
       "         1: 61140,\n",
       "         3: 29043,\n",
       "         6: 40378,\n",
       "         5: 12874,\n",
       "         7: 1322,\n",
       "         2: 767,\n",
       "         8: 918,\n",
       "         15: 282,\n",
       "         14: 396,\n",
       "         16: 350,\n",
       "         17: 91,\n",
       "         18: 38})"
      ]
     },
     "execution_count": 143,
     "metadata": {},
     "output_type": "execute_result"
    }
   ],
   "source": [
    "ys = Counter()\n",
    "for game in games:\n",
    "    ys[game[1]] += 1\n",
    "ys"
   ]
  },
  {
   "cell_type": "code",
   "execution_count": 5,
   "id": "19ea4b37-1943-4533-a13d-9eef3aacbf03",
   "metadata": {},
   "outputs": [],
   "source": [
    "x_train =np.array([game[0] for game in games[:train_i, :1]])\n",
    "x_test =np.array([game[0] for game in games[train_i:, :1]])\n",
    "\n",
    "y_train =np.array([game[0] for game in games[:train_i, 1:]])\n",
    "y_test =np.array([game[0] for game in games[train_i:, 1:]])\n",
    "\n",
    "\n",
    "# x_test = games[train_i:, :1]\n",
    "\n",
    "# y_train = games[:train_i, 1:]\n",
    "# y_test = games[train_i:, 1:]\n",
    "\n",
    "# for game in games:\n",
    "#     print(game[0])\n",
    "#     break"
   ]
  },
  {
   "cell_type": "code",
   "execution_count": 10,
   "id": "7c117188-99a6-40eb-8b58-cf483fcb096c",
   "metadata": {},
   "outputs": [
    {
     "data": {
      "text/plain": [
       "(514835,)"
      ]
     },
     "execution_count": 10,
     "metadata": {},
     "output_type": "execute_result"
    }
   ],
   "source": [
    "y_train.shape"
   ]
  },
  {
   "cell_type": "code",
   "execution_count": 9,
   "id": "1bf1a3fe-84f6-480b-9a26-89de2de73ca2",
   "metadata": {},
   "outputs": [],
   "source": [
    "!CUDA_ROOT=/usr/local/cuda"
   ]
  },
  {
   "cell_type": "code",
   "execution_count": 10,
   "id": "1aebe83c-e7eb-42a9-b91b-a0ebdca7615d",
   "metadata": {},
   "outputs": [
    {
     "ename": "ExecError",
     "evalue": "error invoking 'nvcc --preprocess -arch sm_61 -I/home/jaoi/anaconda3/envs/rufus/lib/python3.8/site-packages/pycuda/cuda /tmp/tmp9mi4vlbl.cu --compiler-options -P': [Errno 2] No such file or directory: 'nvcc'",
     "output_type": "error",
     "traceback": [
      "\u001b[0;31m---------------------------------------------------------------------------\u001b[0m",
      "\u001b[0;31mFileNotFoundError\u001b[0m                         Traceback (most recent call last)",
      "File \u001b[0;32m~/anaconda3/envs/rufus/lib/python3.8/site-packages/pytools/prefork.py:46\u001b[0m, in \u001b[0;36mDirectForker.call_capture_output\u001b[0;34m(cmdline, cwd, error_on_nonzero)\u001b[0m\n\u001b[1;32m     45\u001b[0m \u001b[38;5;28;01mtry\u001b[39;00m:\n\u001b[0;32m---> 46\u001b[0m     popen \u001b[38;5;241m=\u001b[39m \u001b[43mPopen\u001b[49m\u001b[43m(\u001b[49m\u001b[43mcmdline\u001b[49m\u001b[43m,\u001b[49m\u001b[43m \u001b[49m\u001b[43mcwd\u001b[49m\u001b[38;5;241;43m=\u001b[39;49m\u001b[43mcwd\u001b[49m\u001b[43m,\u001b[49m\u001b[43m \u001b[49m\u001b[43mstdin\u001b[49m\u001b[38;5;241;43m=\u001b[39;49m\u001b[43mPIPE\u001b[49m\u001b[43m,\u001b[49m\u001b[43m \u001b[49m\u001b[43mstdout\u001b[49m\u001b[38;5;241;43m=\u001b[39;49m\u001b[43mPIPE\u001b[49m\u001b[43m,\u001b[49m\n\u001b[1;32m     47\u001b[0m \u001b[43m                  \u001b[49m\u001b[43mstderr\u001b[49m\u001b[38;5;241;43m=\u001b[39;49m\u001b[43mPIPE\u001b[49m\u001b[43m)\u001b[49m\n\u001b[1;32m     48\u001b[0m     stdout_data, stderr_data \u001b[38;5;241m=\u001b[39m popen\u001b[38;5;241m.\u001b[39mcommunicate()\n",
      "File \u001b[0;32m~/anaconda3/envs/rufus/lib/python3.8/subprocess.py:858\u001b[0m, in \u001b[0;36mPopen.__init__\u001b[0;34m(self, args, bufsize, executable, stdin, stdout, stderr, preexec_fn, close_fds, shell, cwd, env, universal_newlines, startupinfo, creationflags, restore_signals, start_new_session, pass_fds, encoding, errors, text)\u001b[0m\n\u001b[1;32m    855\u001b[0m             \u001b[38;5;28mself\u001b[39m\u001b[38;5;241m.\u001b[39mstderr \u001b[38;5;241m=\u001b[39m io\u001b[38;5;241m.\u001b[39mTextIOWrapper(\u001b[38;5;28mself\u001b[39m\u001b[38;5;241m.\u001b[39mstderr,\n\u001b[1;32m    856\u001b[0m                     encoding\u001b[38;5;241m=\u001b[39mencoding, errors\u001b[38;5;241m=\u001b[39merrors)\n\u001b[0;32m--> 858\u001b[0m     \u001b[38;5;28;43mself\u001b[39;49m\u001b[38;5;241;43m.\u001b[39;49m\u001b[43m_execute_child\u001b[49m\u001b[43m(\u001b[49m\u001b[43margs\u001b[49m\u001b[43m,\u001b[49m\u001b[43m \u001b[49m\u001b[43mexecutable\u001b[49m\u001b[43m,\u001b[49m\u001b[43m \u001b[49m\u001b[43mpreexec_fn\u001b[49m\u001b[43m,\u001b[49m\u001b[43m \u001b[49m\u001b[43mclose_fds\u001b[49m\u001b[43m,\u001b[49m\n\u001b[1;32m    859\u001b[0m \u001b[43m                        \u001b[49m\u001b[43mpass_fds\u001b[49m\u001b[43m,\u001b[49m\u001b[43m \u001b[49m\u001b[43mcwd\u001b[49m\u001b[43m,\u001b[49m\u001b[43m \u001b[49m\u001b[43menv\u001b[49m\u001b[43m,\u001b[49m\n\u001b[1;32m    860\u001b[0m \u001b[43m                        \u001b[49m\u001b[43mstartupinfo\u001b[49m\u001b[43m,\u001b[49m\u001b[43m \u001b[49m\u001b[43mcreationflags\u001b[49m\u001b[43m,\u001b[49m\u001b[43m \u001b[49m\u001b[43mshell\u001b[49m\u001b[43m,\u001b[49m\n\u001b[1;32m    861\u001b[0m \u001b[43m                        \u001b[49m\u001b[43mp2cread\u001b[49m\u001b[43m,\u001b[49m\u001b[43m \u001b[49m\u001b[43mp2cwrite\u001b[49m\u001b[43m,\u001b[49m\n\u001b[1;32m    862\u001b[0m \u001b[43m                        \u001b[49m\u001b[43mc2pread\u001b[49m\u001b[43m,\u001b[49m\u001b[43m \u001b[49m\u001b[43mc2pwrite\u001b[49m\u001b[43m,\u001b[49m\n\u001b[1;32m    863\u001b[0m \u001b[43m                        \u001b[49m\u001b[43merrread\u001b[49m\u001b[43m,\u001b[49m\u001b[43m \u001b[49m\u001b[43merrwrite\u001b[49m\u001b[43m,\u001b[49m\n\u001b[1;32m    864\u001b[0m \u001b[43m                        \u001b[49m\u001b[43mrestore_signals\u001b[49m\u001b[43m,\u001b[49m\u001b[43m \u001b[49m\u001b[43mstart_new_session\u001b[49m\u001b[43m)\u001b[49m\n\u001b[1;32m    865\u001b[0m \u001b[38;5;28;01mexcept\u001b[39;00m:\n\u001b[1;32m    866\u001b[0m     \u001b[38;5;66;03m# Cleanup if the child failed starting.\u001b[39;00m\n",
      "File \u001b[0;32m~/anaconda3/envs/rufus/lib/python3.8/subprocess.py:1704\u001b[0m, in \u001b[0;36mPopen._execute_child\u001b[0;34m(self, args, executable, preexec_fn, close_fds, pass_fds, cwd, env, startupinfo, creationflags, shell, p2cread, p2cwrite, c2pread, c2pwrite, errread, errwrite, restore_signals, start_new_session)\u001b[0m\n\u001b[1;32m   1703\u001b[0m         err_msg \u001b[38;5;241m=\u001b[39m os\u001b[38;5;241m.\u001b[39mstrerror(errno_num)\n\u001b[0;32m-> 1704\u001b[0m     \u001b[38;5;28;01mraise\u001b[39;00m child_exception_type(errno_num, err_msg, err_filename)\n\u001b[1;32m   1705\u001b[0m \u001b[38;5;28;01mraise\u001b[39;00m child_exception_type(err_msg)\n",
      "\u001b[0;31mFileNotFoundError\u001b[0m: [Errno 2] No such file or directory: 'nvcc'",
      "\nDuring handling of the above exception, another exception occurred:\n",
      "\u001b[0;31mExecError\u001b[0m                                 Traceback (most recent call last)",
      "Input \u001b[0;32mIn [10]\u001b[0m, in \u001b[0;36m<cell line: 7>\u001b[0;34m()\u001b[0m\n\u001b[1;32m      2\u001b[0m \u001b[38;5;66;03m# for epoch in range(epochs):\u001b[39;00m\n\u001b[1;32m      3\u001b[0m \u001b[38;5;66;03m#     tm.fit(x_train, y_train)\u001b[39;00m\n\u001b[1;32m      4\u001b[0m \n\u001b[1;32m      5\u001b[0m \u001b[38;5;66;03m# print(\"Accuracy tm:\", 100*(tm.predict(x_test) == y_test).mean())\u001b[39;00m\n\u001b[1;32m      7\u001b[0m \u001b[38;5;28;01mfor\u001b[39;00m epoch \u001b[38;5;129;01min\u001b[39;00m \u001b[38;5;28mrange\u001b[39m(epochs):\n\u001b[0;32m----> 8\u001b[0m     \u001b[43mcuda_tm\u001b[49m\u001b[38;5;241;43m.\u001b[39;49m\u001b[43mfit\u001b[49m\u001b[43m(\u001b[49m\u001b[43mx_train\u001b[49m\u001b[43m,\u001b[49m\u001b[43m \u001b[49m\u001b[43my_train\u001b[49m\u001b[43m)\u001b[49m\n\u001b[1;32m     10\u001b[0m \u001b[38;5;28mprint\u001b[39m(\u001b[38;5;124m\"\u001b[39m\u001b[38;5;124mAccuracy tm:\u001b[39m\u001b[38;5;124m\"\u001b[39m, \u001b[38;5;241m100\u001b[39m\u001b[38;5;241m*\u001b[39m(cuda_tm\u001b[38;5;241m.\u001b[39mpredict(x_test) \u001b[38;5;241m==\u001b[39m y_test)\u001b[38;5;241m.\u001b[39mmean())\n",
      "File \u001b[0;32m~/anaconda3/envs/rufus/lib/python3.8/site-packages/tmu/tsetlin_machine.py:368\u001b[0m, in \u001b[0;36mTMCoalescedClassifier.fit\u001b[0;34m(self, X, Y, shuffle)\u001b[0m\n\u001b[1;32m    366\u001b[0m \u001b[38;5;28;01mdef\u001b[39;00m \u001b[38;5;21mfit\u001b[39m(\u001b[38;5;28mself\u001b[39m, X, Y, shuffle\u001b[38;5;241m=\u001b[39m\u001b[38;5;28;01mTrue\u001b[39;00m):\n\u001b[1;32m    367\u001b[0m \t\u001b[38;5;28;01mif\u001b[39;00m \u001b[38;5;28mself\u001b[39m\u001b[38;5;241m.\u001b[39minitialized \u001b[38;5;241m==\u001b[39m \u001b[38;5;28;01mFalse\u001b[39;00m:\n\u001b[0;32m--> 368\u001b[0m \t\t\u001b[38;5;28;43mself\u001b[39;49m\u001b[38;5;241;43m.\u001b[39;49m\u001b[43minitialize\u001b[49m\u001b[43m(\u001b[49m\u001b[43mX\u001b[49m\u001b[43m,\u001b[49m\u001b[43m \u001b[49m\u001b[43mY\u001b[49m\u001b[43m)\u001b[49m\n\u001b[1;32m    369\u001b[0m \t\t\u001b[38;5;28mself\u001b[39m\u001b[38;5;241m.\u001b[39minitialized \u001b[38;5;241m=\u001b[39m \u001b[38;5;28;01mTrue\u001b[39;00m\n\u001b[1;32m    371\u001b[0m \t\u001b[38;5;28;01mif\u001b[39;00m \u001b[38;5;129;01mnot\u001b[39;00m np\u001b[38;5;241m.\u001b[39marray_equal(\u001b[38;5;28mself\u001b[39m\u001b[38;5;241m.\u001b[39mX_train, X):\n",
      "File \u001b[0;32m~/anaconda3/envs/rufus/lib/python3.8/site-packages/tmu/tsetlin_machine.py:312\u001b[0m, in \u001b[0;36mTMCoalescedClassifier.initialize\u001b[0;34m(self, X, Y)\u001b[0m\n\u001b[1;32m    310\u001b[0m \t\u001b[38;5;28mself\u001b[39m\u001b[38;5;241m.\u001b[39mclause_bank \u001b[38;5;241m=\u001b[39m ClauseBank(X, \u001b[38;5;28mself\u001b[39m\u001b[38;5;241m.\u001b[39mnumber_of_clauses, \u001b[38;5;28mself\u001b[39m\u001b[38;5;241m.\u001b[39mnumber_of_state_bits_ta, \u001b[38;5;28mself\u001b[39m\u001b[38;5;241m.\u001b[39mnumber_of_state_bits_ind, \u001b[38;5;28mself\u001b[39m\u001b[38;5;241m.\u001b[39mpatch_dim)\n\u001b[1;32m    311\u001b[0m \u001b[38;5;28;01melif\u001b[39;00m \u001b[38;5;28mself\u001b[39m\u001b[38;5;241m.\u001b[39mplatform \u001b[38;5;241m==\u001b[39m \u001b[38;5;124m'\u001b[39m\u001b[38;5;124mCUDA\u001b[39m\u001b[38;5;124m'\u001b[39m:\n\u001b[0;32m--> 312\u001b[0m \t\u001b[38;5;28;01mfrom\u001b[39;00m \u001b[38;5;21;01mtmu\u001b[39;00m\u001b[38;5;21;01m.\u001b[39;00m\u001b[38;5;21;01mclause_bank_cuda\u001b[39;00m \u001b[38;5;28;01mimport\u001b[39;00m ClauseBankCUDA\n\u001b[1;32m    313\u001b[0m \t\u001b[38;5;28mself\u001b[39m\u001b[38;5;241m.\u001b[39mclause_bank \u001b[38;5;241m=\u001b[39m ClauseBankCUDA(X, \u001b[38;5;28mself\u001b[39m\u001b[38;5;241m.\u001b[39mnumber_of_clauses, \u001b[38;5;28mself\u001b[39m\u001b[38;5;241m.\u001b[39mnumber_of_state_bits_ta, \u001b[38;5;28mself\u001b[39m\u001b[38;5;241m.\u001b[39mpatch_dim)\n\u001b[1;32m    314\u001b[0m \u001b[38;5;28;01melse\u001b[39;00m:\n",
      "File \u001b[0;32m~/anaconda3/envs/rufus/lib/python3.8/site-packages/tmu/clause_bank_cuda.py:35\u001b[0m, in \u001b[0;36m<module>\u001b[0;34m\u001b[0m\n\u001b[1;32m     31\u001b[0m \u001b[38;5;28;01mfrom\u001b[39;00m \u001b[38;5;21;01mpycuda\u001b[39;00m\u001b[38;5;21;01m.\u001b[39;00m\u001b[38;5;21;01mcompiler\u001b[39;00m \u001b[38;5;28;01mimport\u001b[39;00m SourceModule\n\u001b[1;32m     33\u001b[0m \u001b[38;5;28;01mimport\u001b[39;00m \u001b[38;5;21;01mtmu\u001b[39;00m\u001b[38;5;21;01m.\u001b[39;00m\u001b[38;5;21;01mtools\u001b[39;00m\n\u001b[0;32m---> 35\u001b[0m g \u001b[38;5;241m=\u001b[39m \u001b[43mcurandom\u001b[49m\u001b[38;5;241;43m.\u001b[39;49m\u001b[43mXORWOWRandomNumberGenerator\u001b[49m\u001b[43m(\u001b[49m\u001b[43m)\u001b[49m \n\u001b[1;32m     37\u001b[0m \u001b[38;5;28;01mimport\u001b[39;00m \u001b[38;5;21;01mtmu\u001b[39;00m\u001b[38;5;21;01m.\u001b[39;00m\u001b[38;5;21;01mclause_bank_cuda_kernels\u001b[39;00m \u001b[38;5;28;01mas\u001b[39;00m \u001b[38;5;21;01mkernels\u001b[39;00m\n\u001b[1;32m     39\u001b[0m \u001b[38;5;28;01mclass\u001b[39;00m \u001b[38;5;21;01mClauseBankCUDA\u001b[39;00m():\n",
      "File \u001b[0;32m~/anaconda3/envs/rufus/lib/python3.8/site-packages/pycuda/curandom.py:897\u001b[0m, in \u001b[0;36mXORWOWRandomNumberGenerator.__init__\u001b[0;34m(self, seed_getter, offset)\u001b[0m\n\u001b[1;32m    891\u001b[0m \u001b[38;5;28;01mdef\u001b[39;00m \u001b[38;5;21m__init__\u001b[39m(\u001b[38;5;28mself\u001b[39m, seed_getter\u001b[38;5;241m=\u001b[39m\u001b[38;5;28;01mNone\u001b[39;00m, offset\u001b[38;5;241m=\u001b[39m\u001b[38;5;241m0\u001b[39m):\n\u001b[1;32m    892\u001b[0m     \u001b[38;5;124;03m\"\"\"\u001b[39;00m\n\u001b[1;32m    893\u001b[0m \u001b[38;5;124;03m    :arg seed_getter: a function that, given an integer count, will yield an `int32`\u001b[39;00m\n\u001b[1;32m    894\u001b[0m \u001b[38;5;124;03m      :class:`GPUArray` of seeds.\u001b[39;00m\n\u001b[1;32m    895\u001b[0m \u001b[38;5;124;03m    \"\"\"\u001b[39;00m\n\u001b[0;32m--> 897\u001b[0m     \u001b[38;5;28;43msuper\u001b[39;49m\u001b[43m(\u001b[49m\u001b[43m)\u001b[49m\u001b[38;5;241;43m.\u001b[39;49m\u001b[38;5;21;43m__init__\u001b[39;49m\u001b[43m(\u001b[49m\n\u001b[1;32m    898\u001b[0m \u001b[43m        \u001b[49m\u001b[43mseed_getter\u001b[49m\u001b[43m,\u001b[49m\n\u001b[1;32m    899\u001b[0m \u001b[43m        \u001b[49m\u001b[43moffset\u001b[49m\u001b[43m,\u001b[49m\n\u001b[1;32m    900\u001b[0m \u001b[43m        \u001b[49m\u001b[38;5;124;43m\"\u001b[39;49m\u001b[38;5;124;43mcurandStateXORWOW\u001b[39;49m\u001b[38;5;124;43m\"\u001b[39;49m\u001b[43m,\u001b[49m\n\u001b[1;32m    901\u001b[0m \u001b[43m        \u001b[49m\u001b[38;5;124;43m\"\u001b[39;49m\u001b[38;5;124;43munsigned int\u001b[39;49m\u001b[38;5;124;43m\"\u001b[39;49m\u001b[43m,\u001b[49m\n\u001b[1;32m    902\u001b[0m \u001b[43m        \u001b[49m\u001b[38;5;241;43m32\u001b[39;49m\u001b[43m,\u001b[49m\n\u001b[1;32m    903\u001b[0m \u001b[43m        \u001b[49m\u001b[43mxorwow_random_source\u001b[49m\n\u001b[1;32m    904\u001b[0m \u001b[43m        \u001b[49m\u001b[38;5;241;43m+\u001b[39;49m\u001b[43m \u001b[49m\u001b[43mxorwow_skip_ahead_sequence_source\u001b[49m\n\u001b[1;32m    905\u001b[0m \u001b[43m        \u001b[49m\u001b[38;5;241;43m+\u001b[39;49m\u001b[43m \u001b[49m\u001b[43mrandom_skip_ahead64_source\u001b[49m\u001b[43m,\u001b[49m\n\u001b[1;32m    906\u001b[0m \u001b[43m    \u001b[49m\u001b[43m)\u001b[49m\n",
      "File \u001b[0;32m~/anaconda3/envs/rufus/lib/python3.8/site-packages/pycuda/curandom.py:750\u001b[0m, in \u001b[0;36m_PseudoRandomNumberGeneratorBase.__init__\u001b[0;34m(self, seed_getter, offset, state_type, vector_type, generator_bits, additional_source, scramble_type)\u001b[0m\n\u001b[1;32m    739\u001b[0m \u001b[38;5;28;01mdef\u001b[39;00m \u001b[38;5;21m__init__\u001b[39m(\n\u001b[1;32m    740\u001b[0m     \u001b[38;5;28mself\u001b[39m,\n\u001b[1;32m    741\u001b[0m     seed_getter,\n\u001b[0;32m   (...)\u001b[0m\n\u001b[1;32m    747\u001b[0m     scramble_type\u001b[38;5;241m=\u001b[39m\u001b[38;5;28;01mNone\u001b[39;00m,\n\u001b[1;32m    748\u001b[0m ):\n\u001b[0;32m--> 750\u001b[0m     \u001b[38;5;28;43msuper\u001b[39;49m\u001b[43m(\u001b[49m\u001b[43m)\u001b[49m\u001b[38;5;241;43m.\u001b[39;49m\u001b[38;5;21;43m__init__\u001b[39;49m\u001b[43m(\u001b[49m\n\u001b[1;32m    751\u001b[0m \u001b[43m        \u001b[49m\u001b[43mstate_type\u001b[49m\u001b[43m,\u001b[49m\u001b[43m \u001b[49m\u001b[43mvector_type\u001b[49m\u001b[43m,\u001b[49m\u001b[43m \u001b[49m\u001b[43mgenerator_bits\u001b[49m\u001b[43m,\u001b[49m\u001b[43m \u001b[49m\u001b[43madditional_source\u001b[49m\n\u001b[1;32m    752\u001b[0m \u001b[43m    \u001b[49m\u001b[43m)\u001b[49m\n\u001b[1;32m    754\u001b[0m     generator_count \u001b[38;5;241m=\u001b[39m \u001b[38;5;28mself\u001b[39m\u001b[38;5;241m.\u001b[39mgenerators_per_block \u001b[38;5;241m*\u001b[39m \u001b[38;5;28mself\u001b[39m\u001b[38;5;241m.\u001b[39mblock_count\n\u001b[1;32m    755\u001b[0m     \u001b[38;5;28;01mif\u001b[39;00m seed_getter \u001b[38;5;129;01mis\u001b[39;00m \u001b[38;5;28;01mNone\u001b[39;00m:\n",
      "File \u001b[0;32m~/anaconda3/envs/rufus/lib/python3.8/site-packages/pycuda/curandom.py:515\u001b[0m, in \u001b[0;36m_RandomNumberGeneratorBase.__init__\u001b[0;34m(self, state_type, vector_type, generator_bits, additional_source, scramble_type)\u001b[0m\n\u001b[1;32m    507\u001b[0m source \u001b[38;5;241m=\u001b[39m (random_source \u001b[38;5;241m+\u001b[39m additional_source) \u001b[38;5;241m%\u001b[39m {\n\u001b[1;32m    508\u001b[0m     \u001b[38;5;124m\"\u001b[39m\u001b[38;5;124mstate_type\u001b[39m\u001b[38;5;124m\"\u001b[39m: state_type,\n\u001b[1;32m    509\u001b[0m     \u001b[38;5;124m\"\u001b[39m\u001b[38;5;124mvector_type\u001b[39m\u001b[38;5;124m\"\u001b[39m: vector_type,\n\u001b[1;32m    510\u001b[0m     \u001b[38;5;124m\"\u001b[39m\u001b[38;5;124mscramble_type\u001b[39m\u001b[38;5;124m\"\u001b[39m: scramble_type,\n\u001b[1;32m    511\u001b[0m     \u001b[38;5;124m\"\u001b[39m\u001b[38;5;124mgenerators\u001b[39m\u001b[38;5;124m\"\u001b[39m: \u001b[38;5;124m\"\u001b[39m\u001b[38;5;130;01m\\n\u001b[39;00m\u001b[38;5;124m\"\u001b[39m\u001b[38;5;241m.\u001b[39mjoin(generator_sources),\n\u001b[1;32m    512\u001b[0m }\n\u001b[1;32m    514\u001b[0m \u001b[38;5;66;03m# store in instance to let subclass constructors get to it.\u001b[39;00m\n\u001b[0;32m--> 515\u001b[0m \u001b[38;5;28mself\u001b[39m\u001b[38;5;241m.\u001b[39mmodule \u001b[38;5;241m=\u001b[39m module \u001b[38;5;241m=\u001b[39m \u001b[43mpycuda\u001b[49m\u001b[38;5;241;43m.\u001b[39;49m\u001b[43mcompiler\u001b[49m\u001b[38;5;241;43m.\u001b[39;49m\u001b[43mSourceModule\u001b[49m\u001b[43m(\u001b[49m\u001b[43msource\u001b[49m\u001b[43m,\u001b[49m\u001b[43m \u001b[49m\u001b[43mno_extern_c\u001b[49m\u001b[38;5;241;43m=\u001b[39;49m\u001b[38;5;28;43;01mTrue\u001b[39;49;00m\u001b[43m)\u001b[49m\n\u001b[1;32m    517\u001b[0m \u001b[38;5;28mself\u001b[39m\u001b[38;5;241m.\u001b[39mgenerators \u001b[38;5;241m=\u001b[39m {}\n\u001b[1;32m    518\u001b[0m \u001b[38;5;28;01mfor\u001b[39;00m name, out_type, suffix \u001b[38;5;129;01min\u001b[39;00m my_generators:\n",
      "File \u001b[0;32m~/anaconda3/envs/rufus/lib/python3.8/site-packages/pycuda/compiler.py:349\u001b[0m, in \u001b[0;36mSourceModule.__init__\u001b[0;34m(self, source, nvcc, options, keep, no_extern_c, arch, code, cache_dir, include_dirs)\u001b[0m\n\u001b[1;32m    335\u001b[0m \u001b[38;5;28;01mdef\u001b[39;00m \u001b[38;5;21m__init__\u001b[39m(\n\u001b[1;32m    336\u001b[0m     \u001b[38;5;28mself\u001b[39m,\n\u001b[1;32m    337\u001b[0m     source,\n\u001b[0;32m   (...)\u001b[0m\n\u001b[1;32m    345\u001b[0m     include_dirs\u001b[38;5;241m=\u001b[39m[],\n\u001b[1;32m    346\u001b[0m ):\n\u001b[1;32m    347\u001b[0m     \u001b[38;5;28mself\u001b[39m\u001b[38;5;241m.\u001b[39m_check_arch(arch)\n\u001b[0;32m--> 349\u001b[0m     cubin \u001b[38;5;241m=\u001b[39m \u001b[38;5;28;43mcompile\u001b[39;49m\u001b[43m(\u001b[49m\n\u001b[1;32m    350\u001b[0m \u001b[43m        \u001b[49m\u001b[43msource\u001b[49m\u001b[43m,\u001b[49m\n\u001b[1;32m    351\u001b[0m \u001b[43m        \u001b[49m\u001b[43mnvcc\u001b[49m\u001b[43m,\u001b[49m\n\u001b[1;32m    352\u001b[0m \u001b[43m        \u001b[49m\u001b[43moptions\u001b[49m\u001b[43m,\u001b[49m\n\u001b[1;32m    353\u001b[0m \u001b[43m        \u001b[49m\u001b[43mkeep\u001b[49m\u001b[43m,\u001b[49m\n\u001b[1;32m    354\u001b[0m \u001b[43m        \u001b[49m\u001b[43mno_extern_c\u001b[49m\u001b[43m,\u001b[49m\n\u001b[1;32m    355\u001b[0m \u001b[43m        \u001b[49m\u001b[43march\u001b[49m\u001b[43m,\u001b[49m\n\u001b[1;32m    356\u001b[0m \u001b[43m        \u001b[49m\u001b[43mcode\u001b[49m\u001b[43m,\u001b[49m\n\u001b[1;32m    357\u001b[0m \u001b[43m        \u001b[49m\u001b[43mcache_dir\u001b[49m\u001b[43m,\u001b[49m\n\u001b[1;32m    358\u001b[0m \u001b[43m        \u001b[49m\u001b[43minclude_dirs\u001b[49m\u001b[43m,\u001b[49m\n\u001b[1;32m    359\u001b[0m \u001b[43m    \u001b[49m\u001b[43m)\u001b[49m\n\u001b[1;32m    361\u001b[0m     \u001b[38;5;28;01mfrom\u001b[39;00m \u001b[38;5;21;01mpycuda\u001b[39;00m\u001b[38;5;21;01m.\u001b[39;00m\u001b[38;5;21;01mdriver\u001b[39;00m \u001b[38;5;28;01mimport\u001b[39;00m module_from_buffer\n\u001b[1;32m    363\u001b[0m     \u001b[38;5;28mself\u001b[39m\u001b[38;5;241m.\u001b[39mmodule \u001b[38;5;241m=\u001b[39m module_from_buffer(cubin)\n",
      "File \u001b[0;32m~/anaconda3/envs/rufus/lib/python3.8/site-packages/pycuda/compiler.py:298\u001b[0m, in \u001b[0;36mcompile\u001b[0;34m(source, nvcc, options, keep, no_extern_c, arch, code, cache_dir, include_dirs, target)\u001b[0m\n\u001b[1;32m    295\u001b[0m \u001b[38;5;28;01mfor\u001b[39;00m i \u001b[38;5;129;01min\u001b[39;00m include_dirs:\n\u001b[1;32m    296\u001b[0m     options\u001b[38;5;241m.\u001b[39mappend(\u001b[38;5;124m\"\u001b[39m\u001b[38;5;124m-I\u001b[39m\u001b[38;5;124m\"\u001b[39m \u001b[38;5;241m+\u001b[39m i)\n\u001b[0;32m--> 298\u001b[0m \u001b[38;5;28;01mreturn\u001b[39;00m \u001b[43mcompile_plain\u001b[49m\u001b[43m(\u001b[49m\u001b[43msource\u001b[49m\u001b[43m,\u001b[49m\u001b[43m \u001b[49m\u001b[43moptions\u001b[49m\u001b[43m,\u001b[49m\u001b[43m \u001b[49m\u001b[43mkeep\u001b[49m\u001b[43m,\u001b[49m\u001b[43m \u001b[49m\u001b[43mnvcc\u001b[49m\u001b[43m,\u001b[49m\u001b[43m \u001b[49m\u001b[43mcache_dir\u001b[49m\u001b[43m,\u001b[49m\u001b[43m \u001b[49m\u001b[43mtarget\u001b[49m\u001b[43m)\u001b[49m\n",
      "File \u001b[0;32m~/anaconda3/envs/rufus/lib/python3.8/site-packages/pycuda/compiler.py:87\u001b[0m, in \u001b[0;36mcompile_plain\u001b[0;34m(source, options, keep, nvcc, cache_dir, target)\u001b[0m\n\u001b[1;32m     84\u001b[0m checksum \u001b[38;5;241m=\u001b[39m _new_md5()\n\u001b[1;32m     86\u001b[0m \u001b[38;5;28;01mif\u001b[39;00m \u001b[38;5;124m\"\u001b[39m\u001b[38;5;124m#include\u001b[39m\u001b[38;5;124m\"\u001b[39m \u001b[38;5;129;01min\u001b[39;00m source:\n\u001b[0;32m---> 87\u001b[0m     checksum\u001b[38;5;241m.\u001b[39mupdate(\u001b[43mpreprocess_source\u001b[49m\u001b[43m(\u001b[49m\u001b[43msource\u001b[49m\u001b[43m,\u001b[49m\u001b[43m \u001b[49m\u001b[43moptions\u001b[49m\u001b[43m,\u001b[49m\u001b[43m \u001b[49m\u001b[43mnvcc\u001b[49m\u001b[43m)\u001b[49m\u001b[38;5;241m.\u001b[39mencode(\u001b[38;5;124m\"\u001b[39m\u001b[38;5;124mutf-8\u001b[39m\u001b[38;5;124m\"\u001b[39m))\n\u001b[1;32m     88\u001b[0m \u001b[38;5;28;01melse\u001b[39;00m:\n\u001b[1;32m     89\u001b[0m     checksum\u001b[38;5;241m.\u001b[39mupdate(source\u001b[38;5;241m.\u001b[39mencode(\u001b[38;5;124m\"\u001b[39m\u001b[38;5;124mutf-8\u001b[39m\u001b[38;5;124m\"\u001b[39m))\n",
      "File \u001b[0;32m~/anaconda3/envs/rufus/lib/python3.8/site-packages/pycuda/compiler.py:53\u001b[0m, in \u001b[0;36mpreprocess_source\u001b[0;34m(source, options, nvcc)\u001b[0m\n\u001b[1;32m     50\u001b[0m \u001b[38;5;28;01melse\u001b[39;00m:\n\u001b[1;32m     51\u001b[0m     cmdline\u001b[38;5;241m.\u001b[39mextend([\u001b[38;5;124m\"\u001b[39m\u001b[38;5;124m--compiler-options\u001b[39m\u001b[38;5;124m\"\u001b[39m, \u001b[38;5;124m\"\u001b[39m\u001b[38;5;124m-P\u001b[39m\u001b[38;5;124m\"\u001b[39m])\n\u001b[0;32m---> 53\u001b[0m result, stdout, stderr \u001b[38;5;241m=\u001b[39m \u001b[43mcall_capture_output\u001b[49m\u001b[43m(\u001b[49m\u001b[43mcmdline\u001b[49m\u001b[43m,\u001b[49m\u001b[43m \u001b[49m\u001b[43merror_on_nonzero\u001b[49m\u001b[38;5;241;43m=\u001b[39;49m\u001b[38;5;28;43;01mFalse\u001b[39;49;00m\u001b[43m)\u001b[49m\n\u001b[1;32m     55\u001b[0m \u001b[38;5;28;01mif\u001b[39;00m result \u001b[38;5;241m!=\u001b[39m \u001b[38;5;241m0\u001b[39m:\n\u001b[1;32m     56\u001b[0m     \u001b[38;5;28;01mfrom\u001b[39;00m \u001b[38;5;21;01mpycuda\u001b[39;00m\u001b[38;5;21;01m.\u001b[39;00m\u001b[38;5;21;01mdriver\u001b[39;00m \u001b[38;5;28;01mimport\u001b[39;00m CompileError\n",
      "File \u001b[0;32m~/anaconda3/envs/rufus/lib/python3.8/site-packages/pytools/prefork.py:221\u001b[0m, in \u001b[0;36mcall_capture_output\u001b[0;34m(cmdline, cwd, error_on_nonzero)\u001b[0m\n\u001b[1;32m    220\u001b[0m \u001b[38;5;28;01mdef\u001b[39;00m \u001b[38;5;21mcall_capture_output\u001b[39m(cmdline, cwd\u001b[38;5;241m=\u001b[39m\u001b[38;5;28;01mNone\u001b[39;00m, error_on_nonzero\u001b[38;5;241m=\u001b[39m\u001b[38;5;28;01mTrue\u001b[39;00m):\n\u001b[0;32m--> 221\u001b[0m     \u001b[38;5;28;01mreturn\u001b[39;00m \u001b[43mforker\u001b[49m\u001b[38;5;241;43m.\u001b[39;49m\u001b[43mcall_capture_output\u001b[49m\u001b[43m(\u001b[49m\u001b[43mcmdline\u001b[49m\u001b[43m,\u001b[49m\u001b[43m \u001b[49m\u001b[43mcwd\u001b[49m\u001b[43m,\u001b[49m\u001b[43m \u001b[49m\u001b[43merror_on_nonzero\u001b[49m\u001b[43m)\u001b[49m\n",
      "File \u001b[0;32m~/anaconda3/envs/rufus/lib/python3.8/site-packages/pytools/prefork.py:58\u001b[0m, in \u001b[0;36mDirectForker.call_capture_output\u001b[0;34m(cmdline, cwd, error_on_nonzero)\u001b[0m\n\u001b[1;32m     56\u001b[0m     \u001b[38;5;28;01mreturn\u001b[39;00m popen\u001b[38;5;241m.\u001b[39mreturncode, stdout_data, stderr_data\n\u001b[1;32m     57\u001b[0m \u001b[38;5;28;01mexcept\u001b[39;00m \u001b[38;5;167;01mOSError\u001b[39;00m \u001b[38;5;28;01mas\u001b[39;00m e:\n\u001b[0;32m---> 58\u001b[0m     \u001b[38;5;28;01mraise\u001b[39;00m ExecError(\u001b[38;5;124m\"\u001b[39m\u001b[38;5;124merror invoking \u001b[39m\u001b[38;5;124m'\u001b[39m\u001b[38;5;132;01m{}\u001b[39;00m\u001b[38;5;124m'\u001b[39m\u001b[38;5;124m: \u001b[39m\u001b[38;5;132;01m{}\u001b[39;00m\u001b[38;5;124m\"\u001b[39m\u001b[38;5;241m.\u001b[39mformat(\u001b[38;5;124m\"\u001b[39m\u001b[38;5;124m \u001b[39m\u001b[38;5;124m\"\u001b[39m\u001b[38;5;241m.\u001b[39mjoin(cmdline), e))\n",
      "\u001b[0;31mExecError\u001b[0m: error invoking 'nvcc --preprocess -arch sm_61 -I/home/jaoi/anaconda3/envs/rufus/lib/python3.8/site-packages/pycuda/cuda /tmp/tmp9mi4vlbl.cu --compiler-options -P': [Errno 2] No such file or directory: 'nvcc'"
     ]
    }
   ],
   "source": [
    "epochs = 1\n",
    "# for epoch in range(epochs):\n",
    "#     tm.fit(x_train, y_train)\n",
    "\n",
    "# print(\"Accuracy tm:\", 100*(tm.predict(x_test) == y_test).mean())\n",
    "\n",
    "for epoch in range(epochs):\n",
    "    cuda_tm.fit(x_train, y_train)\n",
    "\n",
    "print(\"Accuracy tm:\", 100*(cuda_tm.predict(x_test) == y_test).mean())"
   ]
  },
  {
   "cell_type": "code",
   "execution_count": 12,
   "id": "3ebb3981-d218-4342-afd1-ec53e1210ea3",
   "metadata": {},
   "outputs": [
    {
     "name": "stdout",
     "output_type": "stream",
     "text": [
      "Accuracy rf: 97.0124466820502\n"
     ]
    }
   ],
   "source": [
    "rf.fit(x_train, y_train)\n",
    "print(\"Accuracy rf:\", 100*(rf.predict(x_test) == y_test).mean())"
   ]
  },
  {
   "cell_type": "code",
   "execution_count": 13,
   "id": "2612a381-a366-48c3-91f5-fbadcaef4c36",
   "metadata": {},
   "outputs": [],
   "source": [
    "def tsetlin_hyperparameter_search(n_clauses_per_class, x_t, y_t, x_v, y_v):\n",
    "    \"\"\"\n",
    "    Search for the best hyperparameters for the tsetlin machine\n",
    "    \"\"\"\n",
    "    # device = torch.device(\"cuda\" if torch.cuda.is_available() else \"cpu\")\n",
    "    best = 0.0\n",
    "    treshold = int(0.8 * n_clauses_per_class)\n",
    "    print(\"starting training\")\n",
    "    for s_param in tqdm.tqdm(np.arange(1.0, 30.0, 0.1)):\n",
    "        tm = MultiClassTsetlinMachine(n_clauses_per_class, treshold, s_param, weighted_clauses=True, boost_true_positive_feedback=0)\n",
    "        tm.fit(x_t, y_t, epochs=200)\n",
    "        acc = 100*(tm.predict(x_v) == y_v).mean()\n",
    "        if acc > best:\n",
    "            print(\"NEW BEST ACC {} WITH s_param {}\".format(acc, s_param))\n",
    "            best = acc\n",
    "# tsetlin_hyperparameter_search(50, x_train, y_train, x_test, y_test)"
   ]
  },
  {
   "cell_type": "code",
   "execution_count": 14,
   "id": "a243d744-7e82-44d0-b99e-4df7a86d1f49",
   "metadata": {},
   "outputs": [
    {
     "data": {
      "text/plain": [
       "19"
      ]
     },
     "execution_count": 14,
     "metadata": {},
     "output_type": "execute_result"
    }
   ],
   "source": [
    "tm.number_of_classes"
   ]
  },
  {
   "cell_type": "code",
   "execution_count": 15,
   "id": "36714e0e-9424-4007-948b-73689fcea1fb",
   "metadata": {},
   "outputs": [],
   "source": [
    "def get_name_of_feature_from_3_rounds(feature_nr):\n",
    "    # for own player with 4 bits representing the cards as max number is 11\n",
    "    reverse_4_bits = [3, 2, 1, 0]\n",
    "    reverse_5_bits = [4, 3, 2, 1, 0]\n",
    "    if feature_nr in [0,1,2,3,4]:\n",
    "        return \"own coins bit {}\".format(2**(reverse_5_bits[feature_nr]))\n",
    "    elif feature_nr in [5,6,7,8]:\n",
    "        return \"own cards 1. bit {}\".format(2**reverse_4_bits[feature_nr - 5])\n",
    "    elif feature_nr in [9,10,11,12]:\n",
    "        return \"own cards 2. bit {}\".format(2**reverse_4_bits[feature_nr - 9])\n",
    "    elif feature_nr in [13,14,15,16]:\n",
    "        return \"own cards 3. bit {}\".format(2**reverse_4_bits[feature_nr - 13])\n",
    "    elif feature_nr == 17:\n",
    "        return \"self can bid bit\"\n",
    "    elif feature_nr in [18,19,20,21,22]:\n",
    "        return \"current own bid {}\".format(2**reverse_5_bits[feature_nr - 18])\n",
    "    elif feature_nr in [23,24,25,26,27]:\n",
    "        return \"resulting own coins if fold {}\".format(2**reverse_5_bits[feature_nr - 23])\n",
    "    elif feature_nr in [28,29,30,31]:\n",
    "        return \"resulting card on fold {}\".format(2**reverse_4_bits[feature_nr - 28])\n",
    "    elif feature_nr in [32,33]:\n",
    "        return \"next turn order {}\".format(2**reverse_4_bits[feature_nr - 32])\n",
    "    # for next player in line\n",
    "    elif feature_nr in [34, 35, 36, 37, 38]:\n",
    "        return \"next player coins bit {}\".format(2**(reverse_5_bits[feature_nr - 34]))\n",
    "    elif feature_nr in [39, 40, 41, 42]:\n",
    "        return \"next player cards 1. bit {}\".format(2**reverse_4_bits[feature_nr - 39])\n",
    "    elif feature_nr in [43, 44, 45, 46]:\n",
    "        return \"next player cards 2. bit {}\".format(2**reverse_4_bits[feature_nr - 43])\n",
    "    elif feature_nr in [47, 48, 49, 50]:\n",
    "        return \"next player cards 3. bit {}\".format(2**reverse_4_bits[feature_nr - 47])\n",
    "    elif feature_nr == 51:\n",
    "        return \"next can bid bit\"\n",
    "    elif feature_nr in [52, 53, 54, 55, 56]:\n",
    "        return \"current next player bid {} bit\".format(2**reverse_5_bits[feature_nr - 52])\n",
    "    elif feature_nr in [57, 58, 59, 60, 61]:\n",
    "        return \"resulting next player coins if fold {}\".format(2**reverse_5_bits[feature_nr - 57])\n",
    "    elif feature_nr in [62, 63, 64, 65]:\n",
    "        return \"resulting card on fold {}\".format(2**reverse_4_bits[feature_nr - 62])\n",
    "    elif feature_nr in [66, 67]:\n",
    "        return \"next turn order {}\".format(2**reverse_4_bits[feature_nr - 66])\n",
    "    # for last player in line\n",
    "    elif feature_nr in [68, 69, 70, 71, 72]:\n",
    "        return \"last player coins bit {}\".format(2**(reverse_5_bits[feature_nr - 68]))\n",
    "    elif feature_nr in [73, 74, 75, 76]:\n",
    "        return \"last player cards 1. bit {}\".format(2**reverse_4_bits[feature_nr - 73])\n",
    "    elif feature_nr in [77, 78, 79, 80]:\n",
    "        return \"last player cards 2. bit {}\".format(2**reverse_4_bits[feature_nr - 77])\n",
    "    elif feature_nr in [81, 82, 83, 84]:\n",
    "        return \"last player cards 3. bit {}\".format(2**reverse_4_bits[feature_nr - 81])\n",
    "    elif feature_nr == 85:\n",
    "        return \"last player can bid\"\n",
    "    elif feature_nr in [86, 87, 88, 89, 90]:\n",
    "        return \"current next player bid {}\".format(2**reverse_5_bits[feature_nr - 86])\n",
    "    elif feature_nr in [91, 92, 93, 94, 95]:\n",
    "        return \"resulting next player coins if fold {}\".format(2**reverse_5_bits[feature_nr - 91])\n",
    "    elif feature_nr in [96, 97, 98, 99]:\n",
    "        return \"resulting card on fold {}\".format(2**reverse_4_bits[feature_nr - 96])\n",
    "    elif feature_nr in [100, 101]:\n",
    "        return \"next turn order {}\".format(2**reverse_4_bits[feature_nr - 100])\n",
    "    # remainder stats\n",
    "    elif feature_nr in [102, 103, 104, 105, 106, 107, 108, 109, 110, 111, 112]:\n",
    "        return \"{}. largest in stack\".format(feature_nr - 101)\n",
    "    elif feature_nr in [113, 114, 115, 116]:\n",
    "        return \"last player cards 3. bit {}\".format(2**reverse_4_bits[feature_nr - 113])\n",
    "    elif feature_nr in [117, 118, 119, 120]:\n",
    "        return \"last player cards 3. bit {}\".format(2**reverse_4_bits[feature_nr - 117])\n",
    "    elif feature_nr in [121, 122, 123, 124]:\n",
    "        return \"last player cards 3. bit {}\".format(2**reverse_4_bits[feature_nr - 121])\n",
    "    elif feature_nr == 125:\n",
    "        return \"board_std\"\n",
    "    return \"not implemented\"\n",
    "        "
   ]
  },
  {
   "cell_type": "code",
   "execution_count": 16,
   "id": "ec2d2e84-8038-4bc0-b409-1464cb8e822e",
   "metadata": {},
   "outputs": [
    {
     "data": {
      "text/plain": [
       "126"
      ]
     },
     "execution_count": 16,
     "metadata": {},
     "output_type": "execute_result"
    }
   ],
   "source": [
    "sum([5, 4, 4, 4, 1, 5, 5, 4, 2]) * 3 + 11 + 4 + 4 + 4 + 1"
   ]
  },
  {
   "cell_type": "code",
   "execution_count": 17,
   "id": "eef901dd-aa04-4b66-b163-0b4a89d73cf7",
   "metadata": {},
   "outputs": [
    {
     "data": {
      "text/plain": [
       "34"
      ]
     },
     "execution_count": 17,
     "metadata": {},
     "output_type": "execute_result"
    }
   ],
   "source": [
    "sum([5, 4, 4, 4, 1, 5, 5, 4, 2])"
   ]
  },
  {
   "cell_type": "code",
   "execution_count": null,
   "id": "3cc890ec-7b6c-4012-ac6f-08d4ed1d5394",
   "metadata": {},
   "outputs": [],
   "source": []
  },
  {
   "cell_type": "code",
   "execution_count": 18,
   "id": "ecf1c479-817c-41ed-919a-f9925e0f82e4",
   "metadata": {},
   "outputs": [
    {
     "name": "stdout",
     "output_type": "stream",
     "text": [
      "\n",
      "Class 12 Positive Clauses:\n",
      "\n",
      "Clause #0:   next player cards 3. bit 2\n",
      "Clause #2:   current next player bid 2 bit ∧  last player cards 2. bit 4\n",
      "Clause #4:   next player coins bit 1 ∧  current next player bid 8 bit ∧  resulting next player coins if fold 2\n",
      "Clause #6:  \n",
      "Clause #8:   current own bid 16\n",
      "Clause #10:   own coins bit 1 ∧  current own bid 8\n",
      "Clause #12:   own cards 3. bit 8\n",
      "Clause #14:   current next player bid 8 ∧  resulting next player coins if fold 2\n",
      "Clause #16:  ¬next turn order 4\n",
      "Clause #18:   current own bid 8 ∧  current next player bid 1 bit ∧  last player cards 1. bit 8\n",
      "Clause #20:   own coins bit 1 ∧ ¬resulting own coins if fold 4\n",
      "Clause #22:   own coins bit 8 ∧  last player coins bit 1\n",
      "Clause #24:   own cards 3. bit 8\n",
      "Clause #26:   next player cards 3. bit 4 ∧  next player cards 3. bit 1\n",
      "Clause #28:   next player cards 3. bit 8\n",
      "Clause #30:   next player cards 3. bit 1\n",
      "Clause #32:   current next player bid 2 bit ∧  current next player bid 1 bit ∧  last player cards 1. bit 8 ∧ ¬resulting next player coins if fold 8\n",
      "Clause #34:   own coins bit 1 ∧  current next player bid 8 bit ∧  current next player bid 2 bit ∧  resulting next player coins if fold 4\n",
      "Clause #36:   own cards 3. bit 8\n",
      "Clause #38:   own cards 3. bit 4\n",
      "Clause #40:   own cards 2. bit 8\n",
      "Clause #42:  ¬next turn order 8\n",
      "Clause #44:   next player cards 3. bit 8\n",
      "Clause #46:  ¬next turn order 4\n",
      "Clause #48:   own cards 3. bit 2\n",
      "Clause #50:   own cards 3. bit 4\n",
      "Clause #52:   current next player bid 8 ∧  resulting next player coins if fold 4\n",
      "Clause #54:   own cards 3. bit 1\n",
      "Clause #56:   current own bid 1 ∧  current next player bid 1 bit\n",
      "Clause #58:   next player cards 3. bit 1\n",
      "Clause #60:   next player cards 3. bit 1\n",
      "Clause #62:  ¬next turn order 8\n",
      "Clause #64:  ¬1. largest in stack\n",
      "Clause #66:   resulting own coins if fold 8 ∧  current next player bid 8 bit ∧  last player cards 2. bit 1 ∧ ¬current next player bid 4 bit\n",
      "Clause #68:   current next player bid 16\n",
      "Clause #70:   next player coins bit 4 ∧  resulting next player coins if fold 2\n",
      "Clause #72:  ¬next turn order 4\n",
      "Clause #74:  ¬next turn order 4\n",
      "Clause #76:   own coins bit 4 ∧  current next player bid 8 bit ∧  current next player bid 2 bit ∧  resulting next player coins if fold 2\n",
      "Clause #78:   next player cards 3. bit 8\n",
      "Clause #80:   last player cards 2. bit 8\n",
      "Clause #82:   next player cards 3. bit 8\n",
      "Clause #84:   current own bid 8 ∧  current next player bid 1 bit ∧  last player cards 1. bit 4\n",
      "Clause #86:   current own bid 16\n",
      "Clause #88:   current own bid 8 ∧  resulting own coins if fold 1 ∧  current next player bid 2 bit ∧  current next player bid 1 bit\n",
      "Clause #90:   next player coins bit 1 ∧  current next player bid 2 ∧  resulting next player coins if fold 2\n",
      "Clause #92:   next player coins bit 1 ∧  current next player bid 2\n",
      "Clause #94:  ¬next turn order 4\n",
      "Clause #96:  ¬next turn order 8\n",
      "Clause #98:   next player coins bit 4 ∧  current next player bid 2 bit\n",
      "Clause #100:   next player cards 3. bit 2\n",
      "Clause #102:   own cards 3. bit 1 ∧  last player cards 3. bit 2\n",
      "Clause #104:   next player cards 3. bit 2\n",
      "Clause #106:   last player cards 3. bit 8\n",
      "Clause #108:   current own bid 8 ∧  next player coins bit 4 ∧ ¬10. largest in stack\n",
      "Clause #110:   next player cards 3. bit 1\n",
      "Clause #112:   own cards 1. bit 4 ∧  current next player bid 2 bit ∧  last player cards 3. bit 8\n",
      "Clause #114:   own coins bit 4 ∧  resulting own coins if fold 8 ∧  current next player bid 2 bit ∧  last player coins bit 1 ∧  last player cards 3. bit 2\n",
      "Clause #116:   own cards 3. bit 4\n",
      "Clause #118:   current next player bid 8 bit ∧  current next player bid 8 ∧  resulting next player coins if fold 4\n",
      "Clause #120:   own coins bit 4 ∧  own coins bit 1\n",
      "Clause #122:   current own bid 8 ∧ ¬resulting own coins if fold 4\n",
      "Clause #124:   current next player bid 2 bit ∧  last player cards 2. bit 4\n",
      "Clause #126:   next player cards 3. bit 4\n",
      "Clause #128:   current next player bid 16\n",
      "Clause #130:   resulting next player coins if fold 2 ∧ ¬resulting next player coins if fold 8\n",
      "Clause #132:   next player cards 3. bit 1\n",
      "Clause #134:   own cards 3. bit 4\n",
      "Clause #136:   current next player bid 8 bit ∧  resulting next player coins if fold 4 ∧  resulting next player coins if fold 2\n",
      "Clause #138:   current next player bid 2 ∧ ¬next player coins bit 2\n",
      "Clause #140:   current own bid 16\n",
      "Clause #142:   next player cards 3. bit 8\n",
      "Clause #144:   next player cards 1. bit 4 ∧  current next player bid 2 bit ∧  current next player bid 1 bit ∧ ¬last player coins bit 16\n",
      "Clause #146:   resulting next player coins if fold 4 ∧ ¬next can bid bit\n",
      "Clause #148:   own coins bit 1 ∧  current next player bid 2 bit ∧  last player coins bit 4 ∧ ¬own coins bit 2\n",
      "Clause #150:   current next player bid 8 bit ∧  current next player bid 8\n",
      "Clause #152:   own cards 3. bit 2\n",
      "Clause #154:   next player cards 3. bit 8\n",
      "Clause #156:   current next player bid 8 ∧  resulting next player coins if fold 2 ∧ ¬resulting next player coins if fold 8\n",
      "Clause #158:  ¬1. largest in stack\n",
      "Clause #160:   next player coins bit 1 ∧  current next player bid 2\n",
      "Clause #162:   current next player bid 16\n",
      "Clause #164:  ¬next turn order 8\n",
      "Clause #166:  ¬next turn order 8\n",
      "Clause #168:   next player cards 3. bit 1\n",
      "Clause #170:   own cards 3. bit 1\n",
      "Clause #172:   next player cards 3. bit 8\n",
      "Clause #174:   next player cards 3. bit 4\n",
      "Clause #176:   current next player bid 8 bit ∧  current next player bid 8\n",
      "Clause #178:   own cards 3. bit 1\n",
      "Clause #180:   current next player bid 16\n",
      "Clause #182:  ¬next turn order 4\n",
      "Clause #184:   own cards 3. bit 1\n",
      "Clause #186:   current own bid 8 ∧  current next player bid 2 bit ∧  current next player bid 1 bit ∧ ¬current next player bid 4 bit ∧ ¬resulting next player coins if fold 8\n",
      "Clause #188:   own coins bit 4 ∧  own coins bit 1 ∧  current next player bid 1 ∧ ¬own coins bit 2\n",
      "Clause #190:   own cards 3. bit 8\n",
      "Clause #192:   next player coins bit 1 ∧  current next player bid 8 bit\n",
      "Clause #194:  \n",
      "Clause #196:   current next player bid 2 bit ∧  last player coins bit 1\n",
      "Clause #198:   current own bid 2 ∧  current next player bid 1 bit ∧  resulting next player coins if fold 4 ∧  last player coins bit 8 ∧ ¬current own bid 1 ∧ ¬current next player bid 4 bit ∧ ¬resulting next player coins if fold 1\n",
      "\n",
      "Class 12 Negative Clauses:\n",
      "\n",
      "Clause #1:   resulting next player coins if fold 8 ∧ ¬resulting own coins if fold 8 ∧ ¬next player cards 2. bit 2 ∧ ¬next can bid bit ∧ ¬resulting next player coins if fold 4 ∧ ¬5. largest in stack\n",
      "Clause #3:   last player cards 3. bit 4\n",
      "Clause #5:   resulting card on fold 4 ∧  last player cards 3. bit 2\n",
      "Clause #7:   last player cards 3. bit 4 ∧ ¬next player cards 1. bit 1\n",
      "Clause #9:   next turn order 8 ∧ ¬current next player bid 2 bit\n",
      "Clause #11:   own cards 2. bit 8\n",
      "Clause #13:  ¬self can bid bit\n",
      "Clause #15:  ¬self can bid bit\n",
      "Clause #17:   resulting next player coins if fold 8 ∧  resulting card on fold 4 ∧  last player coins bit 16 ∧  last player cards 3. bit 2\n",
      "Clause #19:  ¬self can bid bit\n",
      "Clause #21:   last player coins bit 1 ∧  resulting card on fold 8\n",
      "Clause #23:   current own bid 1 ∧ ¬current next player bid 1\n",
      "Clause #25:   resulting own coins if fold 4 ∧ ¬own coins bit 16\n",
      "Clause #27:   next player coins bit 16 ∧  last player cards 3. bit 4\n",
      "Clause #29:   own cards 2. bit 8\n",
      "Clause #31:   current own bid 4 ∧ ¬next turn order 8\n",
      "Clause #33:  ¬self can bid bit\n",
      "Clause #35:   current own bid 1 ∧ ¬current next player bid 1\n",
      "Clause #37:  \n",
      "Clause #39:  ¬self can bid bit\n",
      "Clause #41:   next can bid bit ∧  last player cards 3. bit 4\n",
      "Clause #43:   last player cards 2. bit 4\n",
      "Clause #45:  ¬own cards 1. bit 1 ∧ ¬resulting next player coins if fold 4 ∧ ¬6. largest in stack\n",
      "Clause #47:   next player cards 1. bit 4\n",
      "Clause #49:   current next player bid 4 bit\n",
      "Clause #51:   next player coins bit 4\n",
      "Clause #53:   next player cards 2. bit 2\n",
      "Clause #55:   own cards 2. bit 4\n",
      "Clause #57:   current next player bid 16 bit\n",
      "Clause #59:   resulting next player coins if fold 1 ∧ ¬last player cards 3. bit 8\n",
      "Clause #61:   resulting next player coins if fold 1 ∧  last player can bid ∧ ¬next player cards 1. bit 2\n",
      "Clause #63:   last player cards 3. bit 2 ∧ ¬current next player bid 1\n",
      "Clause #65:   resulting own coins if fold 4 ∧  current next player bid 4 bit\n",
      "Clause #67:   resulting next player coins if fold 2 ∧  resulting next player coins if fold 2\n",
      "Clause #69:   resulting next player coins if fold 8 ∧  last player cards 3. bit 8 ∧ ¬resulting own coins if fold 4 ∧ ¬last player cards 3. bit 1 ∧ ¬last player cards 3. bit 4\n",
      "Clause #71:   next player coins bit 8 ∧  current next player bid 2 bit ∧ ¬next turn order 8\n",
      "Clause #73:  ¬self can bid bit\n",
      "Clause #75:  ¬self can bid bit\n",
      "Clause #77:   last player cards 2. bit 8\n",
      "Clause #79:   current next player bid 4 ∧ ¬resulting own coins if fold 8\n",
      "Clause #81:   last player cards 3. bit 2\n",
      "Clause #83:   last player coins bit 16 ∧  resulting next player coins if fold 16\n",
      "Clause #85:  ¬current next player bid 8 bit ∧ ¬last player cards 3. bit 8\n",
      "Clause #87:   resulting next player coins if fold 8 ∧  last player cards 3. bit 4 ∧ ¬resulting own coins if fold 8 ∧ ¬resulting card on fold 2\n",
      "Clause #89:   last player cards 3. bit 2 ∧ ¬last player cards 3. bit 8\n",
      "Clause #91:  ¬self can bid bit\n",
      "Clause #93:   own coins bit 8 ∧ ¬resulting next player coins if fold 2 ∧ ¬3. largest in stack\n",
      "Clause #95:   current next player bid 16 bit\n",
      "Clause #97:   resulting next player coins if fold 16\n",
      "Clause #99:  ¬resulting card on fold 2 ∧ ¬current next player bid 1\n",
      "Clause #101:   last player cards 3. bit 2\n",
      "Clause #103:   10. largest in stack ∧ ¬7. largest in stack\n",
      "Clause #105:   last player cards 1. bit 8 ∧ ¬current next player bid 2 bit\n",
      "Clause #107:  ¬self can bid bit\n",
      "Clause #109:  ¬self can bid bit\n",
      "Clause #111:   next player coins bit 16 ∧ ¬resulting next player coins if fold 4 ∧ ¬board_std\n",
      "Clause #113:   next player cards 2. bit 1\n",
      "Clause #115:  ¬self can bid bit\n",
      "Clause #117:   resulting own coins if fold 4 ∧  current next player bid 4 bit\n",
      "Clause #119:   resulting card on fold 8 ∧  10. largest in stack\n",
      "Clause #121:   current next player bid 4 bit\n",
      "Clause #123:   current own bid 1 ∧ ¬current next player bid 1 bit\n",
      "Clause #125:   last player cards 3. bit 2\n",
      "Clause #127:  ¬self can bid bit\n",
      "Clause #129:   own cards 2. bit 2\n",
      "Clause #131:   resulting next player coins if fold 16\n",
      "Clause #133:  ¬self can bid bit\n",
      "Clause #135:   resulting card on fold 8\n",
      "Clause #137:   next player coins bit 1 ∧  resulting next player coins if fold 8 ∧ ¬next can bid bit ∧ ¬9. largest in stack\n",
      "Clause #139:   resulting card on fold 1 ∧  last player cards 3. bit 1 ∧ ¬own coins bit 16\n",
      "Clause #141:  ¬resulting own coins if fold 8\n",
      "Clause #143:   current next player bid 4 bit\n",
      "Clause #145:   current own bid 1 ∧  resulting next player coins if fold 8 ∧ ¬own coins bit 8 ∧ ¬current next player bid 1 bit\n",
      "Clause #147:   current next player bid 4 bit\n",
      "Clause #149:  ¬self can bid bit\n",
      "Clause #151:   own cards 2. bit 2\n",
      "Clause #153:   current own bid 1 ∧ ¬own coins bit 4 ∧ ¬current next player bid 1 bit\n",
      "Clause #155:   resulting next player coins if fold 1\n",
      "Clause #157:   next turn order 8 ∧  last player cards 3. bit 2 ∧ ¬resulting card on fold 1 ∧ ¬next player cards 1. bit 8\n",
      "Clause #159:   resulting card on fold 4 ∧  resulting next player coins if fold 16\n",
      "Clause #161:   resulting next player coins if fold 1 ∧  current next player bid 2 ∧  resulting next player coins if fold 4\n",
      "Clause #163:   last player coins bit 1 ∧ ¬resulting next player coins if fold 4\n",
      "Clause #165:   resulting card on fold 8 ∧ ¬own cards 1. bit 4\n",
      "Clause #167:   next player cards 2. bit 4\n",
      "Clause #169:   current next player bid 16 bit\n",
      "Clause #171:   current next player bid 16 bit\n",
      "Clause #173:  ¬self can bid bit\n",
      "Clause #175:   resulting own coins if fold 4 ∧  last player coins bit 1\n",
      "Clause #177:   next turn order 8 ∧ ¬own cards 1. bit 4 ∧ ¬board_std\n",
      "Clause #179:   resulting card on fold 1 ∧  current next player bid 8 ∧  resulting card on fold 2 ∧  2. largest in stack ∧ ¬resulting next player coins if fold 2\n",
      "Clause #181:   resulting card on fold 8 ∧ ¬current next player bid 8 bit ∧ ¬5. largest in stack\n",
      "Clause #183:   own cards 2. bit 2\n",
      "Clause #185:   last player can bid ∧ ¬current next player bid 1\n",
      "Clause #187:  ¬self can bid bit\n",
      "Clause #189:   resulting next player coins if fold 2 ∧ ¬resulting card on fold 4 ∧ ¬last player cards 3. bit 1\n",
      "Clause #191:   last player coins bit 8 ∧ ¬current next player bid 2 bit\n",
      "Clause #193:   own cards 2. bit 4\n",
      "Clause #195:   resulting own coins if fold 4 ∧  current next player bid 4 bit\n",
      "Clause #197:   current next player bid 4\n",
      "Clause #199:   own cards 1. bit 8 ∧  last player cards 3. bit 1\n"
     ]
    }
   ],
   "source": [
    "def show_clauses_from_tm(tm, one_class=False):\n",
    "    number_of_features = int(tm.number_of_features/2)\n",
    "    number_of_classes = tm.number_of_classes\n",
    "    if not one_class:\n",
    "        for clas in range(number_of_classes):\n",
    "\n",
    "            print(\"\\nClass {} Positive Clauses:\\n\".format(clas))\n",
    "            for j in range(0, n_clauses_per_class, 2):\n",
    "                print(\"Clause #%d: \" % (j), end=' ')\n",
    "                l = []\n",
    "                for k in range(number_of_features*2):\n",
    "                    if tm.ta_action(clas, j, k) == 1:\n",
    "                        if k < number_of_features:\n",
    "                            l.append(\" \"+get_name_of_feature_from_3_rounds(k))\n",
    "                        else:\n",
    "                            l.append(\"¬\"+get_name_of_feature_from_3_rounds(k-number_of_features))\n",
    "                print(\" ∧ \".join(l))\n",
    "\n",
    "            print(\"\\nClass {} Negative Clauses:\\n\".format(clas))\n",
    "            for j in range(1, n_clauses_per_class, 2):\n",
    "                print(\"Clause #%d: \" % (j), end=' ')\n",
    "                l = []\n",
    "                for k in range(number_of_features*2):\n",
    "                    if tm.ta_action(clas, j, k) == 1:\n",
    "                        if k < number_of_features:\n",
    "                            l.append(\" \"+get_name_of_feature_from_3_rounds(k))\n",
    "                        else:\n",
    "                            l.append(\"¬\"+get_name_of_feature_from_3_rounds(k-number_of_features))\n",
    "                print(\" ∧ \".join(l))\n",
    "    else:\n",
    "        \n",
    "\n",
    "        print(\"\\nClass {} Positive Clauses:\\n\".format(one_class))\n",
    "        for j in range(0, n_clauses_per_class, 2):\n",
    "            print(\"Clause #%d: \" % (j), end=' ')\n",
    "            l = []\n",
    "            for k in range(number_of_features*2):\n",
    "                if tm.ta_action(one_class, j, k) == 1:\n",
    "                    if k < number_of_features:\n",
    "                        l.append(\" \"+get_name_of_feature_from_3_rounds(k))\n",
    "                    else:\n",
    "                        l.append(\"¬\"+get_name_of_feature_from_3_rounds(k-number_of_features))\n",
    "            print(\" ∧ \".join(l))\n",
    "\n",
    "        print(\"\\nClass {} Negative Clauses:\\n\".format(one_class))\n",
    "        for j in range(1, n_clauses_per_class, 2):\n",
    "            print(\"Clause #%d: \" % (j), end=' ')\n",
    "            l = []\n",
    "            for k in range(number_of_features*2):\n",
    "                if tm.ta_action(one_class, j, k) == 1:\n",
    "                    if k < number_of_features:\n",
    "                        l.append(\" \"+get_name_of_feature_from_3_rounds(k))\n",
    "                    else:\n",
    "                        l.append(\"¬\"+get_name_of_feature_from_3_rounds(k-number_of_features))\n",
    "            print(\" ∧ \".join(l))\n",
    "\n",
    "show_clauses_from_tm(tm, one_class=12)"
   ]
  },
  {
   "cell_type": "code",
   "execution_count": 19,
   "id": "e4491733-27ae-490c-9fb1-478debbe3531",
   "metadata": {},
   "outputs": [],
   "source": [
    "def make_clauses_into_rule_stats(tm):\n",
    "    number_of_features = int(tm.number_of_features/2)\n",
    "    number_of_classes = tm.number_of_classes\n",
    "    \n",
    "    analyzed_classes = {}\n",
    "    for clas in range(number_of_classes):\n",
    "        pos = Counter()\n",
    "        neg = Counter()\n",
    "        \n",
    "        # print(\"\\nClass {} Positive Clauses:\\n\".format(clas))\n",
    "        for j in range(0, n_clauses_per_class, 2):\n",
    "            # print(\"Clause #%d: \" % (j), end=' ')\n",
    "            for k in range(number_of_features*2):\n",
    "                if tm.ta_action(clas, j, k) == 1:\n",
    "                    if k < number_of_features:\n",
    "                        pos[get_name_of_feature_from_3_rounds(k)] += 1\n",
    "                    else:\n",
    "                        pos[\"¬\"+get_name_of_feature_from_3_rounds(k-number_of_features)] += 1\n",
    "\n",
    "        # print(\"\\nClass {} Negative Clauses:\\n\".format(clas))\n",
    "        for j in range(1, n_clauses_per_class, 2):\n",
    "            # print(\"Clause #%d: \" % (j), end=' ')\n",
    "            l = []\n",
    "            for k in range(number_of_features*2):\n",
    "                if tm.ta_action(clas, j, k) == 1:\n",
    "                    if k < number_of_features:\n",
    "                        neg[get_name_of_feature_from_3_rounds(k)] += 1\n",
    "                    else:\n",
    "                        neg[\"¬\"+get_name_of_feature_from_3_rounds(k-number_of_features)] += 1\n",
    "        \n",
    "        analyzed_classes[clas] = {\"negative\": neg, \"positive\": pos}\n",
    "    return analyzed_classes\n",
    "\n",
    "analyzed = make_clauses_into_rule_stats(tm)\n"
   ]
  },
  {
   "cell_type": "code",
   "execution_count": 20,
   "id": "3ff876eb-36e3-4841-aa35-a254df052b3c",
   "metadata": {},
   "outputs": [
    {
     "name": "stdout",
     "output_type": "stream",
     "text": [
      "*****0*****\n",
      "positive\n",
      "[('¬self can bid bit', 20), ('current next player bid 16', 16), ('current next player bid 16 bit', 14), ('resulting next player coins if fold 16', 12), ('current next player bid 8 bit', 9), ('current next player bid 8', 8), ('current next player bid 4 bit', 8), ('current own bid 4', 7), ('current next player bid 4', 5), ('next player coins bit 4', 4)]\n",
      "negative\n",
      "[('resulting next player coins if fold 16', 11), ('board_std', 8), ('resulting next player coins if fold 8', 8), ('resulting own coins if fold 16', 8), ('last player can bid', 8), ('resulting own coins if fold 8', 7), ('¬next turn order 4', 7), ('current next player bid 2 bit', 7), ('resulting next player coins if fold 4', 6), ('¬resulting next player coins if fold 8', 6)]\n",
      "*****1*****\n",
      "positive\n",
      "[('resulting card on fold 8', 16), ('resulting next player coins if fold 4', 16), ('last player cards 3. bit 4', 10), ('resulting next player coins if fold 8', 9), ('resulting next player coins if fold 16', 9), ('last player cards 3. bit 2', 8), ('own cards 1. bit 2', 8), ('last player cards 3. bit 1', 8), ('last player coins bit 16', 7), ('next player cards 1. bit 4', 7)]\n",
      "negative\n",
      "[('current next player bid 1', 23), ('current own bid 1', 13), ('current next player bid 1 bit', 12), ('current next player bid 4 bit', 11), ('current next player bid 2', 7), ('¬self can bid bit', 6), ('own coins bit 16', 6), ('current next player bid 4', 5), ('current next player bid 2 bit', 4), ('¬last player cards 3. bit 8', 4)]\n",
      "*****2*****\n",
      "positive\n",
      "[('¬next turn order 8', 9), ('next player cards 3. bit 2', 8), ('next player cards 3. bit 1', 8), ('next player cards 2. bit 8', 7), ('current next player bid 16', 7), ('current own bid 16', 7), ('own cards 3. bit 1', 6), ('own cards 3. bit 4', 6), ('own cards 3. bit 2', 5), ('next player cards 3. bit 4', 5)]\n",
      "negative\n",
      "[('current next player bid 2', 9), ('last player cards 3. bit 1', 8), ('current next player bid 4 bit', 6), ('current next player bid 4', 6), ('current next player bid 8', 5), ('¬last player cards 3. bit 1', 4), ('resulting next player coins if fold 8', 4), ('current next player bid 1 bit', 4), ('current next player bid 2 bit', 4), ('current own bid 1', 4)]\n",
      "*****3*****\n",
      "positive\n",
      "[('resulting next player coins if fold 16', 19), ('current next player bid 1', 11), ('¬last player cards 3. bit 2', 8), ('own coins bit 1', 7), ('¬last player cards 3. bit 8', 7), ('¬current next player bid 1', 6), ('own coins bit 8', 6), ('last player cards 3. bit 8', 6), ('resulting next player coins if fold 1', 6), ('last player cards 3. bit 4', 5)]\n",
      "negative\n",
      "[('current next player bid 8 bit', 15), ('current next player bid 4', 9), ('current next player bid 4 bit', 9), ('¬self can bid bit', 9), ('current next player bid 1', 7), ('current own bid 1', 7), ('current next player bid 8', 6), ('own coins bit 16', 6), ('current next player bid 2', 5), ('resulting next player coins if fold 8', 5)]\n",
      "*****4*****\n",
      "positive\n",
      "[('resulting own coins if fold 16', 20), ('current next player bid 1', 17), ('own coins bit 8', 12), ('current next player bid 2', 10), ('resulting own coins if fold 4', 7), ('¬next turn order 8', 6), ('current next player bid 1 bit', 6), ('current own bid 1', 6), ('current next player bid 2 bit', 5), ('own coins bit 16', 5)]\n",
      "negative\n",
      "[('current next player bid 8', 16), ('current next player bid 8 bit', 15), ('current next player bid 4 bit', 11), ('current next player bid 4', 11), ('resulting next player coins if fold 8', 6), ('next player coins bit 16', 5), ('¬self can bid bit', 5), ('own coins bit 16', 5), ('current own bid 8', 4), ('last player coins bit 4', 3)]\n",
      "*****5*****\n",
      "positive\n",
      "[('current next player bid 4', 22), ('last player cards 3. bit 8', 15), ('current next player bid 4 bit', 11), ('resulting next player coins if fold 16', 11), ('¬next turn order 4', 10), ('current next player bid 2 bit', 8), ('¬next turn order 8', 7), ('current own bid 2', 6), ('¬next player coins bit 8', 6), ('resulting own coins if fold 16', 6)]\n",
      "negative\n",
      "[('current next player bid 8', 15), ('current next player bid 8 bit', 15), ('¬self can bid bit', 9), ('current own bid 4', 8), ('current next player bid 4 bit', 6), ('current next player bid 4', 6), ('current own bid 8', 6), ('current next player bid 2', 4), ('own cards 2. bit 4', 4), ('last player cards 2. bit 8', 3)]\n",
      "*****6*****\n",
      "positive\n",
      "[('current next player bid 4', 18), ('resulting next player coins if fold 8', 11), ('¬next turn order 8', 11), ('¬next turn order 4', 7), ('current next player bid 1', 6), ('own cards 3. bit 8', 5), ('resulting own coins if fold 1', 5), ('current next player bid 4 bit', 5), ('own cards 3. bit 4', 5), ('current next player bid 1 bit', 5)]\n",
      "negative\n",
      "[('current next player bid 8 bit', 17), ('¬self can bid bit', 16), ('current next player bid 2', 11), ('current next player bid 8', 11), ('current next player bid 4', 9), ('¬current next player bid 4', 6), ('¬own coins bit 2', 6), ('¬current next player bid 1 bit', 5), ('current next player bid 4 bit', 5), ('current next player bid 2 bit', 5)]\n",
      "*****7*****\n",
      "positive\n",
      "[('¬next turn order 4', 12), ('¬1. largest in stack', 9), ('own cards 3. bit 8', 8), ('next player cards 3. bit 4', 8), ('own cards 3. bit 4', 7), ('next player cards 3. bit 8', 7), ('own cards 3. bit 2', 6), ('last player cards 3. bit 8', 6), ('current own bid 16', 5), ('next player cards 3. bit 2', 5)]\n",
      "negative\n",
      "[('¬self can bid bit', 15), ('current next player bid 8 bit', 14), ('current own bid 8', 7), ('last player cards 3. bit 2', 7), ('current next player bid 8', 6), ('resulting card on fold 8', 5), ('resulting next player coins if fold 8', 5), ('¬own coins bit 8', 5), ('¬last player cards 3. bit 8', 4), ('own cards 1. bit 8', 4)]\n",
      "*****8*****\n",
      "positive\n",
      "[('own cards 3. bit 2', 9), ('own cards 3. bit 8', 8), ('current own bid 16', 8), ('¬next turn order 8', 7), ('next player cards 3. bit 2', 7), ('next player cards 3. bit 4', 7), ('own cards 3. bit 4', 6), ('next player cards 3. bit 8', 5), ('last player cards 3. bit 8', 5), ('¬next turn order 4', 5)]\n",
      "negative\n",
      "[('current next player bid 8 bit', 15), ('current next player bid 8', 11), ('¬self can bid bit', 7), ('¬own coins bit 8', 6), ('last player cards 3. bit 4', 5), ('resulting next player coins if fold 8', 4), ('own coins bit 1', 4), ('¬resulting next player coins if fold 1', 4), ('resulting card on fold 4', 4), ('resulting card on fold 8', 3)]\n",
      "*****9*****\n",
      "positive\n",
      "[('current next player bid 4', 14), ('current next player bid 8', 11), ('own coins bit 1', 10), ('resulting own coins if fold 16', 9), ('current next player bid 4 bit', 9), ('last player cards 2. bit 8', 9), ('¬next can bid bit', 8), ('resulting next player coins if fold 16', 8), ('resulting next player coins if fold 8', 7), ('¬current next player bid 1', 7)]\n",
      "negative\n",
      "[('current own bid 8', 13), ('current next player bid 8 bit', 13), ('current next player bid 8', 10), ('¬self can bid bit', 9), ('¬own coins bit 8', 9), ('resulting next player coins if fold 8', 8), ('resulting own coins if fold 4', 7), ('own coins bit 4', 7), ('¬resulting own coins if fold 8', 6), ('current next player bid 1 bit', 6)]\n",
      "*****10*****\n",
      "positive\n",
      "[('¬next can bid bit', 16), ('current next player bid 8', 15), ('resulting next player coins if fold 8', 9), ('current own bid 1', 8), ('last player coins bit 1', 7), ('next player coins bit 8', 7), ('¬next turn order 8', 7), ('next player coins bit 4', 7), ('last player coins bit 8', 6), ('resulting next player coins if fold 16', 6)]\n",
      "negative\n",
      "[('current own bid 8', 20), ('¬self can bid bit', 19), ('resulting next player coins if fold 16', 10), ('¬resulting own coins if fold 2', 6), ('current next player bid 8', 5), ('current next player bid 2', 5), ('resulting next player coins if fold 8', 5), ('¬current next player bid 1', 5), ('¬current next player bid 8', 4), ('resulting card on fold 4', 4)]\n",
      "*****11*****\n",
      "positive\n",
      "[('own cards 3. bit 8', 10), ('next player cards 3. bit 2', 8), ('own cards 3. bit 1', 8), ('current next player bid 2', 8), ('resulting own coins if fold 1', 6), ('current own bid 8', 6), ('current next player bid 8', 6), ('resulting next player coins if fold 8', 6), ('own cards 3. bit 2', 5), ('current own bid 1', 5)]\n",
      "negative\n",
      "[('¬self can bid bit', 18), ('current own bid 8', 15), ('resulting next player coins if fold 8', 10), ('current next player bid 4 bit', 8), ('current own bid 2', 7), ('resulting next player coins if fold 16', 6), ('resulting next player coins if fold 1', 5), ('next player coins bit 16', 5), ('¬last player cards 3. bit 2', 5), ('¬current next player bid 8', 4)]\n",
      "*****12*****\n",
      "positive\n",
      "[('current next player bid 2 bit', 13), ('current next player bid 8 bit', 9), ('resulting next player coins if fold 2', 8), ('current next player bid 1 bit', 8), ('current own bid 8', 7), ('next player cards 3. bit 1', 7), ('next player cards 3. bit 8', 7), ('own coins bit 1', 6), ('current next player bid 8', 6), ('¬next turn order 4', 6)]\n",
      "negative\n",
      "[('¬self can bid bit', 16), ('last player cards 3. bit 2', 8), ('current next player bid 4 bit', 7), ('resulting next player coins if fold 8', 6), ('last player cards 3. bit 4', 5), ('resulting card on fold 8', 5), ('current own bid 1', 5), ('¬current next player bid 1', 5), ('resulting own coins if fold 4', 5), ('¬resulting own coins if fold 8', 4)]\n",
      "*****13*****\n",
      "positive\n",
      "[('current next player bid 4 bit', 14), ('current own bid 2', 9), ('board_std', 8), ('current own bid 8', 7), ('current next player bid 8', 7), ('next player cards 3. bit 2', 6), ('next player cards 3. bit 4', 6), ('current own bid 16', 6), ('next player cards 3. bit 8', 6), ('¬next turn order 4', 6)]\n",
      "negative\n",
      "[('current own bid 4', 8), ('resulting next player coins if fold 8', 8), ('¬self can bid bit', 7), ('last player coins bit 8', 7), ('resulting card on fold 4', 5), ('resulting next player coins if fold 4', 5), ('last player cards 3. bit 4', 5), ('next player coins bit 4', 5), ('last player coins bit 4', 5), ('current next player bid 1 bit', 4)]\n",
      "*****14*****\n",
      "positive\n",
      "[('own cards 2. bit 8', 28), ('last player cards 3. bit 1', 8), ('last player cards 3. bit 4', 8), ('own coins bit 8', 6), ('¬1. largest in stack', 6), ('next player cards 3. bit 1', 6), ('next player cards 3. bit 4', 5), ('own cards 3. bit 8', 5), ('next player cards 3. bit 2', 4), ('¬next turn order 4', 4)]\n",
      "negative\n",
      "[('¬own coins bit 16', 10), ('last player cards 3. bit 4', 6), ('¬own coins bit 2', 5), ('¬self can bid bit', 5), ('resulting card on fold 4', 5), ('resulting next player coins if fold 16', 5), ('¬last player cards 3. bit 2', 5), ('¬5. largest in stack', 4), ('resulting card on fold 8', 4), ('¬last player cards 3. bit 8', 4)]\n",
      "*****15*****\n",
      "positive\n",
      "[('last player cards 3. bit 8', 13), ('¬next turn order 4', 10), ('¬next turn order 8', 7), ('next player cards 3. bit 2', 7), ('¬1. largest in stack', 7), ('own cards 3. bit 2', 6), ('next player cards 3. bit 1', 5), ('own cards 3. bit 4', 5), ('own cards 3. bit 1', 4), ('next player cards 3. bit 4', 4)]\n",
      "negative\n",
      "[('¬own coins bit 16', 11), ('last player cards 3. bit 4', 7), ('last player coins bit 8', 6), ('last player cards 3. bit 1', 6), ('own cards 1. bit 1', 5), ('¬own coins bit 2', 5), ('¬last player cards 3. bit 2', 5), ('resulting card on fold 8', 5), ('resulting card on fold 1', 4), ('last player can bid', 4)]\n",
      "*****16*****\n",
      "positive\n",
      "[('¬next turn order 8', 9), ('own cards 3. bit 8', 8), ('own cards 3. bit 1', 8), ('next player cards 3. bit 1', 6), ('current next player bid 4', 6), ('own cards 3. bit 2', 6), ('¬1. largest in stack', 6), ('current next player bid 4 bit', 5), ('¬next can bid bit', 5), ('current own bid 4', 5)]\n",
      "negative\n",
      "[('¬own coins bit 16', 16), ('last player cards 3. bit 4', 7), ('¬resulting card on fold 2', 6), ('last player cards 3. bit 1', 6), ('resulting next player coins if fold 1', 5), ('resulting card on fold 1', 4), ('last player cards 3. bit 2', 4), ('own coins bit 8', 4), ('resulting next player coins if fold 2', 4), ('¬last player cards 3. bit 8', 4)]\n",
      "*****17*****\n",
      "positive\n",
      "[('next player cards 3. bit 4', 8), ('next player cards 3. bit 8', 8), ('last player cards 3. bit 1', 7), ('last player cards 3. bit 8', 6), ('last player cards 3. bit 2', 5), ('last player cards 3. bit 4', 4), ('¬1. largest in stack', 4), ('current own bid 4', 4), ('own cards 3. bit 1', 4), ('¬next turn order 8', 4)]\n",
      "negative\n",
      "[('¬own coins bit 16', 11), ('resulting card on fold 1', 8), ('¬last player cards 3. bit 2', 7), ('resulting card on fold 4', 7), ('last player cards 3. bit 4', 6), ('last player cards 3. bit 2', 6), ('resulting card on fold 2', 5), ('resulting next player coins if fold 16', 5), ('last player cards 3. bit 1', 5), ('last player cards 1. bit 8', 4)]\n",
      "*****18*****\n",
      "positive\n",
      "[('own cards 2. bit 8', 8), ('¬last player cards 3. bit 1', 8), ('own cards 2. bit 1', 7), ('next player cards 2. bit 8', 7), ('¬3. largest in stack', 6), ('last player cards 3. bit 1', 6), ('current next player bid 16 bit', 6), ('¬resulting card on fold 2', 5), ('¬1. largest in stack', 5), ('¬resulting card on fold 1', 5)]\n",
      "negative\n",
      "[('last player cards 3. bit 4', 9), ('¬resulting card on fold 1', 7), ('¬resulting next player coins if fold 8', 6), ('last player cards 3. bit 1', 6), ('¬8. largest in stack', 6), ('resulting card on fold 4', 5), ('¬last player cards 1. bit 2', 5), ('¬own coins bit 16', 5), ('¬resulting card on fold 2', 5), ('¬board_std', 4)]\n"
     ]
    }
   ],
   "source": [
    "prev1 = 0\n",
    "prev2 = 0\n",
    "for k, v in analyzed.items():\n",
    "    print(\"*\"*5 + f\"{k}\" + \"*\"*5)\n",
    "    print(\"positive\")\n",
    "    print(v[\"positive\"].most_common(10))\n",
    "    print(\"negative\")\n",
    "    print(v[\"negative\"].most_common(10))  \n",
    "    "
   ]
  },
  {
   "cell_type": "code",
   "execution_count": 21,
   "id": "04249c7b-46a3-4c6c-bdbd-00488312d301",
   "metadata": {},
   "outputs": [
    {
     "data": {
      "text/plain": [
       "(126, 3800)"
      ]
     },
     "execution_count": 21,
     "metadata": {},
     "output_type": "execute_result"
    }
   ],
   "source": [
    "# gives out a list of vectores of length number of features where each vector is number_of_classes * n_clauses_per_class long\n",
    "tm.transform(x_test[0]).shape"
   ]
  },
  {
   "cell_type": "code",
   "execution_count": 22,
   "id": "23b3e0f8-2a66-46ad-94a6-e3b67763fcb9",
   "metadata": {},
   "outputs": [
    {
     "data": {
      "text/plain": [
       "3800"
      ]
     },
     "execution_count": 22,
     "metadata": {},
     "output_type": "execute_result"
    }
   ],
   "source": [
    "tm.number_of_classes * n_clauses_per_class\n"
   ]
  },
  {
   "cell_type": "code",
   "execution_count": 74,
   "id": "63cc7dc6-0ca9-4e6c-8fa2-8718f35e21b4",
   "metadata": {},
   "outputs": [
    {
     "data": {
      "text/plain": [
       "array([ 12,  13,  31,   5,  30,   4,   6,   4,  13,   1,  63,   5,  23,\n",
       "         5,  19,   5,  12,  12,  12,  17,  11,  12,  26,  24,  20,  14,\n",
       "         8,  20,  10,  42,  16,  16,  15,   4,  16,  27,  61,  18,  29,\n",
       "         1,   4,   4,  18,  13,  24,  22,   5,  12,  16,  21,  13,  16,\n",
       "         6,   7,  18,  15,  11,  33,  15,   6,  26,  29,  27,   1,  51,\n",
       "        13,   5,  29,  35,  24,  20,  19,  14,  14,  29,  36,  11,   7,\n",
       "        38,   4,  51,  34,   5,  28,  15,  27,  19,   3,  30,  94,   6,\n",
       "        36,  18,  56,  33,   8,  23,  23,  17,   6,   8,   1,  16,  28,\n",
       "        39,   9,  27,  10,  14,  17,   7, 100,  15,   4,  22,  12,  15,\n",
       "         1,  16,  15,  51,  22,   5,   4,   6,  12,   3,  39,  23,   2,\n",
       "        10,  33,   9,   3,  10,  16,   7,   3,   5,   4,  10,   4,  16,\n",
       "        19,  12,  23,  27,   8,  17,  24,  21,   6,  26,   2,  27,  45,\n",
       "        36,  18,   3,  17,   6,   1,  19,   1,  20,  25,   7,   1,  34,\n",
       "        17,  25,   1,   6,  85,  18,   7,   5,  15,  16,  18,   6,   9,\n",
       "        16,  26,  15,  32,   8,   1, 111, 121,  27,  38,   1,  18,   6,\n",
       "        40,   3,  17,  38,  16], dtype=uint32)"
      ]
     },
     "execution_count": 74,
     "metadata": {},
     "output_type": "execute_result"
    }
   ],
   "source": [
    "# needs to be 2d array in transform/predict\n",
    "xn = x_test[0].reshape(1, -1)\n",
    "cn = tm.transform(xn)\n",
    "# tm.predict(x_test[0].reshape(1, -1))\n",
    "# xn.shape\n",
    "weight0 = tm.get_state()[0][0]\n",
    "cn[0, 0:200].sum()\n",
    "weight0 * cn[0,0:200]\n",
    "weight0"
   ]
  },
  {
   "cell_type": "code",
   "execution_count": 109,
   "id": "04ebfbd0-6f58-4f47-876f-b90a730ecc4d",
   "metadata": {},
   "outputs": [
    {
     "data": {
      "text/plain": [
       "array([ 12,  13,  31,   5,  30,   4,   6,   4,  13,   1,  63,   5,  23,\n",
       "         5,  19,   5,  12,  12,  12,  17,  11,  12,  26,  24,  20,  14,\n",
       "         8,  20,  10,  42,  16,  16,  15,   4,  16,  27,  61,  18,  29,\n",
       "         1,   4,   4,  18,  13,  24,  22,   5,  12,  16,  21,  13,  16,\n",
       "         6,   7,  18,  15,  11,  33,  15,   6,  26,  29,  27,   1,  51,\n",
       "        13,   5,  29,  35,  24,  20,  19,  14,  14,  29,  36,  11,   7,\n",
       "        38,   4,  51,  34,   5,  28,  15,  27,  19,   3,  30,  94,   6,\n",
       "        36,  18,  56,  33,   8,  23,  23,  17,   6,   8,   1,  16,  28,\n",
       "        39,   9,  27,  10,  14,  17,   7, 100,  15,   4,  22,  12,  15,\n",
       "         1,  16,  15,  51,  22,   5,   4,   6,  12,   3,  39,  23,   2,\n",
       "        10,  33,   9,   3,  10,  16,   7,   3,   5,   4,  10,   4,  16,\n",
       "        19,  12,  23,  27,   8,  17,  24,  21,   6,  26,   2,  27,  45,\n",
       "        36,  18,   3,  17,   6,   1,  19,   1,  20,  25,   7,   1,  34,\n",
       "        17,  25,   1,   6,  85,  18,   7,   5,  15,  16,  18,   6,   9,\n",
       "        16,  26,  15,  32,   8,   1, 111, 121,  27,  38,   1,  18,   6,\n",
       "        40,   3,  17,  38,  16], dtype=uint32)"
      ]
     },
     "execution_count": 109,
     "metadata": {},
     "output_type": "execute_result"
    }
   ],
   "source": [
    "tm.get_state()[0][0]\n",
    "# cn"
   ]
  },
  {
   "cell_type": "code",
   "execution_count": 126,
   "id": "0eeb4ed9-b3b8-4f0c-8c51-06a9a874fa7e",
   "metadata": {},
   "outputs": [
    {
     "name": "stdout",
     "output_type": "stream",
     "text": [
      "(3800,)\n",
      "(3800,)\n",
      "(200,)\n",
      "(200,)\n",
      "(200,)\n",
      "(200,)\n",
      "(200,)\n",
      "(200,)\n",
      "(200,)\n",
      "(200,)\n",
      "(200,)\n",
      "(200,)\n",
      "(200,)\n",
      "(200,)\n",
      "(200,)\n",
      "(200,)\n",
      "(200,)\n",
      "(200,)\n",
      "(200,)\n",
      "(200,)\n",
      "(200,)\n",
      "[-179.0, 836.0, -913.0, 18.0, -67.0, 381.0, -239.0, -695.0, -834.0, 199.0, -417.0, -392.0, -616.0, -669.0, -1190.0, -1156.0, -892.0, -1083.0, -695.0]\n",
      "(1, 126)\n"
     ]
    },
    {
     "data": {
      "text/plain": [
       "array([0], dtype=uint32)"
      ]
     },
     "execution_count": 126,
     "metadata": {},
     "output_type": "execute_result"
    }
   ],
   "source": [
    "def bent_predict(x, tm):\n",
    "    \"\"\"\n",
    "    tsetlin machine works by majority vote, each clause votes either positive for a class or a negative for a class\n",
    "    The class with the highest vote clause vote is chosen.\n",
    "    \"\"\"\n",
    "    \n",
    "    n_clauses_per_class = tm.number_of_clauses\n",
    "    classes = tm.number_of_classes\n",
    "    # print(classes)\n",
    "    # print(tm.get_state()[classes+1][0])\n",
    "    signs = np.ones(n_clauses_per_class * classes)\n",
    "    a = range(1, signs.shape[0], 2)\n",
    "    signs[a] = -1\n",
    "    print(signs.shape)\n",
    "    cn = tm.transform(x)\n",
    "    sig_cn = (cn * signs)[0]\n",
    "    print(sig_cn.shape)\n",
    "    # sig_cn.tolist()\n",
    "    \n",
    "    # weight*signs*cn\n",
    "    class_vote = []\n",
    "    for clas in range(classes):\n",
    "        weight = tm.get_state()[clas][0]\n",
    "        print(weight.shape)\n",
    "        starting_clause = clas * n_clauses_per_class\n",
    "        ending_clause = starting_clause + n_clauses_per_class\n",
    "        weighted_sig_cn = sig_cn[starting_clause: ending_clause]*weight\n",
    "        # weighted_sig_cn = sig_cn[starting_clause: ending_clause]\n",
    "        \n",
    "        \n",
    "        class_vote.append((weighted_sig_cn.sum()))\n",
    "        # print(clas * n_clauses_per_class, clas * n_clauses_per_class + n_clauses_per_class)\n",
    "    return class_vote\n",
    "\n",
    "print(bent_predict(xn, tm))\n",
    "\n",
    "print(xn.shape)\n",
    "tm.predict(xn)\n",
    "# cn.shape"
   ]
  }
 ],
 "metadata": {
  "kernelspec": {
   "display_name": "Python 3 (ipykernel)",
   "language": "python",
   "name": "python3"
  },
  "language_info": {
   "codemirror_mode": {
    "name": "ipython",
    "version": 3
   },
   "file_extension": ".py",
   "mimetype": "text/x-python",
   "name": "python",
   "nbconvert_exporter": "python",
   "pygments_lexer": "ipython3",
   "version": "3.8.12"
  }
 },
 "nbformat": 4,
 "nbformat_minor": 5
}
