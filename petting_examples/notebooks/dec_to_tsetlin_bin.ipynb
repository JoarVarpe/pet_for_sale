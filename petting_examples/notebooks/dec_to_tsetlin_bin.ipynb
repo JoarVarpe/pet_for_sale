{
 "cells": [
  {
   "cell_type": "code",
   "execution_count": 7,
   "id": "3ed9ba52-f4dc-4eab-aee9-10329325dce1",
   "metadata": {},
   "outputs": [],
   "source": [
    "from for_sale_env_r1.fs_first_round import env as fs_env\n",
    "import numpy as np"
   ]
  },
  {
   "cell_type": "code",
   "execution_count": 26,
   "id": "0f64dc68-03a9-4f56-9a7b-cf7f0347746e",
   "metadata": {},
   "outputs": [
    {
     "name": "stdout",
     "output_type": "stream",
     "text": [
      "42\n",
      "[18.         0.         0.         0.         1.         0.\n",
      " 18.         5.         3.        18.         0.         0.\n",
      "  0.         1.         0.        18.         7.         2.\n",
      " 18.         0.         0.         0.         1.         0.\n",
      " 18.         8.         1.        11.        10.         9.\n",
      "  8.         7.         6.         5.         4.         3.\n",
      "  2.         1.         8.         7.         5.         1.2472191]\n",
      "\n",
      "highest bid:  {'agent': 'player_2', 'value': 0}\n",
      "current bids by each player\n",
      "made by player:  1\n",
      "current agents in game:  deque(['player_0', 'player_1', 'player_2'])\n",
      "The agent to move:  player_0\n",
      "board:  [8, 7, 5]\n",
      "stack:  [11, 10, 9, 8, 7, 6, 5, 4, 3, 2, 1]\n",
      "coins: {'player_0': 18, 'player_1': 18, 'player_2': 18}\n",
      "cards: {'player_0': [], 'player_1': [], 'player_2': []}\n",
      "\n"
     ]
    }
   ],
   "source": [
    "env = fs_env()\n",
    "env.reset()\n",
    "observation, reward, done, info = env.last()\n",
    "print(len(observation[\"observation\"]))\n",
    "print(observation[\"observation\"])\n",
    "env.render()"
   ]
  },
  {
   "cell_type": "code",
   "execution_count": 93,
   "id": "17398892-56dd-4603-b68c-479dc18f5266",
   "metadata": {},
   "outputs": [
    {
     "data": {
      "text/plain": [
       "126"
      ]
     },
     "execution_count": 93,
     "metadata": {},
     "output_type": "execute_result"
    }
   ],
   "source": [
    "(np.std([1,11]) - np.std([1])) / 2\n",
    "sum([5, 4, 4, 4, 1, 5, 5, 4, 2]) * 3 + 11 + 4 + 4 + 4 + 1"
   ]
  },
  {
   "cell_type": "code",
   "execution_count": 87,
   "id": "fb0816ee-8320-4095-9bdf-ad8eb7a0063e",
   "metadata": {},
   "outputs": [
    {
     "name": "stdout",
     "output_type": "stream",
     "text": [
      "0b1011\n",
      "42\n"
     ]
    },
    {
     "data": {
      "text/plain": [
       "'00011'"
      ]
     },
     "execution_count": 87,
     "metadata": {},
     "output_type": "execute_result"
    }
   ],
   "source": [
    "# 3 player round played with 9 + 2 possible cards\n",
    "# the standard deviation decides the final bit\n",
    "# counting the total amount of bits needed for representation decides if onehot or binary representation, less is best\n",
    "curr_obs = observation[\"observation\"]\n",
    "np.array(list(bin(int(curr_obs[0]))[2:]), dtype=\"float32\")\n",
    "print(bin(11))\n",
    "print(len(curr_obs))\n",
    "\"{0:05b}\".format(3)\n",
    "\n",
    "# list('0001100')"
   ]
  },
  {
   "cell_type": "code",
   "execution_count": 90,
   "id": "e40a9913-7cff-40a1-a9b2-294d2521437d",
   "metadata": {},
   "outputs": [
    {
     "data": {
      "text/plain": [
       "array([1., 0., 0., 1., 0., 0., 0., 0., 0., 0., 0., 0., 0., 0., 0., 0., 0.,\n",
       "       1., 0., 0., 0., 0., 0., 1., 0., 0., 1., 0., 0., 1., 0., 1., 1., 1.,\n",
       "       1., 0., 0., 1., 0., 0., 0., 0., 0., 0., 0., 0., 0., 0., 0., 0., 0.,\n",
       "       1., 0., 0., 0., 0., 0., 1., 0., 0., 1., 0., 0., 1., 1., 1., 1., 0.,\n",
       "       1., 0., 0., 1., 0., 0., 0., 0., 0., 0., 0., 0., 0., 0., 0., 0., 0.,\n",
       "       1., 0., 0., 0., 0., 0., 1., 0., 0., 1., 0., 1., 0., 0., 0., 0., 1.,\n",
       "       1., 0., 0., 0., 0., 1., 1., 1., 0., 1., 0., 1., 0., 1., 1., 1., 1.,\n",
       "       1., 1., 1., 1., 1., 1., 1.], dtype=float32)"
      ]
     },
     "execution_count": 90,
     "metadata": {},
     "output_type": "execute_result"
    }
   ],
   "source": [
    "def convert_3_rounds_fs1_obs_to_bin_obs(obs):\n",
    "    stack_len = 11\n",
    "    rounds = 3\n",
    "    \n",
    "    coin_numbers = [0, 5, 6, 9, 14, 15, 18, 23, 24]\n",
    "    board_card_numbers = [1,2,3,7,10,11,12,16,19,20,21,25,38,39,40]\n",
    "    can_bet_numbers = [4,13,22]\n",
    "    order_numbers = [8,17,26]\n",
    "    std_number = 41\n",
    "    bin_rep = []\n",
    "    onehot_of_stack = []\n",
    "    for i, num in enumerate(obs):\n",
    "        if i in coin_numbers:\n",
    "            bin_rep.extend(list(\"{0:05b}\".format(int(num))))\n",
    "        elif i in board_card_numbers:\n",
    "            bin_rep.extend(list(\"{0:04b}\".format(int(num))))\n",
    "        elif i in can_bet_numbers:\n",
    "            bin_rep.append(int(num))\n",
    "        elif i in order_numbers:\n",
    "            bin_rep.extend(list(\"{0:02b}\".format(int(num))))\n",
    "        elif i == std_number:\n",
    "            if num > (np.std([1,11]) - np.std([1])) / 2:\n",
    "                bin_rep.append(1)\n",
    "            else:\n",
    "                bin_rep.append(0)\n",
    "        else:\n",
    "            onehot = np.zeros(stack_len, dtype=\"float32\")\n",
    "            onehot[1-int(num)] = 1\n",
    "            onehot_of_stack.append(onehot)\n",
    "            \n",
    "    bin_rep.extend(sum(onehot_of_stack))\n",
    "    bin_rep = np.hstack(bin_rep)\n",
    "    return bin_rep.astype(np.float32)\n",
    "            \n",
    "convert_3_rounds_fs1_obs_to_bin_obs(curr_obs)"
   ]
  }
 ],
 "metadata": {
  "kernelspec": {
   "display_name": "Python 3 (ipykernel)",
   "language": "python",
   "name": "python3"
  },
  "language_info": {
   "codemirror_mode": {
    "name": "ipython",
    "version": 3
   },
   "file_extension": ".py",
   "mimetype": "text/x-python",
   "name": "python",
   "nbconvert_exporter": "python",
   "pygments_lexer": "ipython3",
   "version": "3.8.12"
  }
 },
 "nbformat": 4,
 "nbformat_minor": 5
}
