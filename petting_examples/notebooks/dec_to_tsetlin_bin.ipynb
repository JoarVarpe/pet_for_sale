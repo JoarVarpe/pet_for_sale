{
 "cells": [
  {
   "cell_type": "code",
   "execution_count": 1,
   "id": "3ed9ba52-f4dc-4eab-aee9-10329325dce1",
   "metadata": {},
   "outputs": [
    {
     "name": "stderr",
     "output_type": "stream",
     "text": [
      "\n"
     ]
    }
   ],
   "source": [
    "from for_sale_env_r1.fs_first_round import env as fs_env\n",
    "import numpy as np"
   ]
  },
  {
   "cell_type": "code",
   "execution_count": 2,
   "id": "0f64dc68-03a9-4f56-9a7b-cf7f0347746e",
   "metadata": {},
   "outputs": [
    {
     "name": "stdout",
     "output_type": "stream",
     "text": [
      "42\n",
      "[13.         8.         0.         0.         1.         0.\n",
      " 13.         1.         3.        18.         4.         0.\n",
      "  0.         1.         0.        18.         3.         2.\n",
      " 18.         6.         0.         0.         1.         0.\n",
      " 18.         9.         1.        11.        10.         9.\n",
      "  7.         5.         3.         2.         1.         0.\n",
      "  0.         0.         9.         3.         1.         3.3993464]\n",
      "\n",
      "highest bid:  {'agent': 'player_2', 'value': 0}\n",
      "current bids by each player\n",
      "made by player:  1\n",
      "current agents in game:  deque(['player_0', 'player_1', 'player_2'])\n",
      "The agent to move:  player_0\n",
      "board:  [9, 3, 1]\n",
      "stack:  [11, 10, 9, 7, 5, 3, 2, 1, 0, 0, 0]\n",
      "coins: {'player_0': 13, 'player_1': 18, 'player_2': 18}\n",
      "cards: {'player_0': [8], 'player_1': [4], 'player_2': [6]}\n",
      "\n"
     ]
    }
   ],
   "source": [
    "env = fs_env()\n",
    "env.reset()\n",
    "for i, agent in enumerate(env.agent_iter()):\n",
    "    observation, reward, done, info = env.last()\n",
    "    if i == 0:\n",
    "        action = 5\n",
    "        env.step(action)\n",
    "    elif i == 3:\n",
    "        break\n",
    "    else:\n",
    "        env.step(0)\n",
    "    \n",
    "    \n",
    "print(len(observation[\"observation\"]))\n",
    "print(observation[\"observation\"])\n",
    "env.render()"
   ]
  },
  {
   "cell_type": "code",
   "execution_count": 93,
   "id": "17398892-56dd-4603-b68c-479dc18f5266",
   "metadata": {},
   "outputs": [
    {
     "data": {
      "text/plain": [
       "126"
      ]
     },
     "execution_count": 93,
     "metadata": {},
     "output_type": "execute_result"
    }
   ],
   "source": [
    "(np.std([1,11]) - np.std([1])) / 2\n",
    "sum([5, 4, 4, 4, 1, 5, 5, 4, 2]) * 3 + 11 + 4 + 4 + 4 + 1"
   ]
  },
  {
   "cell_type": "code",
   "execution_count": null,
   "id": "4bd19351-dab4-40f9-ab04-a724acbfeb46",
   "metadata": {},
   "outputs": [],
   "source": []
  },
  {
   "cell_type": "code",
   "execution_count": 4,
   "id": "fb0816ee-8320-4095-9bdf-ad8eb7a0063e",
   "metadata": {},
   "outputs": [
    {
     "name": "stdout",
     "output_type": "stream",
     "text": [
      "0b1011\n",
      "42\n"
     ]
    },
    {
     "data": {
      "text/plain": [
       "'00011'"
      ]
     },
     "execution_count": 4,
     "metadata": {},
     "output_type": "execute_result"
    }
   ],
   "source": [
    "# 3 player round played with 9 + 2 possible cards\n",
    "# the standard deviation decides the final bit\n",
    "# counting the total amount of bits needed for representation decides if onehot or binary representation, less is best\n",
    "curr_obs = observation[\"observation\"]\n",
    "np.array(list(bin(int(curr_obs[0]))[2:]), dtype=\"float32\")\n",
    "print(bin(11))\n",
    "print(len(curr_obs))\n",
    "\"{0:05b}\".format(3)\n",
    "\n",
    "# list('0001100')"
   ]
  },
  {
   "cell_type": "code",
   "execution_count": 98,
   "id": "e40a9913-7cff-40a1-a9b2-294d2521437d",
   "metadata": {},
   "outputs": [
    {
     "data": {
      "text/plain": [
       "(126,)"
      ]
     },
     "execution_count": 98,
     "metadata": {},
     "output_type": "execute_result"
    }
   ],
   "source": [
    "def convert_3_rounds_fs1_obs_to_bin_obs(obs):\n",
    "    stack_len = 11\n",
    "    rounds = 3\n",
    "    \n",
    "    coin_numbers = [0, 5, 6, 9, 14, 15, 18, 23, 24]\n",
    "    board_card_numbers = [1,2,3,7,10,11,12,16,19,20,21,25,38,39,40]\n",
    "    can_bet_numbers = [4,13,22]\n",
    "    order_numbers = [8,17,26]\n",
    "    std_number = 41\n",
    "    bin_rep = []\n",
    "    onehot_of_stack = []\n",
    "    for i, num in enumerate(obs):\n",
    "        if i in coin_numbers:\n",
    "            bin_rep.extend(list(\"{0:05b}\".format(int(num))))\n",
    "        elif i in board_card_numbers:\n",
    "            bin_rep.extend(list(\"{0:04b}\".format(int(num))))\n",
    "        elif i in can_bet_numbers:\n",
    "            bin_rep.append(int(num))\n",
    "        elif i in order_numbers:\n",
    "            bin_rep.extend(list(\"{0:02b}\".format(int(num))))\n",
    "        elif i == std_number:\n",
    "            if num > (np.std([1,11]) - np.std([1])) / 2:\n",
    "                bin_rep.append(1)\n",
    "            else:\n",
    "                bin_rep.append(0)\n",
    "        else:\n",
    "            onehot = np.zeros(stack_len, dtype=\"float32\")\n",
    "            if int(num) != 0:\n",
    "                onehot[1-int(num)] = 1\n",
    "            onehot_of_stack.append(onehot)\n",
    "            \n",
    "    bin_rep.extend(sum(onehot_of_stack))\n",
    "    bin_rep = np.hstack(bin_rep)\n",
    "    return bin_rep.astype(np.float32)\n",
    "            \n",
    "    \n",
    "def convert_3_rounds_fs1_obs_to_bin_obs(obs):\n",
    "    # this one works\n",
    "    stack_len = 11\n",
    "    rounds = 3\n",
    "    \n",
    "    coin_numbers = [0, 5, 6, 9, 14, 15, 18, 23, 24]\n",
    "    board_card_numbers = [1,2,3,7,10,11,12,16,19,20,21,25,38,39,40]\n",
    "    can_bet_numbers = [4,13,22]\n",
    "    order_numbers = [8,17,26]\n",
    "    std_number = 41\n",
    "    last_stack_nr = 37\n",
    "    bin_rep = []\n",
    "    onehot_of_stack = np.zeros(stack_len, dtype=\"float32\")\n",
    "    for i, num in enumerate(obs):\n",
    "        if i in coin_numbers:\n",
    "            bin_rep.extend(list(\"{0:05b}\".format(int(num))))\n",
    "        elif i in board_card_numbers:\n",
    "            bin_rep.extend(list(\"{0:04b}\".format(int(num))))\n",
    "        elif i in can_bet_numbers:\n",
    "            bin_rep.append(int(num))\n",
    "        elif i in order_numbers:\n",
    "            bin_rep.extend(list(\"{0:02b}\".format(int(num))))\n",
    "        elif i == std_number:\n",
    "            if num > (np.std([1,11]) - np.std([1])) / 2:\n",
    "                bin_rep.append(1)\n",
    "            else:\n",
    "                bin_rep.append(0)\n",
    "            \n",
    "        else:\n",
    "            if i == last_stack_nr:\n",
    "                # print(int(num))\n",
    "                if int(num) != 0:\n",
    "                    onehot_of_stack[-int(num)] = 1\n",
    "                    bin_rep.extend(list(onehot_of_stack))\n",
    "                    # print(onehot_of_stack)\n",
    "                    # print(\"WOW\")\n",
    "                else:\n",
    "                    onehot_of_stack[-int(num)] = 1\n",
    "                    bin_rep.extend(list(onehot_of_stack))\n",
    "                    \n",
    "            else:\n",
    "                # print(int(num))\n",
    "                if int(num) != 0:\n",
    "                    onehot_of_stack[-int(num)] = 1\n",
    "            \n",
    "    bin_rep = np.hstack(bin_rep)\n",
    "    return bin_rep.astype(np.float32)\n",
    "\n",
    "convert_3_rounds_fs1_obs_to_bin_obs(curr_obs).shape"
   ]
  },
  {
   "cell_type": "code",
   "execution_count": 104,
   "id": "2470d866-7fac-43f8-9fcb-06401733cffd",
   "metadata": {},
   "outputs": [
    {
     "name": "stdout",
     "output_type": "stream",
     "text": [
      "[13.         8.         0.         0.         1.         0.\n",
      " 13.         1.         3.        18.         4.         0.\n",
      "  0.         1.         0.        18.         3.         2.\n",
      " 18.         6.         0.         0.         1.         0.\n",
      " 18.         9.         1.        11.        10.         9.\n",
      "  7.         5.         3.         2.         1.         0.\n",
      "  0.         0.         9.         3.         1.         3.3993464]\n",
      "42\n",
      "[0. 1. 1. 0. 1. 1. 0. 0. 0. 0. 0. 0. 0. 0. 0. 0. 0. 1. 0. 0. 0. 0. 0. 0.\n",
      " 1. 1. 0. 1. 0. 0. 0. 1. 1. 1. 1. 0. 0. 1. 0. 0. 1. 0. 0. 0. 0. 0. 0. 0.\n",
      " 0. 0. 0. 1. 0. 0. 0. 0. 0. 1. 0. 0. 1. 0. 0. 0. 1. 1. 1. 0. 1. 0. 0. 1.\n",
      " 0. 0. 1. 1. 0. 0. 0. 0. 0. 0. 0. 0. 0. 1. 0. 0. 0. 0. 0. 1. 0. 0. 1. 0.\n",
      " 1. 0. 0. 1. 0. 1. 1. 1. 1. 0. 1. 0. 1. 0. 1. 1. 1. 1. 0. 0. 1. 0. 0. 1.\n",
      " 1. 0. 0. 0. 1. 1.]\n",
      "ret obs are here:\n",
      "[13.         8.         0.         0.         1.         0.\n",
      " 13.         1.         3.        18.         4.         0.\n",
      "  0.         1.         0.        18.         3.         2.\n",
      " 18.         6.         0.         0.         1.         0.\n",
      " 18.         9.         1.        11.        10.         9.\n",
      "  7.         5.         3.         2.         1.         0.\n",
      "  0.         0.         9.         3.         1.         3.3993464]\n"
     ]
    },
    {
     "data": {
      "text/plain": [
       "array([ True,  True,  True,  True,  True,  True,  True,  True,  True,\n",
       "        True,  True,  True,  True,  True,  True,  True,  True,  True,\n",
       "        True,  True,  True,  True,  True,  True,  True,  True,  True,\n",
       "        True,  True,  True,  True,  True,  True,  True,  True,  True,\n",
       "        True,  True,  True,  True,  True,  True])"
      ]
     },
     "execution_count": 104,
     "metadata": {},
     "output_type": "execute_result"
    }
   ],
   "source": [
    "print(curr_obs)\n",
    "print(len(curr_obs))\n",
    "\n",
    "bin_obs = convert_3_rounds_fs1_obs_to_bin_obs(curr_obs)\n",
    "print(bin_obs)\n",
    "def bin_numpy_to_number(bin_array):\n",
    "    bin_str = \"\"\n",
    "    if type(bin_array) == np.float32:\n",
    "        bin_str += str(int(bin_array))        \n",
    "    else:\n",
    "        for digit in bin_array:\n",
    "            bin_str += str(int(digit))\n",
    "    dec_num = int(bin_str, base=2)\n",
    "    return dec_num\n",
    "\n",
    "def reverse_onehot(target, stack_len):\n",
    "    stack = np.zeros(stack_len)\n",
    "    actives = np.argwhere(target == 1)\n",
    "    for i, act in enumerate(actives):\n",
    "        stack[i] = stack_len - act\n",
    "    return stack\n",
    "\n",
    "    \n",
    "def convert_3_rounds_fs1_bin_obs_to_obs(obs):\n",
    "    stack_len = 11\n",
    "    new_obs = np.zeros(42)\n",
    "    new_obs[0] = bin_numpy_to_number(obs[0:5])\n",
    "    new_obs[1] = bin_numpy_to_number(obs[5:9])\n",
    "    new_obs[2] = bin_numpy_to_number(obs[9:13])\n",
    "    new_obs[3] = bin_numpy_to_number(obs[13:17])\n",
    "    new_obs[4] = bin_numpy_to_number(obs[17])\n",
    "    new_obs[5] = bin_numpy_to_number(obs[18:23])\n",
    "    new_obs[6] = bin_numpy_to_number(obs[23:28])\n",
    "    new_obs[7] = bin_numpy_to_number(obs[28:32])\n",
    "    new_obs[8] = bin_numpy_to_number(obs[32:34])\n",
    "    new_obs[9] = bin_numpy_to_number(obs[34:39])\n",
    "    new_obs[10] = bin_numpy_to_number(obs[39:43])\n",
    "    new_obs[11] = bin_numpy_to_number(obs[43:47])\n",
    "    new_obs[12] = bin_numpy_to_number(obs[47:51])\n",
    "    new_obs[13] = bin_numpy_to_number(obs[51])\n",
    "    new_obs[14] = bin_numpy_to_number(obs[52:57])\n",
    "    new_obs[15] = bin_numpy_to_number(obs[57:62])\n",
    "    new_obs[16] = bin_numpy_to_number(obs[62:66])\n",
    "    new_obs[17] = bin_numpy_to_number(obs[66:68])\n",
    "    new_obs[18] = bin_numpy_to_number(obs[68:73])\n",
    "    new_obs[19] = bin_numpy_to_number(obs[73:77])\n",
    "    new_obs[20] = bin_numpy_to_number(obs[77:81])\n",
    "    new_obs[21] = bin_numpy_to_number(obs[81:85])\n",
    "    new_obs[22] = bin_numpy_to_number(obs[85])\n",
    "    new_obs[23] = bin_numpy_to_number(obs[86:91])\n",
    "    new_obs[24] = bin_numpy_to_number(obs[91:96])\n",
    "    new_obs[25] = bin_numpy_to_number(obs[96:100])\n",
    "    new_obs[26] = bin_numpy_to_number(obs[100:102])\n",
    "    new_obs[27:38] = reverse_onehot(obs[102:113], stack_len)\n",
    "    new_obs[38] = bin_numpy_to_number(obs[113:117])\n",
    "    new_obs[39] = bin_numpy_to_number(obs[117:121])\n",
    "    new_obs[40] = bin_numpy_to_number(obs[121:125])\n",
    "    new_obs[41] = np.std(new_obs[38:41])\n",
    "    \n",
    "    return np.array(new_obs, dtype=\"float32\")\n",
    "\n",
    "ret_obs = convert_3_rounds_fs1_bin_obs_to_obs(bin_obs)\n",
    "print(\"ret obs are here:\")\n",
    "print(ret_obs)\n",
    "curr_obs == ret_obs"
   ]
  },
  {
   "cell_type": "code",
   "execution_count": 118,
   "id": "81ff8506-af49-4b74-9903-d62abc13321c",
   "metadata": {},
   "outputs": [
    {
     "name": "stdout",
     "output_type": "stream",
     "text": [
      "Player to move coins: 13\n",
      "Player to move cards: [8 0 0]\n",
      "Player to move can bid: True\n",
      "Player to move current bid: 0\n",
      "Player to move coins on fold: 13\n",
      "Player to move achieved card on fold: 1\n",
      "Player to move moving order if all folds now: 3\n",
      "Next player coins: 18\n",
      "Next player cards: [4 0 0]\n",
      "Next player can bid: True\n",
      "Next player current bid: 0\n",
      "Next player coins on fold: 18\n",
      "Next player achieved card on fold: 3\n",
      "Next player moving order if all folds now: 2\n",
      "Final player coins: 18\n",
      "Final player cards: [6 0 0]\n",
      "Final player can bid: True\n",
      "Final player current bid: 0\n",
      "Final player coins on fold: 18\n",
      "Final player card on fold: 9\n",
      "Final player moving order if all folds now: 1\n",
      "Current stack: [11 10  9  7  5  3  2  1  0  0  0]\n",
      "Current board [9 3 1]\n"
     ]
    }
   ],
   "source": [
    "def make_observation_into_gamestate(obs):\n",
    "    # own is first, then next player, then final player\n",
    "    new_obs = obs.astype(int)\n",
    "    print(\"Player to move coins: {}\".format(new_obs[0]))\n",
    "    print(\"Player to move cards: {}\".format(new_obs[1:4]))\n",
    "    print(\"Player to move can bid: {}\".format(bool(new_obs[4])))\n",
    "    print(\"Player to move current bid: {}\".format(new_obs[5]))\n",
    "    print(\"Player to move coins on fold: {}\".format(new_obs[6]))\n",
    "    print(\"Player to move achieved card on fold: {}\".format(new_obs[7]))\n",
    "    print(\"Player to move moving order if all folds now: {}\".format(new_obs[8]))\n",
    "    print(\"Next player coins: {}\".format(new_obs[9]))\n",
    "    print(\"Next player cards: {}\".format(new_obs[10:13]))\n",
    "    print(\"Next player can bid: {}\".format(bool(new_obs[13])))\n",
    "    print(\"Next player current bid: {}\".format(new_obs[14]))\n",
    "    print(\"Next player coins on fold: {}\".format(new_obs[15]))\n",
    "    print(\"Next player achieved card on fold: {}\".format(new_obs[16]))\n",
    "    print(\"Next player moving order if all folds now: {}\".format(new_obs[17]))\n",
    "    print(\"Final player coins: {}\".format(new_obs[18]))\n",
    "    print(\"Final player cards: {}\".format(new_obs[19:22]))\n",
    "    print(\"Final player can bid: {}\".format(bool(new_obs[22])))\n",
    "    print(\"Final player current bid: {}\".format(new_obs[23]))\n",
    "    print(\"Final player coins on fold: {}\".format(new_obs[24]))\n",
    "    print(\"Final player card on fold: {}\".format(new_obs[25]))\n",
    "    print(\"Final player moving order if all folds now: {}\".format(new_obs[26]))\n",
    "    print(\"Current stack: {}\".format(new_obs[27:38]))\n",
    "    print(\"Current board {}\".format(new_obs[38:41]))\n",
    "    \n",
    "    \n",
    "    \n",
    "    \n",
    "    \n",
    "    \n",
    "    \n",
    "    \n",
    "\n",
    "make_observation_into_gamestate(ret_obs)"
   ]
  },
  {
   "cell_type": "code",
   "execution_count": 79,
   "id": "447c0b2c-3ab9-4484-9d8c-2c6dca38f59d",
   "metadata": {},
   "outputs": [
    {
     "data": {
      "text/plain": [
       "101"
      ]
     },
     "execution_count": 79,
     "metadata": {},
     "output_type": "execute_result"
    }
   ],
   "source": []
  }
 ],
 "metadata": {
  "kernelspec": {
   "display_name": "Python 3 (ipykernel)",
   "language": "python",
   "name": "python3"
  },
  "language_info": {
   "codemirror_mode": {
    "name": "ipython",
    "version": 3
   },
   "file_extension": ".py",
   "mimetype": "text/x-python",
   "name": "python",
   "nbconvert_exporter": "python",
   "pygments_lexer": "ipython3",
   "version": "3.8.12"
  }
 },
 "nbformat": 4,
 "nbformat_minor": 5
}
